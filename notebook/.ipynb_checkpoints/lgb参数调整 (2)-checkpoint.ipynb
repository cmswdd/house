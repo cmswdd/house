{
 "cells": [
  {
   "cell_type": "code",
   "execution_count": 1,
   "metadata": {},
   "outputs": [],
   "source": [
    "import datetime\n",
    "import gc\n",
    "import lightgbm as lgb\n",
    "import matplotlib.pyplot as plt\n",
    "import numpy as np\n",
    "import os\n",
    "import pandas as pd\n",
    "import seaborn as sns\n",
    "import time\n",
    "import warnings\n",
    "\n",
    "from contextlib import contextmanager\n",
    "from pandas.core.common import SettingWithCopyWarning\n",
    "from sklearn.metrics import mean_squared_error\n",
    "from sklearn.model_selection import KFold, StratifiedKFold\n",
    "\n",
    "warnings.simplefilter(action='ignore', category=SettingWithCopyWarning)\n",
    "warnings.simplefilter(action='ignore', category=FutureWarning)\n",
    "\n",
    "\n",
    "FEATS_EXCLUDED = [\n",
    "    \"ID\",\"tradeMoney\"\n",
    "    ]\n",
    "@contextmanager\n",
    "def timer(title):\n",
    "    t0 = time.time()\n",
    "    yield\n",
    "    print(\"{} - done in {:.0f}s\".format(title, time.time() - t0))\n",
    "\n",
    "# rmse\n",
    "def rmse(y_true, y_pred):\n",
    "    return np.sqrt(mean_squared_error(y_true, y_pred))\n",
    "\n",
    "# Display/plot feature importance\n",
    "def display_importances(feature_importance_df_):\n",
    "    cols = feature_importance_df_[[\"feature\", \"importance\"]].groupby(\"feature\").mean().sort_values(by=\"importance\", ascending=False)[:40].index\n",
    "    best_features = feature_importance_df_.loc[feature_importance_df_.feature.isin(cols)]\n",
    "\n",
    "    plt.figure(figsize=(8, 10))\n",
    "    sns.barplot(x=\"importance\", y=\"feature\", data=best_features.sort_values(by=\"importance\", ascending=False))\n",
    "    plt.title('LightGBM Features (avg over folds)')\n",
    "    plt.tight_layout()\n",
    "    plt.savefig('lgbm_importances.png')\n",
    "\n",
    "# reduce memory\n",
    "def reduce_mem_usage(df, verbose=True):\n",
    "    numerics = ['int16', 'int32', 'int64', 'float16', 'float32', 'float64']\n",
    "    start_mem = df.memory_usage().sum() / 1024**2\n",
    "    for col in df.columns:\n",
    "        col_type = df[col].dtypes\n",
    "        if col_type in numerics:\n",
    "            c_min = df[col].min()\n",
    "            c_max = df[col].max()\n",
    "            if str(col_type)[:3] == 'int':\n",
    "                if c_min > np.iinfo(np.int8).min and c_max < np.iinfo(np.int8).max:\n",
    "                    df[col] = df[col].astype(np.int8)\n",
    "                elif c_min > np.iinfo(np.int16).min and c_max < np.iinfo(np.int16).max:\n",
    "                    df[col] = df[col].astype(np.int16)\n",
    "                elif c_min > np.iinfo(np.int32).min and c_max < np.iinfo(np.int32).max:\n",
    "                    df[col] = df[col].astype(np.int32)\n",
    "                elif c_min > np.iinfo(np.int64).min and c_max < np.iinfo(np.int64).max:\n",
    "                    df[col] = df[col].astype(np.int64)\n",
    "            else:\n",
    "                if c_min > np.finfo(np.float16).min and c_max < np.finfo(np.float16).max:\n",
    "                    df[col] = df[col].astype(np.float16)\n",
    "                elif c_min > np.finfo(np.float32).min and c_max < np.finfo(np.float32).max:\n",
    "                    df[col] = df[col].astype(np.float32)\n",
    "                else:\n",
    "                    df[col] = df[col].astype(np.float64)\n",
    "\n",
    "    end_mem = df.memory_usage().sum() / 1024**2\n",
    "    print('Memory usage after optimization is: {:.2f} MB'.format(end_mem))\n",
    "    print('Decreased by {:.1f}%'.format(100 * (start_mem - end_mem) / start_mem))\n",
    "\n",
    "    return df\n",
    "    \n",
    "\n",
    "\n"
   ]
  },
  {
   "cell_type": "code",
   "execution_count": 2,
   "metadata": {},
   "outputs": [
    {
     "name": "stderr",
     "output_type": "stream",
     "text": [
      "Using TensorFlow backend.\n"
     ]
    }
   ],
   "source": [
    "import lightgbm as lgb\n",
    "import numpy as np\n",
    "import sklearn.datasets\n",
    "import sklearn.metrics\n",
    "from sklearn.model_selection import train_test_split\n",
    "\n",
    "import optuna\n",
    "\n",
    "FEATS_EXCLUDED = [\n",
    "    \"ID\",\"tradeMoney\"\n",
    "    ]\n",
    "\n",
    "\n",
    "def rmse(y_true, y_pred):\n",
    "    return np.sqrt(mean_squared_error(y_true, y_pred))\n",
    "\n",
    "def objective(trial):\n",
    "        num_folds = 11\n",
    "        \n",
    "        train_x, train_y = train_df[feats], train_df['tradeMoney']\n",
    "        #data, target = sklearn.datasets.load_breast_cancer(return_X_y=True)\n",
    "        '''dtrain = lgb.Dataset(train_x, label=train_y)'''\n",
    "        \n",
    "       \n",
    "        lgbm_train = lgb.Dataset(train_x,\n",
    "                                 train_y,\n",
    "                                  free_raw_data=False\n",
    "                                  )\n",
    "\n",
    "        params = {'objective': 'regression',\n",
    "                  'metric': 'rmse',\n",
    "                  'verbosity': -1,\n",
    "                  \"learning_rate\": trial.suggest_uniform('learning_rate', 0.001, 1),\n",
    "                  \n",
    "                  'device': 'gpu',\n",
    "                  'gpu_platform_id': 1,\n",
    "                  'gpu_device_id': 0,\n",
    "                  'num_thread' : 1,\n",
    "                  'sparse_threshold' : 1,\n",
    "                  \n",
    "                  'seed': 2779,\n",
    "                  #'boosting_type': trial.suggest_categorical('boosting', ['gbdt',  'goss']),\n",
    "                  'num_leaves': trial.suggest_int('num_leaves', 16, 200),\n",
    "                  #'colsample_bytree': trial.suggest_uniform('colsample_bytree', 0.001, 1),\n",
    "                  'subsample': trial.suggest_uniform('subsample', 0.001, 1),\n",
    "                  'max_depth': trial.suggest_int('max_depth', 5, 20),\n",
    "                  'reg_alpha': trial.suggest_uniform('reg_alpha', 0, 10),\n",
    "                  # 'reg_lambda': trial.suggest_uniform('reg_lambda', 0, 10),\n",
    "                  #'min_split_gain': trial.suggest_uniform('min_split_gain', 0, 10),\n",
    "                  #'min_child_weight': trial.suggest_uniform('min_child_weight', 0, 45),\n",
    "                  #'min_data_in_leaf': trial.suggest_int('min_data_in_leaf', 16, 64)\n",
    "                  \n",
    "                  'min_child_samples' : trial.suggest_int('min_child_samples', 1, 200),\n",
    "                  #'num_iterations': trial.suggest_uniform('num_iterations', 1, 5000),\n",
    "                  'feature_fraction' : trial.suggest_uniform('feature_fraction', 0.001, 1),\n",
    "                  #'random_state': trial.suggest_int('random_state', 1, 5000),\n",
    "                  #'max_bin' :  trial.suggest_int('random_state', 1, 256)\n",
    "                  }\n",
    "\n",
    "        '''if params['boosting_type'] == 'dart':\n",
    "            params['drop_rate'] = trial.suggest_loguniform('drop_rate', 1e-8, 1.0)\n",
    "            params['skip_drop'] = trial.suggest_loguniform('skip_drop', 1e-8, 1.0)\n",
    "        if params['boosting_type'] == 'goss':\n",
    "            params['top_rate'] = trial.suggest_uniform('top_rate', 0.0, 1.0)\n",
    "            params['other_rate'] = trial.suggest_uniform('other_rate', 0.0, 1.0 - params['top_rate'])'''\n",
    "\n",
    "\n",
    "        folds = StratifiedKFold(n_splits= num_folds, shuffle=True, random_state=47)\n",
    "        #folds = KFold(n_splits= num_folds, shuffle=True, random_state=47)\n",
    "\n",
    "\n",
    "        clf = lgb.cv(\n",
    "                        params,\n",
    "                        lgbm_train,\n",
    "                        metrics=['rmse'],\n",
    "                        nfold=num_folds,\n",
    "                        folds=folds.split(train_df[feats], train_y),\n",
    "                        num_boost_round=10000,\n",
    "                        early_stopping_rounds= 200,\n",
    "                        verbose_eval=100,\n",
    "                        seed=47\n",
    "            \n",
    "                         )\n",
    "        gc.collect()\n",
    "        return clf['rmse-mean'][-1]\n",
    "\n",
    "        \n",
    "        '''gbm = lgb.train(params, dtrain)\n",
    "        preds = gbm.predict(train_x)\n",
    "        pred_labels = np.rint(preds)\n",
    "        error =  rmse(train_y,preds)\n",
    "        #accuracy = sklearn.metrics.accuracy_score(test_y, pred_labels)\n",
    "        return error'''"
   ]
  },
  {
   "cell_type": "code",
   "execution_count": null,
   "metadata": {
    "scrolled": false
   },
   "outputs": [
    {
     "name": "stdout",
     "output_type": "stream",
     "text": [
      "Memory usage after optimization is: 8.02 MB\n",
      "Decreased by 79.9%\n"
     ]
    },
    {
     "name": "stderr",
     "output_type": "stream",
     "text": [
      "C:\\Anaconda3\\lib\\site-packages\\ipykernel_launcher.py:64: RuntimeWarning:\n",
      "\n",
      "invalid value encountered in less\n",
      "\n",
      "C:\\Anaconda3\\lib\\site-packages\\ipykernel_launcher.py:66: RuntimeWarning:\n",
      "\n",
      "invalid value encountered in less\n",
      "\n"
     ]
    },
    {
     "name": "stdout",
     "output_type": "stream",
     "text": [
      "Memory usage after optimization is: 0.49 MB\n",
      "Decreased by 79.5%\n",
      "[100]\tcv_agg's rmse: 1830.47 + 221.329\n",
      "[200]\tcv_agg's rmse: 1822.52 + 224.13\n",
      "[300]\tcv_agg's rmse: 1831.01 + 223.989\n"
     ]
    },
    {
     "name": "stderr",
     "output_type": "stream",
     "text": [
      "[I 2019-05-03 18:15:05,836] Finished a trial resulted in value: 1819.9285587762408. Current best value is 1819.9285587762408 with parameters: {'learning_rate': 0.49270692192479093, 'num_leaves': 117, 'subsample': 0.06135738612430636, 'max_depth': 15, 'reg_alpha': 7.275640557014434, 'min_child_samples': 129, 'feature_fraction': 0.5888781953053324}.\n"
     ]
    },
    {
     "name": "stdout",
     "output_type": "stream",
     "text": [
      "[100]\tcv_agg's rmse: 1830.77 + 240.349\n",
      "[200]\tcv_agg's rmse: 1819.57 + 241.693\n",
      "[300]\tcv_agg's rmse: 1818.67 + 243.978\n"
     ]
    },
    {
     "name": "stderr",
     "output_type": "stream",
     "text": [
      "[I 2019-05-03 18:17:12,877] Finished a trial resulted in value: 1817.9602558042657. Current best value is 1817.9602558042657 with parameters: {'learning_rate': 0.4852614153045456, 'num_leaves': 186, 'subsample': 0.18437151711306854, 'max_depth': 12, 'reg_alpha': 5.980476242800617, 'min_child_samples': 147, 'feature_fraction': 0.3521357680958038}.\n"
     ]
    },
    {
     "name": "stdout",
     "output_type": "stream",
     "text": [
      "[100]\tcv_agg's rmse: 1943.78 + 278.005\n",
      "[200]\tcv_agg's rmse: 1899.36 + 268.52\n",
      "[300]\tcv_agg's rmse: 1875.62 + 265.004\n",
      "[400]\tcv_agg's rmse: 1857.26 + 259.659\n",
      "[500]\tcv_agg's rmse: 1842.8 + 256.36\n",
      "[600]\tcv_agg's rmse: 1827.79 + 257.722\n",
      "[700]\tcv_agg's rmse: 1818.15 + 256.839\n",
      "[800]\tcv_agg's rmse: 1809.35 + 256.205\n",
      "[900]\tcv_agg's rmse: 1801.14 + 254.649\n",
      "[1000]\tcv_agg's rmse: 1795.1 + 254.886\n",
      "[1100]\tcv_agg's rmse: 1790.85 + 254.673\n",
      "[1200]\tcv_agg's rmse: 1786.8 + 253.539\n",
      "[1300]\tcv_agg's rmse: 1783.58 + 252.159\n",
      "[1400]\tcv_agg's rmse: 1781.13 + 251.517\n",
      "[1500]\tcv_agg's rmse: 1779.55 + 251.152\n",
      "[1600]\tcv_agg's rmse: 1776.62 + 250.626\n",
      "[1700]\tcv_agg's rmse: 1774.92 + 250.083\n",
      "[1800]\tcv_agg's rmse: 1772.54 + 249.5\n",
      "[1900]\tcv_agg's rmse: 1771.2 + 249.075\n",
      "[2000]\tcv_agg's rmse: 1770.3 + 248.053\n",
      "[2100]\tcv_agg's rmse: 1769.78 + 247.814\n",
      "[2200]\tcv_agg's rmse: 1768.23 + 247.875\n",
      "[2300]\tcv_agg's rmse: 1768.04 + 247.904\n",
      "[2400]\tcv_agg's rmse: 1768.43 + 246.956\n",
      "[2500]\tcv_agg's rmse: 1768.28 + 247.211\n"
     ]
    },
    {
     "name": "stderr",
     "output_type": "stream",
     "text": [
      "[I 2019-05-03 18:29:02,450] Finished a trial resulted in value: 1767.628006467349. Current best value is 1767.628006467349 with parameters: {'learning_rate': 0.05862360736755637, 'num_leaves': 138, 'subsample': 0.870131620972996, 'max_depth': 14, 'reg_alpha': 3.063891009647791, 'min_child_samples': 194, 'feature_fraction': 0.6964648543003573}.\n"
     ]
    },
    {
     "name": "stdout",
     "output_type": "stream",
     "text": [
      "[100]\tcv_agg's rmse: 1884.42 + 246.21\n",
      "[200]\tcv_agg's rmse: 1897.53 + 233.01\n"
     ]
    },
    {
     "name": "stderr",
     "output_type": "stream",
     "text": [
      "[I 2019-05-03 18:30:28,590] Finished a trial resulted in value: 1879.4773531170222. Current best value is 1767.628006467349 with parameters: {'learning_rate': 0.05862360736755637, 'num_leaves': 138, 'subsample': 0.870131620972996, 'max_depth': 14, 'reg_alpha': 3.063891009647791, 'min_child_samples': 194, 'feature_fraction': 0.6964648543003573}.\n"
     ]
    },
    {
     "name": "stdout",
     "output_type": "stream",
     "text": [
      "[100]\tcv_agg's rmse: 1811.06 + 206.845\n",
      "[200]\tcv_agg's rmse: 1818.6 + 204.979\n"
     ]
    },
    {
     "name": "stderr",
     "output_type": "stream",
     "text": [
      "[I 2019-05-03 18:33:07,911] Finished a trial resulted in value: 1792.4304248070607. Current best value is 1767.628006467349 with parameters: {'learning_rate': 0.05862360736755637, 'num_leaves': 138, 'subsample': 0.870131620972996, 'max_depth': 14, 'reg_alpha': 3.063891009647791, 'min_child_samples': 194, 'feature_fraction': 0.6964648543003573}.\n"
     ]
    },
    {
     "name": "stdout",
     "output_type": "stream",
     "text": [
      "[100]\tcv_agg's rmse: 1978.97 + 261.343\n",
      "[200]\tcv_agg's rmse: 2002.49 + 260.961\n"
     ]
    },
    {
     "name": "stderr",
     "output_type": "stream",
     "text": [
      "[I 2019-05-03 18:33:52,749] Finished a trial resulted in value: 1954.6332837877571. Current best value is 1767.628006467349 with parameters: {'learning_rate': 0.05862360736755637, 'num_leaves': 138, 'subsample': 0.870131620972996, 'max_depth': 14, 'reg_alpha': 3.063891009647791, 'min_child_samples': 194, 'feature_fraction': 0.6964648543003573}.\n"
     ]
    },
    {
     "name": "stdout",
     "output_type": "stream",
     "text": [
      "[100]\tcv_agg's rmse: 1862.04 + 231.854\n",
      "[200]\tcv_agg's rmse: 1866.59 + 231.945\n",
      "[300]\tcv_agg's rmse: 1880.83 + 220.236\n"
     ]
    },
    {
     "name": "stderr",
     "output_type": "stream",
     "text": [
      "[I 2019-05-03 18:36:10,715] Finished a trial resulted in value: 1853.0758815899667. Current best value is 1767.628006467349 with parameters: {'learning_rate': 0.05862360736755637, 'num_leaves': 138, 'subsample': 0.870131620972996, 'max_depth': 14, 'reg_alpha': 3.063891009647791, 'min_child_samples': 194, 'feature_fraction': 0.6964648543003573}.\n"
     ]
    },
    {
     "name": "stdout",
     "output_type": "stream",
     "text": [
      "[100]\tcv_agg's rmse: 1834.11 + 231.825\n",
      "[200]\tcv_agg's rmse: 1820.15 + 238.079\n",
      "[300]\tcv_agg's rmse: 1818.29 + 247.141\n",
      "[400]\tcv_agg's rmse: 1817.95 + 247.244\n"
     ]
    },
    {
     "name": "stderr",
     "output_type": "stream",
     "text": [
      "[I 2019-05-03 18:37:41,815] Finished a trial resulted in value: 1815.803506321727. Current best value is 1767.628006467349 with parameters: {'learning_rate': 0.05862360736755637, 'num_leaves': 138, 'subsample': 0.870131620972996, 'max_depth': 14, 'reg_alpha': 3.063891009647791, 'min_child_samples': 194, 'feature_fraction': 0.6964648543003573}.\n"
     ]
    },
    {
     "name": "stdout",
     "output_type": "stream",
     "text": [
      "[100]\tcv_agg's rmse: 1832.85 + 261.603\n",
      "[200]\tcv_agg's rmse: 1784.41 + 256.204\n",
      "[300]\tcv_agg's rmse: 1763.03 + 257.854\n",
      "[400]\tcv_agg's rmse: 1755.83 + 256.621\n",
      "[500]\tcv_agg's rmse: 1747.2 + 257.828\n",
      "[600]\tcv_agg's rmse: 1745.19 + 257.4\n",
      "[700]\tcv_agg's rmse: 1741.14 + 257.368\n",
      "[800]\tcv_agg's rmse: 1740.95 + 257.137\n",
      "[900]\tcv_agg's rmse: 1740.45 + 257.423\n",
      "[1000]\tcv_agg's rmse: 1738.61 + 259.739\n",
      "[1100]\tcv_agg's rmse: 1737.83 + 258.473\n",
      "[1200]\tcv_agg's rmse: 1735.38 + 259.831\n",
      "[1300]\tcv_agg's rmse: 1735.26 + 261.066\n",
      "[1400]\tcv_agg's rmse: 1735.67 + 260.723\n",
      "[1500]\tcv_agg's rmse: 1736.56 + 262.019\n"
     ]
    },
    {
     "name": "stderr",
     "output_type": "stream",
     "text": [
      "[I 2019-05-03 18:42:05,045] Finished a trial resulted in value: 1734.846463355695. Current best value is 1734.846463355695 with parameters: {'learning_rate': 0.17881979064177356, 'num_leaves': 46, 'subsample': 0.9978268563372821, 'max_depth': 8, 'reg_alpha': 7.454941069878741, 'min_child_samples': 97, 'feature_fraction': 0.12463278069928373}.\n"
     ]
    },
    {
     "name": "stdout",
     "output_type": "stream",
     "text": [
      "[100]\tcv_agg's rmse: 1866.08 + 246.22\n",
      "[200]\tcv_agg's rmse: 1891.32 + 247.348\n"
     ]
    },
    {
     "name": "stderr",
     "output_type": "stream",
     "text": [
      "[I 2019-05-03 18:44:17,365] Finished a trial resulted in value: 1850.1527797803822. Current best value is 1734.846463355695 with parameters: {'learning_rate': 0.17881979064177356, 'num_leaves': 46, 'subsample': 0.9978268563372821, 'max_depth': 8, 'reg_alpha': 7.454941069878741, 'min_child_samples': 97, 'feature_fraction': 0.12463278069928373}.\n"
     ]
    },
    {
     "name": "stdout",
     "output_type": "stream",
     "text": [
      "[100]\tcv_agg's rmse: 2567.72 + 347.784\n",
      "[200]\tcv_agg's rmse: 2381.03 + 304.936\n",
      "[300]\tcv_agg's rmse: 2369.72 + 304.162\n",
      "[400]\tcv_agg's rmse: 2337.24 + 297.877\n",
      "[500]\tcv_agg's rmse: 2329.38 + 299.425\n",
      "[600]\tcv_agg's rmse: 2327.39 + 299.164\n",
      "[700]\tcv_agg's rmse: 2275.4 + 273.545\n",
      "[800]\tcv_agg's rmse: 2264.43 + 270.677\n",
      "[900]\tcv_agg's rmse: 2261.72 + 274.52\n",
      "[1000]\tcv_agg's rmse: 2249.45 + 265.777\n",
      "[1100]\tcv_agg's rmse: 2242.69 + 262.029\n",
      "[1200]\tcv_agg's rmse: 2238.55 + 263.354\n",
      "[1300]\tcv_agg's rmse: 2237.84 + 264.303\n",
      "[1400]\tcv_agg's rmse: 2234.92 + 264.191\n",
      "[1500]\tcv_agg's rmse: 2233.91 + 265.981\n",
      "[1600]\tcv_agg's rmse: 2234.05 + 265.929\n",
      "[1700]\tcv_agg's rmse: 2231.96 + 262.484\n",
      "[1800]\tcv_agg's rmse: 2231.09 + 264.141\n",
      "[1900]\tcv_agg's rmse: 2229.12 + 262.155\n",
      "[2000]\tcv_agg's rmse: 2228.82 + 263.135\n",
      "[2100]\tcv_agg's rmse: 2225.8 + 256.992\n",
      "[2200]\tcv_agg's rmse: 2223.83 + 259.407\n",
      "[2300]\tcv_agg's rmse: 2222.63 + 257.195\n",
      "[2400]\tcv_agg's rmse: 2222.38 + 258.682\n",
      "[2500]\tcv_agg's rmse: 2221.46 + 256.607\n",
      "[2600]\tcv_agg's rmse: 2220.87 + 259.282\n",
      "[2700]\tcv_agg's rmse: 2220.45 + 254.756\n",
      "[2800]\tcv_agg's rmse: 2220.34 + 255.317\n",
      "[2900]\tcv_agg's rmse: 2219.51 + 256.415\n",
      "[3000]\tcv_agg's rmse: 2219.13 + 256.609\n",
      "[3100]\tcv_agg's rmse: 2218.89 + 256.592\n",
      "[3200]\tcv_agg's rmse: 2218.49 + 256.784\n",
      "[3300]\tcv_agg's rmse: 2218.39 + 257.225\n",
      "[3400]\tcv_agg's rmse: 2218.55 + 257.222\n"
     ]
    },
    {
     "name": "stderr",
     "output_type": "stream",
     "text": [
      "[I 2019-05-03 18:48:53,863] Finished a trial resulted in value: 2218.328664992939. Current best value is 1734.846463355695 with parameters: {'learning_rate': 0.17881979064177356, 'num_leaves': 46, 'subsample': 0.9978268563372821, 'max_depth': 8, 'reg_alpha': 7.454941069878741, 'min_child_samples': 97, 'feature_fraction': 0.12463278069928373}.\n"
     ]
    },
    {
     "name": "stdout",
     "output_type": "stream",
     "text": [
      "[100]\tcv_agg's rmse: 1765.21 + 255.397\n",
      "[200]\tcv_agg's rmse: 1719.56 + 257.745\n",
      "[300]\tcv_agg's rmse: 1706.67 + 258.755\n",
      "[400]\tcv_agg's rmse: 1699.7 + 260.558\n",
      "[500]\tcv_agg's rmse: 1695.71 + 259.247\n",
      "[600]\tcv_agg's rmse: 1690.38 + 259.582\n",
      "[700]\tcv_agg's rmse: 1689.64 + 259.708\n",
      "[800]\tcv_agg's rmse: 1690.72 + 259.171\n",
      "[900]\tcv_agg's rmse: 1691.1 + 259.891\n"
     ]
    },
    {
     "name": "stderr",
     "output_type": "stream",
     "text": [
      "[I 2019-05-03 18:50:33,004] Finished a trial resulted in value: 1688.6450527079637. Current best value is 1688.6450527079637 with parameters: {'learning_rate': 0.22866654403153341, 'num_leaves': 20, 'subsample': 0.9957784621109629, 'max_depth': 8, 'reg_alpha': 9.868225889521092, 'min_child_samples': 41, 'feature_fraction': 0.13471443204294722}.\n"
     ]
    },
    {
     "name": "stdout",
     "output_type": "stream",
     "text": [
      "[100]\tcv_agg's rmse: 2489.57 + 327.818\n",
      "[200]\tcv_agg's rmse: 2324.79 + 284.308\n",
      "[300]\tcv_agg's rmse: 2316.03 + 283.705\n",
      "[400]\tcv_agg's rmse: 2278.84 + 276.023\n",
      "[500]\tcv_agg's rmse: 2271.93 + 275.854\n",
      "[600]\tcv_agg's rmse: 2269.62 + 274.687\n",
      "[700]\tcv_agg's rmse: 2226.27 + 253.156\n",
      "[800]\tcv_agg's rmse: 2216.95 + 252.247\n",
      "[900]\tcv_agg's rmse: 2215.48 + 255.383\n",
      "[1000]\tcv_agg's rmse: 2205.42 + 248.528\n",
      "[1100]\tcv_agg's rmse: 2199.85 + 246.21\n",
      "[1200]\tcv_agg's rmse: 2196.54 + 247.915\n",
      "[1300]\tcv_agg's rmse: 2196.08 + 248.869\n",
      "[1400]\tcv_agg's rmse: 2193.7 + 249.083\n",
      "[1500]\tcv_agg's rmse: 2193.6 + 250.638\n",
      "[1600]\tcv_agg's rmse: 2193.82 + 250.961\n"
     ]
    },
    {
     "name": "stderr",
     "output_type": "stream",
     "text": [
      "[I 2019-05-03 18:53:19,139] Finished a trial resulted in value: 2193.470641302518. Current best value is 1688.6450527079637 with parameters: {'learning_rate': 0.22866654403153341, 'num_leaves': 20, 'subsample': 0.9957784621109629, 'max_depth': 8, 'reg_alpha': 9.868225889521092, 'min_child_samples': 41, 'feature_fraction': 0.13471443204294722}.\n"
     ]
    },
    {
     "name": "stdout",
     "output_type": "stream",
     "text": [
      "[100]\tcv_agg's rmse: 2138.97 + 191.173\n",
      "[200]\tcv_agg's rmse: 2148.85 + 198.052\n"
     ]
    },
    {
     "name": "stderr",
     "output_type": "stream",
     "text": [
      "[I 2019-05-03 18:54:45,964] Finished a trial resulted in value: 2132.810822936255. Current best value is 1688.6450527079637 with parameters: {'learning_rate': 0.22866654403153341, 'num_leaves': 20, 'subsample': 0.9957784621109629, 'max_depth': 8, 'reg_alpha': 9.868225889521092, 'min_child_samples': 41, 'feature_fraction': 0.13471443204294722}.\n"
     ]
    },
    {
     "name": "stdout",
     "output_type": "stream",
     "text": [
      "[100]\tcv_agg's rmse: 3088.53 + 342.303\n",
      "[200]\tcv_agg's rmse: 2473.22 + 326.038\n",
      "[300]\tcv_agg's rmse: 2172.64 + 309.826\n",
      "[400]\tcv_agg's rmse: 2019.65 + 292.667\n",
      "[500]\tcv_agg's rmse: 1945.74 + 280.563\n",
      "[600]\tcv_agg's rmse: 1902.63 + 271.308\n",
      "[700]\tcv_agg's rmse: 1874.88 + 266.57\n",
      "[800]\tcv_agg's rmse: 1857.66 + 264.826\n",
      "[900]\tcv_agg's rmse: 1846.3 + 263.577\n",
      "[1000]\tcv_agg's rmse: 1835.55 + 263.041\n",
      "[1100]\tcv_agg's rmse: 1826.89 + 263.047\n",
      "[1200]\tcv_agg's rmse: 1819.26 + 262.858\n",
      "[1300]\tcv_agg's rmse: 1812.53 + 263.367\n",
      "[1400]\tcv_agg's rmse: 1805.78 + 263.244\n",
      "[1500]\tcv_agg's rmse: 1800.17 + 262.846\n",
      "[1600]\tcv_agg's rmse: 1794.66 + 262.889\n",
      "[1700]\tcv_agg's rmse: 1789.76 + 263.315\n",
      "[1800]\tcv_agg's rmse: 1785.51 + 263.904\n",
      "[1900]\tcv_agg's rmse: 1781.88 + 264.13\n",
      "[2000]\tcv_agg's rmse: 1778.5 + 264.216\n",
      "[2100]\tcv_agg's rmse: 1775.32 + 264.492\n",
      "[2200]\tcv_agg's rmse: 1772.93 + 264.885\n",
      "[2300]\tcv_agg's rmse: 1770.21 + 265.35\n",
      "[2400]\tcv_agg's rmse: 1767.91 + 265.59\n",
      "[2500]\tcv_agg's rmse: 1766.19 + 265.285\n",
      "[2600]\tcv_agg's rmse: 1764.26 + 264.981\n",
      "[2700]\tcv_agg's rmse: 1763.12 + 265.303\n",
      "[2800]\tcv_agg's rmse: 1761.42 + 265.805\n",
      "[2900]\tcv_agg's rmse: 1760.09 + 266.276\n",
      "[3000]\tcv_agg's rmse: 1758.82 + 266.666\n",
      "[3100]\tcv_agg's rmse: 1757.32 + 267.048\n",
      "[3200]\tcv_agg's rmse: 1756.19 + 267.01\n",
      "[3300]\tcv_agg's rmse: 1754.97 + 267.269\n",
      "[3400]\tcv_agg's rmse: 1753.89 + 267.489\n",
      "[3500]\tcv_agg's rmse: 1753.08 + 267.725\n",
      "[3600]\tcv_agg's rmse: 1752.09 + 267.922\n",
      "[3700]\tcv_agg's rmse: 1750.84 + 267.93\n",
      "[3800]\tcv_agg's rmse: 1749.67 + 268.216\n",
      "[3900]\tcv_agg's rmse: 1748.97 + 268.33\n",
      "[4000]\tcv_agg's rmse: 1748.27 + 268.358\n",
      "[4100]\tcv_agg's rmse: 1747.46 + 268.284\n",
      "[4200]\tcv_agg's rmse: 1746.7 + 268.115\n",
      "[4300]\tcv_agg's rmse: 1746.29 + 268.287\n",
      "[4400]\tcv_agg's rmse: 1745.89 + 268.337\n",
      "[4500]\tcv_agg's rmse: 1745.41 + 268.489\n",
      "[4600]\tcv_agg's rmse: 1744.75 + 268.45\n",
      "[4700]\tcv_agg's rmse: 1744.45 + 268.617\n",
      "[4800]\tcv_agg's rmse: 1743.69 + 268.625\n",
      "[4900]\tcv_agg's rmse: 1742.71 + 268.876\n",
      "[5000]\tcv_agg's rmse: 1741.99 + 268.742\n",
      "[5100]\tcv_agg's rmse: 1741.1 + 268.566\n",
      "[5200]\tcv_agg's rmse: 1740.68 + 268.495\n",
      "[5300]\tcv_agg's rmse: 1740.32 + 268.465\n",
      "[5400]\tcv_agg's rmse: 1739.81 + 268.622\n",
      "[5500]\tcv_agg's rmse: 1739.19 + 268.868\n",
      "[5600]\tcv_agg's rmse: 1738.94 + 269.027\n",
      "[5700]\tcv_agg's rmse: 1738.55 + 269.098\n",
      "[5800]\tcv_agg's rmse: 1738.25 + 268.79\n",
      "[5900]\tcv_agg's rmse: 1737.58 + 269.078\n",
      "[6000]\tcv_agg's rmse: 1737.1 + 269.36\n",
      "[6100]\tcv_agg's rmse: 1736.79 + 269.674\n",
      "[6200]\tcv_agg's rmse: 1736.38 + 269.887\n",
      "[6300]\tcv_agg's rmse: 1736.2 + 270.092\n",
      "[6400]\tcv_agg's rmse: 1735.86 + 270.553\n",
      "[6500]\tcv_agg's rmse: 1735.39 + 270.785\n",
      "[6600]\tcv_agg's rmse: 1735.21 + 270.711\n",
      "[6700]\tcv_agg's rmse: 1734.92 + 270.757\n",
      "[6800]\tcv_agg's rmse: 1734.45 + 270.928\n",
      "[6900]\tcv_agg's rmse: 1734.25 + 270.786\n",
      "[7000]\tcv_agg's rmse: 1733.99 + 270.922\n",
      "[7100]\tcv_agg's rmse: 1733.6 + 271.151\n",
      "[7200]\tcv_agg's rmse: 1733.2 + 271.104\n",
      "[7300]\tcv_agg's rmse: 1732.84 + 271.195\n",
      "[7400]\tcv_agg's rmse: 1732.59 + 271.191\n",
      "[7500]\tcv_agg's rmse: 1732.3 + 271.275\n",
      "[7600]\tcv_agg's rmse: 1732.2 + 271.376\n",
      "[7700]\tcv_agg's rmse: 1731.9 + 271.56\n",
      "[7800]\tcv_agg's rmse: 1731.5 + 271.6\n",
      "[7900]\tcv_agg's rmse: 1730.95 + 271.805\n",
      "[8000]\tcv_agg's rmse: 1730.54 + 271.826\n",
      "[8100]\tcv_agg's rmse: 1730.03 + 272.036\n",
      "[8200]\tcv_agg's rmse: 1729.67 + 272.004\n",
      "[8300]\tcv_agg's rmse: 1729.29 + 271.897\n",
      "[8400]\tcv_agg's rmse: 1728.92 + 271.83\n",
      "[8500]\tcv_agg's rmse: 1728.54 + 271.751\n",
      "[8600]\tcv_agg's rmse: 1727.94 + 271.824\n",
      "[8700]\tcv_agg's rmse: 1727.64 + 271.8\n",
      "[8800]\tcv_agg's rmse: 1727.31 + 271.953\n",
      "[8900]\tcv_agg's rmse: 1727 + 272.201\n",
      "[9000]\tcv_agg's rmse: 1726.5 + 272.607\n",
      "[9100]\tcv_agg's rmse: 1726.1 + 272.779\n",
      "[9200]\tcv_agg's rmse: 1725.97 + 272.845\n",
      "[9300]\tcv_agg's rmse: 1725.68 + 272.871\n",
      "[9400]\tcv_agg's rmse: 1724.98 + 272.993\n",
      "[9500]\tcv_agg's rmse: 1724.77 + 273.214\n",
      "[9600]\tcv_agg's rmse: 1724.53 + 273.307\n",
      "[9700]\tcv_agg's rmse: 1724.39 + 273.557\n",
      "[9800]\tcv_agg's rmse: 1724.08 + 274.018\n",
      "[9900]\tcv_agg's rmse: 1723.88 + 274.203\n",
      "[10000]\tcv_agg's rmse: 1723.43 + 274.57\n"
     ]
    },
    {
     "name": "stderr",
     "output_type": "stream",
     "text": [
      "[I 2019-05-03 19:10:22,053] Finished a trial resulted in value: 1723.4257406093127. Current best value is 1688.6450527079637 with parameters: {'learning_rate': 0.22866654403153341, 'num_leaves': 20, 'subsample': 0.9957784621109629, 'max_depth': 8, 'reg_alpha': 9.868225889521092, 'min_child_samples': 41, 'feature_fraction': 0.13471443204294722}.\n"
     ]
    },
    {
     "name": "stdout",
     "output_type": "stream",
     "text": [
      "[100]\tcv_agg's rmse: 1708.58 + 235.579\n",
      "[200]\tcv_agg's rmse: 1719.45 + 238.797\n"
     ]
    },
    {
     "name": "stderr",
     "output_type": "stream",
     "text": [
      "[I 2019-05-03 19:11:42,870] Finished a trial resulted in value: 1702.5196036388436. Current best value is 1688.6450527079637 with parameters: {'learning_rate': 0.22866654403153341, 'num_leaves': 20, 'subsample': 0.9957784621109629, 'max_depth': 8, 'reg_alpha': 9.868225889521092, 'min_child_samples': 41, 'feature_fraction': 0.13471443204294722}.\n"
     ]
    },
    {
     "name": "stdout",
     "output_type": "stream",
     "text": [
      "[100]\tcv_agg's rmse: 2914.81 + 371.386\n",
      "[200]\tcv_agg's rmse: 2613.74 + 342.628\n",
      "[300]\tcv_agg's rmse: 2588.2 + 341.314\n",
      "[400]\tcv_agg's rmse: 2502.85 + 325.491\n",
      "[500]\tcv_agg's rmse: 2482.8 + 321.613\n",
      "[600]\tcv_agg's rmse: 2476.19 + 318.659\n",
      "[700]\tcv_agg's rmse: 2367.19 + 285.434\n",
      "[800]\tcv_agg's rmse: 2337.62 + 274.605\n",
      "[900]\tcv_agg's rmse: 2331.92 + 276.036\n",
      "[1000]\tcv_agg's rmse: 2305.62 + 265.712\n",
      "[1100]\tcv_agg's rmse: 2286.71 + 256.663\n",
      "[1200]\tcv_agg's rmse: 2277.84 + 255.829\n",
      "[1300]\tcv_agg's rmse: 2275.73 + 257.511\n",
      "[1400]\tcv_agg's rmse: 2267.72 + 253.717\n",
      "[1500]\tcv_agg's rmse: 2264.37 + 256.655\n",
      "[1600]\tcv_agg's rmse: 2264.06 + 256.185\n",
      "[1700]\tcv_agg's rmse: 2258.71 + 252.94\n",
      "[1800]\tcv_agg's rmse: 2255.87 + 254.413\n",
      "[1900]\tcv_agg's rmse: 2250.26 + 251.906\n",
      "[2000]\tcv_agg's rmse: 2248.95 + 253.164\n",
      "[2100]\tcv_agg's rmse: 2239.57 + 245.486\n",
      "[2200]\tcv_agg's rmse: 2235.46 + 246.174\n",
      "[2300]\tcv_agg's rmse: 2230.52 + 243.565\n",
      "[2400]\tcv_agg's rmse: 2229.15 + 245.904\n",
      "[2500]\tcv_agg's rmse: 2225.1 + 243.143\n",
      "[2600]\tcv_agg's rmse: 2222.98 + 245.961\n",
      "[2700]\tcv_agg's rmse: 2217.75 + 239.986\n",
      "[2800]\tcv_agg's rmse: 2217.06 + 241.152\n",
      "[2900]\tcv_agg's rmse: 2214.65 + 242.038\n",
      "[3000]\tcv_agg's rmse: 2213.55 + 241.495\n",
      "[3100]\tcv_agg's rmse: 2212.11 + 241.4\n",
      "[3200]\tcv_agg's rmse: 2210.32 + 242.173\n",
      "[3300]\tcv_agg's rmse: 2210.18 + 243.063\n",
      "[3400]\tcv_agg's rmse: 2210.29 + 243.151\n",
      "[3500]\tcv_agg's rmse: 2210.22 + 243.878\n",
      "[3600]\tcv_agg's rmse: 2209.39 + 242.458\n",
      "[3700]\tcv_agg's rmse: 2207.47 + 240.752\n",
      "[3800]\tcv_agg's rmse: 2206.28 + 241.002\n",
      "[3900]\tcv_agg's rmse: 2206.08 + 241.567\n",
      "[4000]\tcv_agg's rmse: 2204.92 + 239.883\n",
      "[4100]\tcv_agg's rmse: 2204.39 + 239.263\n",
      "[4200]\tcv_agg's rmse: 2203.21 + 237.672\n",
      "[4300]\tcv_agg's rmse: 2202.97 + 238.642\n",
      "[4400]\tcv_agg's rmse: 2202.68 + 238.388\n",
      "[4500]\tcv_agg's rmse: 2201.86 + 240.673\n",
      "[4600]\tcv_agg's rmse: 2201.86 + 240.89\n",
      "[4700]\tcv_agg's rmse: 2201.61 + 241.478\n",
      "[4800]\tcv_agg's rmse: 2200.84 + 241.068\n",
      "[4900]\tcv_agg's rmse: 2200.93 + 241.155\n"
     ]
    },
    {
     "name": "stderr",
     "output_type": "stream",
     "text": [
      "[I 2019-05-03 19:26:24,493] Finished a trial resulted in value: 2200.811776782481. Current best value is 1688.6450527079637 with parameters: {'learning_rate': 0.22866654403153341, 'num_leaves': 20, 'subsample': 0.9957784621109629, 'max_depth': 8, 'reg_alpha': 9.868225889521092, 'min_child_samples': 41, 'feature_fraction': 0.13471443204294722}.\n"
     ]
    },
    {
     "name": "stdout",
     "output_type": "stream",
     "text": [
      "[100]\tcv_agg's rmse: 1734.97 + 276.639\n",
      "[200]\tcv_agg's rmse: 1739.19 + 281.361\n"
     ]
    },
    {
     "name": "stderr",
     "output_type": "stream",
     "text": [
      "[I 2019-05-03 19:27:49,088] Finished a trial resulted in value: 1733.2856047438179. Current best value is 1688.6450527079637 with parameters: {'learning_rate': 0.22866654403153341, 'num_leaves': 20, 'subsample': 0.9957784621109629, 'max_depth': 8, 'reg_alpha': 9.868225889521092, 'min_child_samples': 41, 'feature_fraction': 0.13471443204294722}.\n"
     ]
    },
    {
     "name": "stdout",
     "output_type": "stream",
     "text": [
      "[100]\tcv_agg's rmse: 1745.13 + 256.728\n",
      "[200]\tcv_agg's rmse: 1726.48 + 261.016\n",
      "[300]\tcv_agg's rmse: 1729.8 + 259.67\n",
      "[400]\tcv_agg's rmse: 1734.02 + 260.444\n"
     ]
    },
    {
     "name": "stderr",
     "output_type": "stream",
     "text": [
      "[I 2019-05-03 19:29:39,733] Finished a trial resulted in value: 1726.169869322052. Current best value is 1688.6450527079637 with parameters: {'learning_rate': 0.22866654403153341, 'num_leaves': 20, 'subsample': 0.9957784621109629, 'max_depth': 8, 'reg_alpha': 9.868225889521092, 'min_child_samples': 41, 'feature_fraction': 0.13471443204294722}.\n"
     ]
    },
    {
     "name": "stdout",
     "output_type": "stream",
     "text": [
      "[100]\tcv_agg's rmse: 1664.79 + 265.284\n",
      "[200]\tcv_agg's rmse: 1644.82 + 271.055\n",
      "[300]\tcv_agg's rmse: 1642.13 + 270.313\n",
      "[400]\tcv_agg's rmse: 1643.26 + 269.665\n"
     ]
    },
    {
     "name": "stderr",
     "output_type": "stream",
     "text": [
      "[I 2019-05-03 19:31:15,570] Finished a trial resulted in value: 1641.2956560628452. Current best value is 1641.2956560628452 with parameters: {'learning_rate': 0.18438863677094752, 'num_leaves': 31, 'subsample': 0.1677431439514822, 'max_depth': 19, 'reg_alpha': 9.997096271883615, 'min_child_samples': 11, 'feature_fraction': 0.44828931711093994}.\n"
     ]
    },
    {
     "name": "stdout",
     "output_type": "stream",
     "text": [
      "[100]\tcv_agg's rmse: 1670.81 + 261.375\n",
      "[200]\tcv_agg's rmse: 1640.5 + 260.65\n",
      "[300]\tcv_agg's rmse: 1628.91 + 261.421\n",
      "[400]\tcv_agg's rmse: 1628.22 + 257.843\n",
      "[500]\tcv_agg's rmse: 1627.16 + 257.8\n",
      "[600]\tcv_agg's rmse: 1627.11 + 258.105\n",
      "[700]\tcv_agg's rmse: 1628.8 + 256.106\n"
     ]
    },
    {
     "name": "stderr",
     "output_type": "stream",
     "text": [
      "[I 2019-05-03 19:33:22,933] Finished a trial resulted in value: 1626.8348485570662. Current best value is 1626.8348485570662 with parameters: {'learning_rate': 0.1720677189131099, 'num_leaves': 22, 'subsample': 0.010889034872792802, 'max_depth': 15, 'reg_alpha': 5.635813618197853, 'min_child_samples': 22, 'feature_fraction': 0.8014494088951707}.\n"
     ]
    },
    {
     "name": "stdout",
     "output_type": "stream",
     "text": [
      "[100]\tcv_agg's rmse: 1847.28 + 259.33\n",
      "[200]\tcv_agg's rmse: 1808.05 + 257.458\n",
      "[300]\tcv_agg's rmse: 1783.25 + 257.521\n",
      "[400]\tcv_agg's rmse: 1767.88 + 257.139\n",
      "[500]\tcv_agg's rmse: 1754.4 + 258.714\n",
      "[600]\tcv_agg's rmse: 1745.14 + 260.209\n",
      "[700]\tcv_agg's rmse: 1738.74 + 259.693\n",
      "[800]\tcv_agg's rmse: 1732.83 + 260.731\n",
      "[900]\tcv_agg's rmse: 1727.94 + 261.626\n",
      "[1000]\tcv_agg's rmse: 1724.27 + 260.819\n",
      "[1100]\tcv_agg's rmse: 1720.94 + 260.877\n",
      "[1200]\tcv_agg's rmse: 1717.97 + 260.926\n",
      "[1300]\tcv_agg's rmse: 1716.51 + 261.115\n",
      "[1400]\tcv_agg's rmse: 1713.06 + 261.432\n",
      "[1500]\tcv_agg's rmse: 1711.74 + 261.566\n",
      "[1600]\tcv_agg's rmse: 1710.1 + 261.246\n",
      "[1700]\tcv_agg's rmse: 1710.19 + 259.841\n",
      "[1800]\tcv_agg's rmse: 1710.2 + 261.439\n"
     ]
    },
    {
     "name": "stderr",
     "output_type": "stream",
     "text": [
      "[I 2019-05-03 19:41:22,468] Finished a trial resulted in value: 1709.3994911272466. Current best value is 1626.8348485570662 with parameters: {'learning_rate': 0.1720677189131099, 'num_leaves': 22, 'subsample': 0.010889034872792802, 'max_depth': 15, 'reg_alpha': 5.635813618197853, 'min_child_samples': 22, 'feature_fraction': 0.8014494088951707}.\n"
     ]
    },
    {
     "name": "stdout",
     "output_type": "stream",
     "text": [
      "[100]\tcv_agg's rmse: 1732.44 + 264.148\n",
      "[200]\tcv_agg's rmse: 1724.51 + 272.545\n",
      "[300]\tcv_agg's rmse: 1723.26 + 279.853\n",
      "[400]\tcv_agg's rmse: 1730.79 + 287.177\n"
     ]
    },
    {
     "name": "stderr",
     "output_type": "stream",
     "text": [
      "[I 2019-05-03 19:44:46,697] Finished a trial resulted in value: 1721.366093257936. Current best value is 1626.8348485570662 with parameters: {'learning_rate': 0.1720677189131099, 'num_leaves': 22, 'subsample': 0.010889034872792802, 'max_depth': 15, 'reg_alpha': 5.635813618197853, 'min_child_samples': 22, 'feature_fraction': 0.8014494088951707}.\n"
     ]
    },
    {
     "name": "stdout",
     "output_type": "stream",
     "text": [
      "[100]\tcv_agg's rmse: 2192.13 + 305.788\n",
      "[200]\tcv_agg's rmse: 1795.56 + 282.723\n",
      "[300]\tcv_agg's rmse: 1700.73 + 277.258\n",
      "[400]\tcv_agg's rmse: 1668.52 + 273.808\n",
      "[500]\tcv_agg's rmse: 1650.75 + 273.141\n",
      "[600]\tcv_agg's rmse: 1637.46 + 272.765\n",
      "[700]\tcv_agg's rmse: 1631.47 + 273.377\n",
      "[800]\tcv_agg's rmse: 1627.16 + 274.13\n",
      "[900]\tcv_agg's rmse: 1625.38 + 275.223\n",
      "[1000]\tcv_agg's rmse: 1623.63 + 276.86\n",
      "[1100]\tcv_agg's rmse: 1621.78 + 278.183\n",
      "[1200]\tcv_agg's rmse: 1620.2 + 279.581\n",
      "[1300]\tcv_agg's rmse: 1618.69 + 280.171\n",
      "[1400]\tcv_agg's rmse: 1618.01 + 280.371\n",
      "[1500]\tcv_agg's rmse: 1617.6 + 280.414\n",
      "[1600]\tcv_agg's rmse: 1617.45 + 280.167\n",
      "[1700]\tcv_agg's rmse: 1617.11 + 280.42\n",
      "[1800]\tcv_agg's rmse: 1616.88 + 280.75\n",
      "[1900]\tcv_agg's rmse: 1616.83 + 280.805\n"
     ]
    },
    {
     "name": "stderr",
     "output_type": "stream",
     "text": [
      "[I 2019-05-03 20:03:04,457] Finished a trial resulted in value: 1616.7800024164223. Current best value is 1616.7800024164223 with parameters: {'learning_rate': 0.013388185191395452, 'num_leaves': 96, 'subsample': 0.06377104141997114, 'max_depth': 19, 'reg_alpha': 7.065061679081701, 'min_child_samples': 19, 'feature_fraction': 0.5420159242912438}.\n"
     ]
    },
    {
     "name": "stdout",
     "output_type": "stream",
     "text": [
      "[100]\tcv_agg's rmse: 3187.42 + 339.955\n"
     ]
    }
   ],
   "source": [
    "with timer(\"split train & test\"):\n",
    "        train_df = reduce_mem_usage(pd.read_csv('train_clean4.csv',encoding='gbk'))\n",
    "        test_df = reduce_mem_usage(pd.read_csv('test_clean4.csv',encoding='gbk'))\n",
    "        \n",
    "        train_df = train_df[train_df.tradeMoney < 100000]\n",
    "        train_df = train_df[train_df.tradeMoney > 500]\n",
    "\n",
    "        train_df = train_df[train_df.area < 2500]\n",
    "       \n",
    "        feature_importance_df = pd.DataFrame()\n",
    "        feats = [f for f in train_df.columns if f not in FEATS_EXCLUDED]\n",
    "        \n",
    "        study = optuna.create_study()\n",
    "        study.optimize(objective, n_trials=1000)\n",
    "\n",
    "        print('Number of finished trials: {}'.format(len(study.trials)))\n",
    "\n",
    "        print('Best trial:')\n",
    "        trial = study.best_trial\n",
    "\n",
    "        print('  Value: {}'.format(trial.value))\n",
    "\n",
    "        print('  Params: ')\n",
    "        for key, value in trial.params.items():\n",
    "            print('    {}: {}'.format(key, value))\n",
    "        \n",
    "        hist_df = study.trials_dataframe()\n",
    "        hist_df.to_csv(\"optuna_result_lgbm.csv\")\n",
    "\n",
    "        del df\n",
    "        gc.collect()"
   ]
  },
  {
   "cell_type": "code",
   "execution_count": null,
   "metadata": {},
   "outputs": [],
   "source": []
  },
  {
   "cell_type": "code",
   "execution_count": null,
   "metadata": {},
   "outputs": [],
   "source": []
  }
 ],
 "metadata": {
  "kernelspec": {
   "display_name": "Python 3",
   "language": "python",
   "name": "python3"
  },
  "language_info": {
   "codemirror_mode": {
    "name": "ipython",
    "version": 3
   },
   "file_extension": ".py",
   "mimetype": "text/x-python",
   "name": "python",
   "nbconvert_exporter": "python",
   "pygments_lexer": "ipython3",
   "version": "3.6.5"
  }
 },
 "nbformat": 4,
 "nbformat_minor": 2
}
