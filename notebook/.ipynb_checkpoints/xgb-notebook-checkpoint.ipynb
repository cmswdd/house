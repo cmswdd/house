{
 "cells": [
  {
   "cell_type": "code",
   "execution_count": 0,
   "metadata": {
    "colab": {
     "base_uri": "https://localhost:8080/",
     "height": 121
    },
    "colab_type": "code",
    "executionInfo": {
     "elapsed": 88673,
     "status": "ok",
     "timestamp": 1554467642986,
     "user": {
      "displayName": "ming cai",
      "photoUrl": "",
      "userId": "16669819074314856193"
     },
     "user_tz": -480
    },
    "id": "_7nxdtoTlgpd",
    "outputId": "049cc4b2-e3a5-4e4c-98e4-8ea2cf46405d"
   },
   "outputs": [
    {
     "name": "stdout",
     "output_type": "stream",
     "text": [
      "E: Package 'python-software-properties' has no installation candidate\n",
      "Please, open the following URL in a web browser: https://accounts.google.com/o/oauth2/auth?client_id=32555940559.apps.googleusercontent.com&redirect_uri=urn%3Aietf%3Awg%3Aoauth%3A2.0%3Aoob&scope=https%3A%2F%2Fwww.googleapis.com%2Fauth%2Fdrive&response_type=code&access_type=offline&approval_prompt=force\n",
      "··········\n",
      "Please, open the following URL in a web browser: https://accounts.google.com/o/oauth2/auth?client_id=32555940559.apps.googleusercontent.com&redirect_uri=urn%3Aietf%3Awg%3Aoauth%3A2.0%3Aoob&scope=https%3A%2F%2Fwww.googleapis.com%2Fauth%2Fdrive&response_type=code&access_type=offline&approval_prompt=force\n",
      "Please enter the verification code: Access token retrieved correctly.\n"
     ]
    }
   ],
   "source": [
    "!apt-get install -y -qq software-properties-common python-software-properties module-init-tools\n",
    "!add-apt-repository -y ppa:alessandro-strada/ppa 2>&1 > /dev/null\n",
    "!apt-get update -qq 2>&1 > /dev/null\n",
    "!apt-get -y install -qq google-drive-ocamlfuse fuse\n",
    "from google.colab import auth\n",
    "auth.authenticate_user()\n",
    "from oauth2client.client import GoogleCredentials\n",
    "creds = GoogleCredentials.get_application_default()\n",
    "import getpass\n",
    "!google-drive-ocamlfuse -headless -id={creds.client_id} -secret={creds.client_secret} < /dev/null 2>&1 | grep URL\n",
    "vcode = getpass.getpass()\n",
    "!echo {vcode} | google-drive-ocamlfuse -headless -id={creds.client_id} -secret={creds.client_secret}"
   ]
  },
  {
   "cell_type": "code",
   "execution_count": 0,
   "metadata": {
    "colab": {
     "base_uri": "https://localhost:8080/",
     "height": 605
    },
    "colab_type": "code",
    "executionInfo": {
     "elapsed": 94929,
     "status": "ok",
     "timestamp": 1554467649261,
     "user": {
      "displayName": "ming cai",
      "photoUrl": "",
      "userId": "16669819074314856193"
     },
     "user_tz": -480
    },
    "id": "OQC8z-vIq3W_",
    "outputId": "a121fcaa-64c6-447c-c38c-01e289bd8f49"
   },
   "outputs": [
    {
     "name": "stdout",
     "output_type": "stream",
     "text": [
      " 9016-lgb-2-leaves-augment.ipynb\n",
      " beginner-explained-lgb-2-leaves-augment.ipynb\n",
      " Cat_oof.csv\n",
      " Cat_sub.csv\n",
      " eda-pca-simple-lgbm-on-kfold-technique.ipynb\n",
      " lgb-2-leaves-augment.ipynb\n",
      " lgb_all_predictions.csv\n",
      " lgbm_importances.png\n",
      " lgb_oof.csv\n",
      " lgb_sub.csv\n",
      " lgb-test.ipynb\n",
      " lgb_test_oof.csv\n",
      " lgb_test_sub.csv\n",
      "'model-stacking-ensemble .ipynb'\n",
      " nn.ipynb\n",
      " nn_oof.csv\n",
      " nn_sub.csv\n",
      " rank701-lgb_sub_preds.csv\n",
      " santander-ctp-xgboost-w-statistical-features.py\n",
      " simple-blender-of-0-901-solutions.ipynb\n",
      " stacking_oof.csv\n",
      " stacking_sub.csv\n",
      " subm_0.897082_XGB_2019-04-02-14-23.csv\n",
      " submission.csv\n",
      " test_clean1.csv\n",
      " test_clean2.csv\n",
      " train_clean1.csv\n",
      " train_clean2.csv\n",
      " xgb-2-leaves-augment.ipynb\n",
      " xgb-notebook.ipynb\n",
      " xgb_oof2.0_preds.csv\n",
      " xgb_oof_preds.csv\n",
      " xgboost-0.81-py2.py3-none-manylinux1_x86_64.whl\n",
      " xgb_sub2.0_preds.csv\n",
      " xgb-with-k-fold.py\n"
     ]
    }
   ],
   "source": [
    "!mkdir -p drive\n",
    "!google-drive-ocamlfuse drive\n",
    "\n",
    "# 指定当前的工作目录\n",
    "import os\n",
    " \n",
    "# 此处为google drive中的文件路径,drive为之前指定的工作根目录，要加上\n",
    "os.chdir(\"drive/jupyter_notebook/second_kaggle/santander-customer-transaction-prediction/代码\")\n",
    "!ls"
   ]
  },
  {
   "cell_type": "code",
   "execution_count": 0,
   "metadata": {
    "colab": {
     "base_uri": "https://localhost:8080/",
     "height": 202
    },
    "colab_type": "code",
    "executionInfo": {
     "elapsed": 124587,
     "status": "ok",
     "timestamp": 1554467678936,
     "user": {
      "displayName": "ming cai",
      "photoUrl": "",
      "userId": "16669819074314856193"
     },
     "user_tz": -480
    },
    "id": "AhGVaA1SoXL8",
    "outputId": "cd0b1b33-1097-47c5-e810-c1508eb01d53"
   },
   "outputs": [
    {
     "name": "stdout",
     "output_type": "stream",
     "text": [
      "Uninstalling xgboost-0.7.post4:\n",
      "  Would remove:\n",
      "    /usr/local/lib/python3.6/dist-packages/xgboost-0.7.post4-py3.6.egg-info\n",
      "    /usr/local/lib/python3.6/dist-packages/xgboost/*\n",
      "Proceed (y/n)? y\n",
      "  Successfully uninstalled xgboost-0.7.post4\n",
      "Processing ./xgboost-0.81-py2.py3-none-manylinux1_x86_64.whl\n",
      "Requirement already satisfied: scipy in /usr/local/lib/python3.6/dist-packages (from xgboost==0.81) (1.1.0)\n",
      "Requirement already satisfied: numpy in /usr/local/lib/python3.6/dist-packages (from xgboost==0.81) (1.14.6)\n",
      "Installing collected packages: xgboost\n",
      "Successfully installed xgboost-0.81\n"
     ]
    }
   ],
   "source": [
    "!pip uninstall xgboost\n",
    "!pip install xgboost-0.81-py2.py3-none-manylinux1_x86_64.whl"
   ]
  },
  {
   "cell_type": "code",
   "execution_count": 0,
   "metadata": {
    "colab": {},
    "colab_type": "code",
    "id": "ePIJDQlYlgpg"
   },
   "outputs": [],
   "source": [
    "import numpy as np\n",
    "import pandas as pd\n",
    "import xgboost as xgb\n",
    "\n",
    "from sklearn.base import TransformerMixin\n",
    "from sklearn.metrics import roc_auc_score\n",
    "from sklearn.model_selection import StratifiedKFold\n",
    "from sklearn.preprocessing import StandardScaler\n",
    "from sklearn.preprocessing import QuantileTransformer\n",
    "\n",
    "import warnings\n",
    "import time\n",
    "warnings.simplefilter(action='ignore', category=FutureWarning)\n",
    "warnings.filterwarnings('ignore')\n"
   ]
  },
  {
   "cell_type": "code",
   "execution_count": 0,
   "metadata": {
    "colab": {},
    "colab_type": "code",
    "id": "fS-aNLHSlgpj"
   },
   "outputs": [],
   "source": [
    "# ***********************************\n",
    "# * CONST                           *\n",
    "# ***********************************\n",
    "NUMBER_OF_FOLDS = 5\n",
    "# ***********************************\n",
    "\n",
    "\n",
    "def train_pred_xgb(model_params, train_x, train_y, valid_x, valid_y, test_x=None, verbose=True):\n",
    "    train_data = xgb.DMatrix(data=train_x, label=train_y)\n",
    "    valid_data = xgb.DMatrix(data=valid_x, label=valid_y)\n",
    "\n",
    "    watchlist = [(train_data, 'train'), (valid_data, 'valid_data')]\n",
    "\n",
    "    tr_model = xgb.train(\n",
    "        dtrain=train_data,\n",
    "        num_boost_round=100000,\n",
    "        evals=watchlist,\n",
    "        early_stopping_rounds=4000,\n",
    "        verbose_eval=2000,\n",
    "        params=model_params)\n",
    "\n",
    "\n",
    "    y_valid_pred = tr_model.predict(xgb.DMatrix(valid_x), ntree_limit=tr_model.best_ntree_limit)\n",
    "\n",
    "\n",
    "    if verbose:\n",
    "        model_score = roc_auc_score(valid_y, y_valid_pred)\n",
    "        print('XGB ROC AUC: {:07.6f}'.format(round(model_score, 6)))\n",
    "\n",
    "    if test_x is not None:\n",
    "        y_test_pred = tr_model.predict(xgb.DMatrix(test_x), ntree_limit=tr_model.best_ntree_limit)\n",
    "        return y_valid_pred, y_test_pred\n",
    "    else:\n",
    "        return y_valid_pred\n"
   ]
  },
  {
   "cell_type": "code",
   "execution_count": 0,
   "metadata": {
    "colab": {},
    "colab_type": "code",
    "id": "3s5w2iD3rMaY"
   },
   "outputs": [],
   "source": [
    "train = pd.read_csv(\"train_clean3.csv\")\n",
    "test = pd.read_csv(\"test_clean3.csv\")"
   ]
  },
  {
   "cell_type": "markdown",
   "metadata": {
    "colab_type": "text",
    "id": "WQVVYUd-s5dT"
   },
   "source": []
  },
  {
   "cell_type": "code",
   "execution_count": 1,
   "metadata": {
    "colab": {
     "base_uri": "https://localhost:8080/",
     "height": 280
    },
    "colab_type": "code",
    "executionInfo": {
     "elapsed": 1676,
     "status": "error",
     "timestamp": 1554516380661,
     "user": {
      "displayName": "ming cai",
      "photoUrl": "",
      "userId": "16669819074314856193"
     },
     "user_tz": -480
    },
    "id": "Zq9S4pM1lgpm",
    "outputId": "a7628f16-3ab0-4b2a-9aa1-b549bfce3611"
   },
   "outputs": [
    {
     "name": "stdout",
     "output_type": "stream",
     "text": [
      "+------------+\n",
      "| Let's go!  |\n",
      "+------------+\n"
     ]
    },
    {
     "ename": "NameError",
     "evalue": "ignored",
     "output_type": "error",
     "traceback": [
      "\u001b[0;31m---------------------------------------------------------------------------\u001b[0m",
      "\u001b[0;31mNameError\u001b[0m                                 Traceback (most recent call last)",
      "\u001b[0;32m<ipython-input-1-dd7065835b55>\u001b[0m in \u001b[0;36m<module>\u001b[0;34m()\u001b[0m\n\u001b[1;32m      5\u001b[0m \u001b[0;34m\u001b[0m\u001b[0m\n\u001b[1;32m      6\u001b[0m \u001b[0;34m\u001b[0m\u001b[0m\n\u001b[0;32m----> 7\u001b[0;31m \u001b[0mprint\u001b[0m\u001b[0;34m(\u001b[0m\u001b[0;34m\"Train shape : \"\u001b[0m\u001b[0;34m,\u001b[0m \u001b[0mtrain\u001b[0m\u001b[0;34m.\u001b[0m\u001b[0mshape\u001b[0m\u001b[0;34m)\u001b[0m\u001b[0;34m\u001b[0m\u001b[0;34m\u001b[0m\u001b[0m\n\u001b[0m\u001b[1;32m      8\u001b[0m \u001b[0mprint\u001b[0m\u001b[0;34m(\u001b[0m\u001b[0;34m\"Test shape : \"\u001b[0m\u001b[0;34m,\u001b[0m \u001b[0mtest\u001b[0m\u001b[0;34m.\u001b[0m\u001b[0mshape\u001b[0m\u001b[0;34m)\u001b[0m\u001b[0;34m\u001b[0m\u001b[0;34m\u001b[0m\u001b[0m\n\u001b[1;32m      9\u001b[0m \u001b[0;34m\u001b[0m\u001b[0m\n",
      "\u001b[0;31mNameError\u001b[0m: name 'train' is not defined"
     ]
    }
   ],
   "source": [
    "print('+------------+')\n",
    "print('| Let\\'s go!  |')\n",
    "print('+------------+')\n",
    "\n",
    "\n",
    "\n",
    "print(\"Train shape : \", train.shape)\n",
    "print(\"Test shape : \", test.shape)\n",
    "\n",
    "oof = train[['ID_code', 'target']]\n",
    "print(oof.size)\n",
    "oof['predict'] = 0\n",
    "\n",
    "y = train.target.reset_index(drop=True).values\n",
    "x = train.drop(['ID_code', 'target'], axis=1).values.astype('float64')\n",
    "x_test = test.drop(['ID_code'], axis=1).values.astype('float64')\n",
    "\n",
    "ss = StandardScaler()\n",
    "x = ss.fit_transform(x)\n",
    "x_test = ss.transform(x_test)\n",
    "\n",
    "qt = QuantileTransformer(output_distribution='normal')\n",
    "x = qt.fit_transform(x)\n",
    "x_test = qt.transform(x_test)\n",
    "\n",
    "spw = float(len(y[y == 1])) / float(len(y[y == 0]))\n",
    "print('scale_pos_weight: ' + str(spw))\n",
    "\n",
    "params_xgb = {\n",
    "    'eta': 0.02,\n",
    "    'max_depth': 1,\n",
    "    'subsample': 0.29,\n",
    "    'colsample_bytree': 0.04,\n",
    "    'lambda': 0.57,\n",
    "    'alpha': 0.08,\n",
    "    'min_child_weight': 5.45,\n",
    "    'max_delta_step': 1.53,\n",
    "    'scale_pos_weight': spw,\n",
    "    'tree_method': 'gpu_hist',\n",
    "    'objective': 'binary:logistic',\n",
    "    'eval_metric': 'auc',\n",
    "    'n_gpus': 1,\n",
    "    'verbosity': 0,\n",
    "    'silent': True\n",
    "}\n",
    "\n",
    "valid_scores = []\n",
    "test_meta = np.zeros(x_test.shape[0])\n",
    "\n",
    "\n",
    "splits = list(StratifiedKFold(n_splits=NUMBER_OF_FOLDS, shuffle=True, random_state=42).split(x, y))\n",
    "\n",
    "for idx, (train_idx, valid_idx) in enumerate(splits):\n",
    "    print('+-------------------------+')\n",
    "    print('| Fold: {:03d}               |'.format(idx + 1))\n",
    "    print('+-------------------------+')\n",
    "    \n",
    "    x_train = x[train_idx]\n",
    "    y_train = y[train_idx]\n",
    "    x_valid = x[valid_idx]\n",
    "    y_valid = y[valid_idx]\n",
    "    \n",
    "    pred_val_y, pred_test_y = train_pred_xgb(params_xgb, x_train, y_train, x_valid, y_valid, x_test)\n",
    "    \n",
    "    oof['predict'][valid_idx] = pred_val_y / len(splits)\n",
    "    \n",
    "    valid_scores.append(roc_auc_score(y_valid, pred_val_y))\n",
    "    \n",
    "    test_meta += pred_test_y.reshape(-1) / len(splits)\n",
    "\n",
    "oof.to_csv(\"xgb_oof3.0_preds.csv\", index=False)\n",
    "np.savetxt(\"xgb_sub3.0_preds.csv\",test_meta, delimiter=\",\")\n",
    "\n",
    "auc_score = np.asarray(valid_scores, dtype='float64').mean()\n",
    "\n",
    "print('+-----------------------------+')\n",
    "print('| ROC AUC SCORE: {:07.6f} |'.format(round(auc_score, 6)))\n",
    "print('+-----------------------------+')\n",
    "\n",
    "samp = pd.read_csv(\"../input/sample_submission.csv\")\n",
    "\n",
    "out_df = pd.DataFrame(columns=['ID_code', 'target'])\n",
    "out_df['ID_code'] = samp[\"ID_code\"].values\n",
    "out_df['target'] = test_meta\n",
    "out_df.to_csv(\"xgb_sub3.0.csv\", index=False)\n",
    "\n"
   ]
  }
 ],
 "metadata": {
  "accelerator": "GPU",
  "colab": {
   "collapsed_sections": [],
   "name": "xgb-notebook.ipynb",
   "provenance": [],
   "version": "0.3.2"
  },
  "kernelspec": {
   "display_name": "Python 3",
   "language": "python",
   "name": "python3"
  },
  "language_info": {
   "codemirror_mode": {
    "name": "ipython",
    "version": 3
   },
   "file_extension": ".py",
   "mimetype": "text/x-python",
   "name": "python",
   "nbconvert_exporter": "python",
   "pygments_lexer": "ipython3",
   "version": "3.6.5"
  }
 },
 "nbformat": 4,
 "nbformat_minor": 1
}
