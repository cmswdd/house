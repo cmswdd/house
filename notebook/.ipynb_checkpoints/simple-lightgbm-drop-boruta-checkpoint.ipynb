{
 "cells": [
  {
   "cell_type": "code",
   "execution_count": 1,
   "metadata": {
    "scrolled": true
   },
   "outputs": [
    {
     "name": "stderr",
     "output_type": "stream",
     "text": [
      "Using TensorFlow backend.\n"
     ]
    }
   ],
   "source": [
    "import datetime\n",
    "import gc\n",
    "import lightgbm as lgb\n",
    "import matplotlib.pyplot as plt\n",
    "import numpy as np\n",
    "import os\n",
    "import pandas as pd\n",
    "import seaborn as sns\n",
    "import time\n",
    "import warnings\n",
    "\n",
    "from contextlib import contextmanager\n",
    "from pandas.core.common import SettingWithCopyWarning\n",
    "from sklearn.metrics import mean_squared_error\n",
    "from sklearn.model_selection import KFold, StratifiedKFold\n",
    "\n",
    "\n",
    "import lightgbm as lgb\n",
    "import numpy as np\n",
    "import sklearn.datasets\n",
    "import sklearn.metrics\n",
    "from sklearn.model_selection import train_test_split\n",
    "\n",
    "import optuna\n",
    "from scipy.stats import ks_2samp\n",
    "from tqdm import tqdm\n",
    "\n",
    "from lightgbm import LGBMRegressor\n",
    "from boruta import BorutaPy\n",
    "\n",
    "warnings.simplefilter(action='ignore', category=SettingWithCopyWarning)\n",
    "warnings.simplefilter(action='ignore', category=FutureWarning)\n",
    "\n",
    "\n",
    "@contextmanager\n",
    "def timer(title):\n",
    "    t0 = time.time()\n",
    "    yield\n",
    "    print(\"{} - done in {:.0f}s\".format(title, time.time() - t0))\n",
    "\n",
    "# rmse\n",
    "def rmse(y_true, y_pred):\n",
    "    return np.sqrt(mean_squared_error(y_true, y_pred))\n",
    "\n",
    "# One-hot encoding for categorical columns with get_dummies\n",
    "def one_hot_encoder(df, nan_as_category = True):\n",
    "    original_columns = list(df.columns)\n",
    "    categorical_columns = [col for col in df.columns if df[col].dtype == 'object']\n",
    "    df = pd.get_dummies(df, columns= categorical_columns, dummy_na= nan_as_category)\n",
    "    new_columns = [c for c in df.columns if c not in original_columns]\n",
    "    return df, new_columns\n",
    "    \n",
    "# Display/plot feature importance\n",
    "def display_importances(feature_importance_df_):\n",
    "    cols = feature_importance_df_[[\"feature\", \"importance\"]].groupby(\"feature\").mean().sort_values(by=\"importance\", ascending=False)[:40].index\n",
    "    best_features = feature_importance_df_.loc[feature_importance_df_.feature.isin(cols)]\n",
    "\n",
    "    plt.figure(figsize=(8, 10))\n",
    "    sns.barplot(x=\"importance\", y=\"feature\", data=best_features.sort_values(by=\"importance\", ascending=False))\n",
    "    plt.title('LightGBM Features (avg over folds)')\n",
    "    plt.tight_layout()\n",
    "    plt.savefig('lgbm_importances.png')\n",
    "\n",
    "# reduce memory\n",
    "def reduce_mem_usage(df, verbose=True):\n",
    "    numerics = ['int16', 'int32', 'int64', 'float16', 'float32', 'float64']\n",
    "    start_mem = df.memory_usage().sum() / 1024**2\n",
    "    for col in df.columns:\n",
    "        col_type = df[col].dtypes\n",
    "        if col_type in numerics:\n",
    "            c_min = df[col].min()\n",
    "            c_max = df[col].max()\n",
    "            if str(col_type)[:3] == 'int':\n",
    "                if c_min > np.iinfo(np.int8).min and c_max < np.iinfo(np.int8).max:\n",
    "                    df[col] = df[col].astype(np.int8)\n",
    "                elif c_min > np.iinfo(np.int16).min and c_max < np.iinfo(np.int16).max:\n",
    "                    df[col] = df[col].astype(np.int16)\n",
    "                elif c_min > np.iinfo(np.int32).min and c_max < np.iinfo(np.int32).max:\n",
    "                    df[col] = df[col].astype(np.int32)\n",
    "                elif c_min > np.iinfo(np.int64).min and c_max < np.iinfo(np.int64).max:\n",
    "                    df[col] = df[col].astype(np.int64)\n",
    "            else:\n",
    "                if c_min > np.finfo(np.float16).min and c_max < np.finfo(np.float16).max:\n",
    "                    df[col] = df[col].astype(np.float16)\n",
    "                elif c_min > np.finfo(np.float32).min and c_max < np.finfo(np.float32).max:\n",
    "                    df[col] = df[col].astype(np.float32)\n",
    "                else:\n",
    "                    df[col] = df[col].astype(np.float64)\n",
    "\n",
    "    end_mem = df.memory_usage().sum() / 1024**2\n",
    "    print('Memory usage after optimization is: {:.2f} MB'.format(end_mem))\n",
    "    print('Decreased by {:.1f}%'.format(100 * (start_mem - end_mem) / start_mem))\n",
    "\n",
    "    return df\n",
    "    "
   ]
  },
  {
   "cell_type": "code",
   "execution_count": 2,
   "metadata": {
    "scrolled": false
   },
   "outputs": [],
   "source": [
    "#train_df = pd.read_csv('train_clean.csv')\n",
    "\n",
    "train_df = pd.read_csv('train_clean3.csv')\n",
    "\n",
    "\n",
    "\n",
    "feats =  [col for col in train_df.columns if col not in ['target', 'ID_code']]"
   ]
  },
  {
   "cell_type": "code",
   "execution_count": 3,
   "metadata": {},
   "outputs": [],
   "source": [
    "random_state = 42\n",
    "np.random.seed(random_state)"
   ]
  },
  {
   "cell_type": "code",
   "execution_count": 4,
   "metadata": {},
   "outputs": [
    {
     "name": "stdout",
     "output_type": "stream",
     "text": [
      "Iteration: \t1 / 100\n",
      "Confirmed: \t0\n",
      "Tentative: \t208\n",
      "Rejected: \t0\n",
      "Iteration: \t2 / 100\n",
      "Confirmed: \t0\n",
      "Tentative: \t208\n",
      "Rejected: \t0\n",
      "Iteration: \t3 / 100\n",
      "Confirmed: \t0\n",
      "Tentative: \t208\n",
      "Rejected: \t0\n",
      "Iteration: \t4 / 100\n",
      "Confirmed: \t0\n",
      "Tentative: \t208\n",
      "Rejected: \t0\n",
      "Iteration: \t5 / 100\n",
      "Confirmed: \t0\n",
      "Tentative: \t208\n",
      "Rejected: \t0\n",
      "Iteration: \t6 / 100\n",
      "Confirmed: \t0\n",
      "Tentative: \t208\n",
      "Rejected: \t0\n",
      "Iteration: \t7 / 100\n",
      "Confirmed: \t0\n",
      "Tentative: \t208\n",
      "Rejected: \t0\n",
      "Iteration: \t8 / 100\n",
      "Confirmed: \t170\n",
      "Tentative: \t9\n",
      "Rejected: \t29\n"
     ]
    },
    {
     "name": "stderr",
     "output_type": "stream",
     "text": [
      "C:\\Anaconda3\\lib\\site-packages\\boruta\\boruta_py.py:419: RuntimeWarning:\n",
      "\n",
      "invalid value encountered in greater\n",
      "\n"
     ]
    },
    {
     "name": "stdout",
     "output_type": "stream",
     "text": [
      "Iteration: \t9 / 100\n",
      "Confirmed: \t170\n",
      "Tentative: \t9\n",
      "Rejected: \t29\n"
     ]
    },
    {
     "name": "stderr",
     "output_type": "stream",
     "text": [
      "C:\\Anaconda3\\lib\\site-packages\\boruta\\boruta_py.py:419: RuntimeWarning:\n",
      "\n",
      "invalid value encountered in greater\n",
      "\n"
     ]
    },
    {
     "name": "stdout",
     "output_type": "stream",
     "text": [
      "Iteration: \t10 / 100\n",
      "Confirmed: \t170\n",
      "Tentative: \t9\n",
      "Rejected: \t29\n"
     ]
    },
    {
     "name": "stderr",
     "output_type": "stream",
     "text": [
      "C:\\Anaconda3\\lib\\site-packages\\boruta\\boruta_py.py:419: RuntimeWarning:\n",
      "\n",
      "invalid value encountered in greater\n",
      "\n"
     ]
    },
    {
     "name": "stdout",
     "output_type": "stream",
     "text": [
      "Iteration: \t11 / 100\n",
      "Confirmed: \t170\n",
      "Tentative: \t9\n",
      "Rejected: \t29\n"
     ]
    },
    {
     "name": "stderr",
     "output_type": "stream",
     "text": [
      "C:\\Anaconda3\\lib\\site-packages\\boruta\\boruta_py.py:419: RuntimeWarning:\n",
      "\n",
      "invalid value encountered in greater\n",
      "\n"
     ]
    },
    {
     "name": "stdout",
     "output_type": "stream",
     "text": [
      "Iteration: \t12 / 100\n",
      "Confirmed: \t170\n",
      "Tentative: \t9\n",
      "Rejected: \t29\n"
     ]
    },
    {
     "name": "stderr",
     "output_type": "stream",
     "text": [
      "C:\\Anaconda3\\lib\\site-packages\\boruta\\boruta_py.py:419: RuntimeWarning:\n",
      "\n",
      "invalid value encountered in greater\n",
      "\n"
     ]
    },
    {
     "name": "stdout",
     "output_type": "stream",
     "text": [
      "Iteration: \t13 / 100\n",
      "Confirmed: \t170\n",
      "Tentative: \t9\n",
      "Rejected: \t29\n"
     ]
    },
    {
     "name": "stderr",
     "output_type": "stream",
     "text": [
      "C:\\Anaconda3\\lib\\site-packages\\boruta\\boruta_py.py:419: RuntimeWarning:\n",
      "\n",
      "invalid value encountered in greater\n",
      "\n"
     ]
    },
    {
     "name": "stdout",
     "output_type": "stream",
     "text": [
      "Iteration: \t14 / 100\n",
      "Confirmed: \t170\n",
      "Tentative: \t9\n",
      "Rejected: \t29\n"
     ]
    },
    {
     "name": "stderr",
     "output_type": "stream",
     "text": [
      "C:\\Anaconda3\\lib\\site-packages\\boruta\\boruta_py.py:419: RuntimeWarning:\n",
      "\n",
      "invalid value encountered in greater\n",
      "\n"
     ]
    },
    {
     "name": "stdout",
     "output_type": "stream",
     "text": [
      "Iteration: \t15 / 100\n",
      "Confirmed: \t170\n",
      "Tentative: \t9\n",
      "Rejected: \t29\n"
     ]
    },
    {
     "name": "stderr",
     "output_type": "stream",
     "text": [
      "C:\\Anaconda3\\lib\\site-packages\\boruta\\boruta_py.py:419: RuntimeWarning:\n",
      "\n",
      "invalid value encountered in greater\n",
      "\n"
     ]
    },
    {
     "name": "stdout",
     "output_type": "stream",
     "text": [
      "Iteration: \t16 / 100\n",
      "Confirmed: \t170\n",
      "Tentative: \t9\n",
      "Rejected: \t29\n"
     ]
    },
    {
     "name": "stderr",
     "output_type": "stream",
     "text": [
      "C:\\Anaconda3\\lib\\site-packages\\boruta\\boruta_py.py:419: RuntimeWarning:\n",
      "\n",
      "invalid value encountered in greater\n",
      "\n"
     ]
    },
    {
     "name": "stdout",
     "output_type": "stream",
     "text": [
      "Iteration: \t17 / 100\n",
      "Confirmed: \t170\n",
      "Tentative: \t9\n",
      "Rejected: \t29\n"
     ]
    },
    {
     "name": "stderr",
     "output_type": "stream",
     "text": [
      "C:\\Anaconda3\\lib\\site-packages\\boruta\\boruta_py.py:419: RuntimeWarning:\n",
      "\n",
      "invalid value encountered in greater\n",
      "\n"
     ]
    },
    {
     "name": "stdout",
     "output_type": "stream",
     "text": [
      "Iteration: \t18 / 100\n",
      "Confirmed: \t170\n",
      "Tentative: \t9\n",
      "Rejected: \t29\n"
     ]
    },
    {
     "name": "stderr",
     "output_type": "stream",
     "text": [
      "C:\\Anaconda3\\lib\\site-packages\\boruta\\boruta_py.py:419: RuntimeWarning:\n",
      "\n",
      "invalid value encountered in greater\n",
      "\n"
     ]
    },
    {
     "name": "stdout",
     "output_type": "stream",
     "text": [
      "Iteration: \t19 / 100\n",
      "Confirmed: \t172\n",
      "Tentative: \t7\n",
      "Rejected: \t29\n"
     ]
    },
    {
     "name": "stderr",
     "output_type": "stream",
     "text": [
      "C:\\Anaconda3\\lib\\site-packages\\boruta\\boruta_py.py:419: RuntimeWarning:\n",
      "\n",
      "invalid value encountered in greater\n",
      "\n"
     ]
    },
    {
     "name": "stdout",
     "output_type": "stream",
     "text": [
      "Iteration: \t20 / 100\n",
      "Confirmed: \t172\n",
      "Tentative: \t7\n",
      "Rejected: \t29\n"
     ]
    },
    {
     "name": "stderr",
     "output_type": "stream",
     "text": [
      "C:\\Anaconda3\\lib\\site-packages\\boruta\\boruta_py.py:419: RuntimeWarning:\n",
      "\n",
      "invalid value encountered in greater\n",
      "\n"
     ]
    },
    {
     "name": "stdout",
     "output_type": "stream",
     "text": [
      "Iteration: \t21 / 100\n",
      "Confirmed: \t172\n",
      "Tentative: \t7\n",
      "Rejected: \t29\n"
     ]
    },
    {
     "name": "stderr",
     "output_type": "stream",
     "text": [
      "C:\\Anaconda3\\lib\\site-packages\\boruta\\boruta_py.py:419: RuntimeWarning:\n",
      "\n",
      "invalid value encountered in greater\n",
      "\n"
     ]
    },
    {
     "name": "stdout",
     "output_type": "stream",
     "text": [
      "Iteration: \t22 / 100\n",
      "Confirmed: \t174\n",
      "Tentative: \t5\n",
      "Rejected: \t29\n"
     ]
    },
    {
     "name": "stderr",
     "output_type": "stream",
     "text": [
      "C:\\Anaconda3\\lib\\site-packages\\boruta\\boruta_py.py:419: RuntimeWarning:\n",
      "\n",
      "invalid value encountered in greater\n",
      "\n"
     ]
    },
    {
     "name": "stdout",
     "output_type": "stream",
     "text": [
      "Iteration: \t23 / 100\n",
      "Confirmed: \t174\n",
      "Tentative: \t4\n",
      "Rejected: \t30\n"
     ]
    },
    {
     "name": "stderr",
     "output_type": "stream",
     "text": [
      "C:\\Anaconda3\\lib\\site-packages\\boruta\\boruta_py.py:419: RuntimeWarning:\n",
      "\n",
      "invalid value encountered in greater\n",
      "\n"
     ]
    },
    {
     "name": "stdout",
     "output_type": "stream",
     "text": [
      "Iteration: \t24 / 100\n",
      "Confirmed: \t174\n",
      "Tentative: \t4\n",
      "Rejected: \t30\n"
     ]
    },
    {
     "name": "stderr",
     "output_type": "stream",
     "text": [
      "C:\\Anaconda3\\lib\\site-packages\\boruta\\boruta_py.py:419: RuntimeWarning:\n",
      "\n",
      "invalid value encountered in greater\n",
      "\n"
     ]
    },
    {
     "name": "stdout",
     "output_type": "stream",
     "text": [
      "Iteration: \t25 / 100\n",
      "Confirmed: \t174\n",
      "Tentative: \t4\n",
      "Rejected: \t30\n"
     ]
    },
    {
     "name": "stderr",
     "output_type": "stream",
     "text": [
      "C:\\Anaconda3\\lib\\site-packages\\boruta\\boruta_py.py:419: RuntimeWarning:\n",
      "\n",
      "invalid value encountered in greater\n",
      "\n"
     ]
    },
    {
     "name": "stdout",
     "output_type": "stream",
     "text": [
      "Iteration: \t26 / 100\n",
      "Confirmed: \t174\n",
      "Tentative: \t4\n",
      "Rejected: \t30\n"
     ]
    },
    {
     "name": "stderr",
     "output_type": "stream",
     "text": [
      "C:\\Anaconda3\\lib\\site-packages\\boruta\\boruta_py.py:419: RuntimeWarning:\n",
      "\n",
      "invalid value encountered in greater\n",
      "\n"
     ]
    },
    {
     "name": "stdout",
     "output_type": "stream",
     "text": [
      "Iteration: \t27 / 100\n",
      "Confirmed: \t174\n",
      "Tentative: \t4\n",
      "Rejected: \t30\n"
     ]
    },
    {
     "name": "stderr",
     "output_type": "stream",
     "text": [
      "C:\\Anaconda3\\lib\\site-packages\\boruta\\boruta_py.py:419: RuntimeWarning:\n",
      "\n",
      "invalid value encountered in greater\n",
      "\n"
     ]
    },
    {
     "name": "stdout",
     "output_type": "stream",
     "text": [
      "Iteration: \t28 / 100\n",
      "Confirmed: \t174\n",
      "Tentative: \t4\n",
      "Rejected: \t30\n"
     ]
    },
    {
     "name": "stderr",
     "output_type": "stream",
     "text": [
      "C:\\Anaconda3\\lib\\site-packages\\boruta\\boruta_py.py:419: RuntimeWarning:\n",
      "\n",
      "invalid value encountered in greater\n",
      "\n"
     ]
    },
    {
     "name": "stdout",
     "output_type": "stream",
     "text": [
      "Iteration: \t29 / 100\n",
      "Confirmed: \t174\n",
      "Tentative: \t3\n",
      "Rejected: \t31\n"
     ]
    },
    {
     "name": "stderr",
     "output_type": "stream",
     "text": [
      "C:\\Anaconda3\\lib\\site-packages\\boruta\\boruta_py.py:419: RuntimeWarning:\n",
      "\n",
      "invalid value encountered in greater\n",
      "\n"
     ]
    },
    {
     "name": "stdout",
     "output_type": "stream",
     "text": [
      "Iteration: \t30 / 100\n",
      "Confirmed: \t174\n",
      "Tentative: \t3\n",
      "Rejected: \t31\n"
     ]
    },
    {
     "name": "stderr",
     "output_type": "stream",
     "text": [
      "C:\\Anaconda3\\lib\\site-packages\\boruta\\boruta_py.py:419: RuntimeWarning:\n",
      "\n",
      "invalid value encountered in greater\n",
      "\n"
     ]
    },
    {
     "name": "stdout",
     "output_type": "stream",
     "text": [
      "Iteration: \t31 / 100\n",
      "Confirmed: \t174\n",
      "Tentative: \t3\n",
      "Rejected: \t31\n"
     ]
    },
    {
     "name": "stderr",
     "output_type": "stream",
     "text": [
      "C:\\Anaconda3\\lib\\site-packages\\boruta\\boruta_py.py:419: RuntimeWarning:\n",
      "\n",
      "invalid value encountered in greater\n",
      "\n"
     ]
    },
    {
     "name": "stdout",
     "output_type": "stream",
     "text": [
      "Iteration: \t32 / 100\n",
      "Confirmed: \t174\n",
      "Tentative: \t3\n",
      "Rejected: \t31\n"
     ]
    },
    {
     "name": "stderr",
     "output_type": "stream",
     "text": [
      "C:\\Anaconda3\\lib\\site-packages\\boruta\\boruta_py.py:419: RuntimeWarning:\n",
      "\n",
      "invalid value encountered in greater\n",
      "\n"
     ]
    },
    {
     "name": "stdout",
     "output_type": "stream",
     "text": [
      "Iteration: \t33 / 100\n",
      "Confirmed: \t174\n",
      "Tentative: \t3\n",
      "Rejected: \t31\n"
     ]
    },
    {
     "name": "stderr",
     "output_type": "stream",
     "text": [
      "C:\\Anaconda3\\lib\\site-packages\\boruta\\boruta_py.py:419: RuntimeWarning:\n",
      "\n",
      "invalid value encountered in greater\n",
      "\n"
     ]
    },
    {
     "name": "stdout",
     "output_type": "stream",
     "text": [
      "Iteration: \t34 / 100\n",
      "Confirmed: \t174\n",
      "Tentative: \t3\n",
      "Rejected: \t31\n"
     ]
    },
    {
     "name": "stderr",
     "output_type": "stream",
     "text": [
      "C:\\Anaconda3\\lib\\site-packages\\boruta\\boruta_py.py:419: RuntimeWarning:\n",
      "\n",
      "invalid value encountered in greater\n",
      "\n"
     ]
    },
    {
     "name": "stdout",
     "output_type": "stream",
     "text": [
      "Iteration: \t35 / 100\n",
      "Confirmed: \t174\n",
      "Tentative: \t2\n",
      "Rejected: \t32\n"
     ]
    },
    {
     "name": "stderr",
     "output_type": "stream",
     "text": [
      "C:\\Anaconda3\\lib\\site-packages\\boruta\\boruta_py.py:419: RuntimeWarning:\n",
      "\n",
      "invalid value encountered in greater\n",
      "\n"
     ]
    },
    {
     "name": "stdout",
     "output_type": "stream",
     "text": [
      "Iteration: \t36 / 100\n",
      "Confirmed: \t174\n",
      "Tentative: \t2\n",
      "Rejected: \t32\n"
     ]
    },
    {
     "name": "stderr",
     "output_type": "stream",
     "text": [
      "C:\\Anaconda3\\lib\\site-packages\\boruta\\boruta_py.py:419: RuntimeWarning:\n",
      "\n",
      "invalid value encountered in greater\n",
      "\n"
     ]
    },
    {
     "name": "stdout",
     "output_type": "stream",
     "text": [
      "Iteration: \t37 / 100\n",
      "Confirmed: \t174\n",
      "Tentative: \t2\n",
      "Rejected: \t32\n"
     ]
    },
    {
     "name": "stderr",
     "output_type": "stream",
     "text": [
      "C:\\Anaconda3\\lib\\site-packages\\boruta\\boruta_py.py:419: RuntimeWarning:\n",
      "\n",
      "invalid value encountered in greater\n",
      "\n"
     ]
    },
    {
     "name": "stdout",
     "output_type": "stream",
     "text": [
      "Iteration: \t38 / 100\n",
      "Confirmed: \t174\n",
      "Tentative: \t2\n",
      "Rejected: \t32\n"
     ]
    },
    {
     "name": "stderr",
     "output_type": "stream",
     "text": [
      "C:\\Anaconda3\\lib\\site-packages\\boruta\\boruta_py.py:419: RuntimeWarning:\n",
      "\n",
      "invalid value encountered in greater\n",
      "\n"
     ]
    },
    {
     "name": "stdout",
     "output_type": "stream",
     "text": [
      "Iteration: \t39 / 100\n",
      "Confirmed: \t174\n",
      "Tentative: \t2\n",
      "Rejected: \t32\n"
     ]
    },
    {
     "name": "stderr",
     "output_type": "stream",
     "text": [
      "C:\\Anaconda3\\lib\\site-packages\\boruta\\boruta_py.py:419: RuntimeWarning:\n",
      "\n",
      "invalid value encountered in greater\n",
      "\n"
     ]
    },
    {
     "name": "stdout",
     "output_type": "stream",
     "text": [
      "Iteration: \t40 / 100\n",
      "Confirmed: \t174\n",
      "Tentative: \t2\n",
      "Rejected: \t32\n"
     ]
    },
    {
     "name": "stderr",
     "output_type": "stream",
     "text": [
      "C:\\Anaconda3\\lib\\site-packages\\boruta\\boruta_py.py:419: RuntimeWarning:\n",
      "\n",
      "invalid value encountered in greater\n",
      "\n"
     ]
    },
    {
     "name": "stdout",
     "output_type": "stream",
     "text": [
      "Iteration: \t41 / 100\n",
      "Confirmed: \t174\n",
      "Tentative: \t2\n",
      "Rejected: \t32\n"
     ]
    },
    {
     "name": "stderr",
     "output_type": "stream",
     "text": [
      "C:\\Anaconda3\\lib\\site-packages\\boruta\\boruta_py.py:419: RuntimeWarning:\n",
      "\n",
      "invalid value encountered in greater\n",
      "\n"
     ]
    },
    {
     "name": "stdout",
     "output_type": "stream",
     "text": [
      "Iteration: \t42 / 100\n",
      "Confirmed: \t174\n",
      "Tentative: \t2\n",
      "Rejected: \t32\n"
     ]
    },
    {
     "name": "stderr",
     "output_type": "stream",
     "text": [
      "C:\\Anaconda3\\lib\\site-packages\\boruta\\boruta_py.py:419: RuntimeWarning:\n",
      "\n",
      "invalid value encountered in greater\n",
      "\n"
     ]
    },
    {
     "name": "stdout",
     "output_type": "stream",
     "text": [
      "Iteration: \t43 / 100\n",
      "Confirmed: \t174\n",
      "Tentative: \t2\n",
      "Rejected: \t32\n"
     ]
    },
    {
     "name": "stderr",
     "output_type": "stream",
     "text": [
      "C:\\Anaconda3\\lib\\site-packages\\boruta\\boruta_py.py:419: RuntimeWarning:\n",
      "\n",
      "invalid value encountered in greater\n",
      "\n"
     ]
    },
    {
     "name": "stdout",
     "output_type": "stream",
     "text": [
      "Iteration: \t44 / 100\n",
      "Confirmed: \t174\n",
      "Tentative: \t2\n",
      "Rejected: \t32\n"
     ]
    },
    {
     "name": "stderr",
     "output_type": "stream",
     "text": [
      "C:\\Anaconda3\\lib\\site-packages\\boruta\\boruta_py.py:419: RuntimeWarning:\n",
      "\n",
      "invalid value encountered in greater\n",
      "\n"
     ]
    },
    {
     "name": "stdout",
     "output_type": "stream",
     "text": [
      "Iteration: \t45 / 100\n",
      "Confirmed: \t174\n",
      "Tentative: \t2\n",
      "Rejected: \t32\n"
     ]
    },
    {
     "name": "stderr",
     "output_type": "stream",
     "text": [
      "C:\\Anaconda3\\lib\\site-packages\\boruta\\boruta_py.py:419: RuntimeWarning:\n",
      "\n",
      "invalid value encountered in greater\n",
      "\n"
     ]
    },
    {
     "name": "stdout",
     "output_type": "stream",
     "text": [
      "Iteration: \t46 / 100\n",
      "Confirmed: \t174\n",
      "Tentative: \t2\n",
      "Rejected: \t32\n"
     ]
    },
    {
     "name": "stderr",
     "output_type": "stream",
     "text": [
      "C:\\Anaconda3\\lib\\site-packages\\boruta\\boruta_py.py:419: RuntimeWarning:\n",
      "\n",
      "invalid value encountered in greater\n",
      "\n"
     ]
    },
    {
     "name": "stdout",
     "output_type": "stream",
     "text": [
      "Iteration: \t47 / 100\n",
      "Confirmed: \t174\n",
      "Tentative: \t2\n",
      "Rejected: \t32\n"
     ]
    },
    {
     "name": "stderr",
     "output_type": "stream",
     "text": [
      "C:\\Anaconda3\\lib\\site-packages\\boruta\\boruta_py.py:419: RuntimeWarning:\n",
      "\n",
      "invalid value encountered in greater\n",
      "\n"
     ]
    },
    {
     "name": "stdout",
     "output_type": "stream",
     "text": [
      "Iteration: \t48 / 100\n",
      "Confirmed: \t174\n",
      "Tentative: \t2\n",
      "Rejected: \t32\n"
     ]
    },
    {
     "name": "stderr",
     "output_type": "stream",
     "text": [
      "C:\\Anaconda3\\lib\\site-packages\\boruta\\boruta_py.py:419: RuntimeWarning:\n",
      "\n",
      "invalid value encountered in greater\n",
      "\n"
     ]
    },
    {
     "name": "stdout",
     "output_type": "stream",
     "text": [
      "Iteration: \t49 / 100\n",
      "Confirmed: \t174\n",
      "Tentative: \t2\n",
      "Rejected: \t32\n"
     ]
    },
    {
     "name": "stderr",
     "output_type": "stream",
     "text": [
      "C:\\Anaconda3\\lib\\site-packages\\boruta\\boruta_py.py:419: RuntimeWarning:\n",
      "\n",
      "invalid value encountered in greater\n",
      "\n"
     ]
    },
    {
     "name": "stdout",
     "output_type": "stream",
     "text": [
      "Iteration: \t50 / 100\n",
      "Confirmed: \t174\n",
      "Tentative: \t2\n",
      "Rejected: \t32\n"
     ]
    },
    {
     "name": "stderr",
     "output_type": "stream",
     "text": [
      "C:\\Anaconda3\\lib\\site-packages\\boruta\\boruta_py.py:419: RuntimeWarning:\n",
      "\n",
      "invalid value encountered in greater\n",
      "\n"
     ]
    },
    {
     "name": "stdout",
     "output_type": "stream",
     "text": [
      "Iteration: \t51 / 100\n",
      "Confirmed: \t174\n",
      "Tentative: \t2\n",
      "Rejected: \t32\n"
     ]
    },
    {
     "name": "stderr",
     "output_type": "stream",
     "text": [
      "C:\\Anaconda3\\lib\\site-packages\\boruta\\boruta_py.py:419: RuntimeWarning:\n",
      "\n",
      "invalid value encountered in greater\n",
      "\n"
     ]
    },
    {
     "name": "stdout",
     "output_type": "stream",
     "text": [
      "Iteration: \t52 / 100\n",
      "Confirmed: \t174\n",
      "Tentative: \t2\n",
      "Rejected: \t32\n"
     ]
    },
    {
     "name": "stderr",
     "output_type": "stream",
     "text": [
      "C:\\Anaconda3\\lib\\site-packages\\boruta\\boruta_py.py:419: RuntimeWarning:\n",
      "\n",
      "invalid value encountered in greater\n",
      "\n"
     ]
    },
    {
     "name": "stdout",
     "output_type": "stream",
     "text": [
      "Iteration: \t53 / 100\n",
      "Confirmed: \t174\n",
      "Tentative: \t2\n",
      "Rejected: \t32\n"
     ]
    },
    {
     "name": "stderr",
     "output_type": "stream",
     "text": [
      "C:\\Anaconda3\\lib\\site-packages\\boruta\\boruta_py.py:419: RuntimeWarning:\n",
      "\n",
      "invalid value encountered in greater\n",
      "\n"
     ]
    },
    {
     "name": "stdout",
     "output_type": "stream",
     "text": [
      "Iteration: \t54 / 100\n",
      "Confirmed: \t174\n",
      "Tentative: \t2\n",
      "Rejected: \t32\n"
     ]
    },
    {
     "name": "stderr",
     "output_type": "stream",
     "text": [
      "C:\\Anaconda3\\lib\\site-packages\\boruta\\boruta_py.py:419: RuntimeWarning:\n",
      "\n",
      "invalid value encountered in greater\n",
      "\n"
     ]
    },
    {
     "name": "stdout",
     "output_type": "stream",
     "text": [
      "Iteration: \t55 / 100\n",
      "Confirmed: \t174\n",
      "Tentative: \t2\n",
      "Rejected: \t32\n"
     ]
    },
    {
     "name": "stderr",
     "output_type": "stream",
     "text": [
      "C:\\Anaconda3\\lib\\site-packages\\boruta\\boruta_py.py:419: RuntimeWarning:\n",
      "\n",
      "invalid value encountered in greater\n",
      "\n"
     ]
    },
    {
     "name": "stdout",
     "output_type": "stream",
     "text": [
      "Iteration: \t56 / 100\n",
      "Confirmed: \t174\n",
      "Tentative: \t2\n",
      "Rejected: \t32\n"
     ]
    },
    {
     "name": "stderr",
     "output_type": "stream",
     "text": [
      "C:\\Anaconda3\\lib\\site-packages\\boruta\\boruta_py.py:419: RuntimeWarning:\n",
      "\n",
      "invalid value encountered in greater\n",
      "\n"
     ]
    },
    {
     "name": "stdout",
     "output_type": "stream",
     "text": [
      "Iteration: \t57 / 100\n",
      "Confirmed: \t174\n",
      "Tentative: \t2\n",
      "Rejected: \t32\n"
     ]
    },
    {
     "name": "stderr",
     "output_type": "stream",
     "text": [
      "C:\\Anaconda3\\lib\\site-packages\\boruta\\boruta_py.py:419: RuntimeWarning:\n",
      "\n",
      "invalid value encountered in greater\n",
      "\n"
     ]
    },
    {
     "name": "stdout",
     "output_type": "stream",
     "text": [
      "Iteration: \t58 / 100\n",
      "Confirmed: \t174\n",
      "Tentative: \t2\n",
      "Rejected: \t32\n"
     ]
    },
    {
     "name": "stderr",
     "output_type": "stream",
     "text": [
      "C:\\Anaconda3\\lib\\site-packages\\boruta\\boruta_py.py:419: RuntimeWarning:\n",
      "\n",
      "invalid value encountered in greater\n",
      "\n"
     ]
    },
    {
     "name": "stdout",
     "output_type": "stream",
     "text": [
      "Iteration: \t59 / 100\n",
      "Confirmed: \t174\n",
      "Tentative: \t2\n",
      "Rejected: \t32\n"
     ]
    },
    {
     "name": "stderr",
     "output_type": "stream",
     "text": [
      "C:\\Anaconda3\\lib\\site-packages\\boruta\\boruta_py.py:419: RuntimeWarning:\n",
      "\n",
      "invalid value encountered in greater\n",
      "\n"
     ]
    },
    {
     "name": "stdout",
     "output_type": "stream",
     "text": [
      "Iteration: \t60 / 100\n",
      "Confirmed: \t174\n",
      "Tentative: \t2\n",
      "Rejected: \t32\n"
     ]
    },
    {
     "name": "stderr",
     "output_type": "stream",
     "text": [
      "C:\\Anaconda3\\lib\\site-packages\\boruta\\boruta_py.py:419: RuntimeWarning:\n",
      "\n",
      "invalid value encountered in greater\n",
      "\n"
     ]
    },
    {
     "name": "stdout",
     "output_type": "stream",
     "text": [
      "Iteration: \t61 / 100\n",
      "Confirmed: \t174\n",
      "Tentative: \t2\n",
      "Rejected: \t32\n"
     ]
    },
    {
     "name": "stderr",
     "output_type": "stream",
     "text": [
      "C:\\Anaconda3\\lib\\site-packages\\boruta\\boruta_py.py:419: RuntimeWarning:\n",
      "\n",
      "invalid value encountered in greater\n",
      "\n"
     ]
    },
    {
     "name": "stdout",
     "output_type": "stream",
     "text": [
      "Iteration: \t62 / 100\n",
      "Confirmed: \t174\n",
      "Tentative: \t2\n",
      "Rejected: \t32\n"
     ]
    },
    {
     "name": "stderr",
     "output_type": "stream",
     "text": [
      "C:\\Anaconda3\\lib\\site-packages\\boruta\\boruta_py.py:419: RuntimeWarning:\n",
      "\n",
      "invalid value encountered in greater\n",
      "\n"
     ]
    },
    {
     "name": "stdout",
     "output_type": "stream",
     "text": [
      "Iteration: \t63 / 100\n",
      "Confirmed: \t174\n",
      "Tentative: \t2\n",
      "Rejected: \t32\n"
     ]
    },
    {
     "name": "stderr",
     "output_type": "stream",
     "text": [
      "C:\\Anaconda3\\lib\\site-packages\\boruta\\boruta_py.py:419: RuntimeWarning:\n",
      "\n",
      "invalid value encountered in greater\n",
      "\n"
     ]
    },
    {
     "name": "stdout",
     "output_type": "stream",
     "text": [
      "Iteration: \t64 / 100\n",
      "Confirmed: \t174\n",
      "Tentative: \t2\n",
      "Rejected: \t32\n"
     ]
    },
    {
     "name": "stderr",
     "output_type": "stream",
     "text": [
      "C:\\Anaconda3\\lib\\site-packages\\boruta\\boruta_py.py:419: RuntimeWarning:\n",
      "\n",
      "invalid value encountered in greater\n",
      "\n"
     ]
    },
    {
     "name": "stdout",
     "output_type": "stream",
     "text": [
      "Iteration: \t65 / 100\n",
      "Confirmed: \t174\n",
      "Tentative: \t2\n",
      "Rejected: \t32\n"
     ]
    },
    {
     "name": "stderr",
     "output_type": "stream",
     "text": [
      "C:\\Anaconda3\\lib\\site-packages\\boruta\\boruta_py.py:419: RuntimeWarning:\n",
      "\n",
      "invalid value encountered in greater\n",
      "\n"
     ]
    },
    {
     "name": "stdout",
     "output_type": "stream",
     "text": [
      "Iteration: \t66 / 100\n",
      "Confirmed: \t174\n",
      "Tentative: \t2\n",
      "Rejected: \t32\n"
     ]
    },
    {
     "name": "stderr",
     "output_type": "stream",
     "text": [
      "C:\\Anaconda3\\lib\\site-packages\\boruta\\boruta_py.py:419: RuntimeWarning:\n",
      "\n",
      "invalid value encountered in greater\n",
      "\n"
     ]
    },
    {
     "name": "stdout",
     "output_type": "stream",
     "text": [
      "Iteration: \t67 / 100\n",
      "Confirmed: \t174\n",
      "Tentative: \t2\n",
      "Rejected: \t32\n"
     ]
    },
    {
     "name": "stderr",
     "output_type": "stream",
     "text": [
      "C:\\Anaconda3\\lib\\site-packages\\boruta\\boruta_py.py:419: RuntimeWarning:\n",
      "\n",
      "invalid value encountered in greater\n",
      "\n"
     ]
    },
    {
     "name": "stdout",
     "output_type": "stream",
     "text": [
      "Iteration: \t68 / 100\n",
      "Confirmed: \t174\n",
      "Tentative: \t2\n",
      "Rejected: \t32\n"
     ]
    },
    {
     "name": "stderr",
     "output_type": "stream",
     "text": [
      "C:\\Anaconda3\\lib\\site-packages\\boruta\\boruta_py.py:419: RuntimeWarning:\n",
      "\n",
      "invalid value encountered in greater\n",
      "\n"
     ]
    },
    {
     "name": "stdout",
     "output_type": "stream",
     "text": [
      "Iteration: \t69 / 100\n",
      "Confirmed: \t174\n",
      "Tentative: \t2\n",
      "Rejected: \t32\n"
     ]
    },
    {
     "name": "stderr",
     "output_type": "stream",
     "text": [
      "C:\\Anaconda3\\lib\\site-packages\\boruta\\boruta_py.py:419: RuntimeWarning:\n",
      "\n",
      "invalid value encountered in greater\n",
      "\n"
     ]
    },
    {
     "name": "stdout",
     "output_type": "stream",
     "text": [
      "Iteration: \t70 / 100\n",
      "Confirmed: \t174\n",
      "Tentative: \t2\n",
      "Rejected: \t32\n"
     ]
    },
    {
     "name": "stderr",
     "output_type": "stream",
     "text": [
      "C:\\Anaconda3\\lib\\site-packages\\boruta\\boruta_py.py:419: RuntimeWarning:\n",
      "\n",
      "invalid value encountered in greater\n",
      "\n"
     ]
    },
    {
     "name": "stdout",
     "output_type": "stream",
     "text": [
      "Iteration: \t71 / 100\n",
      "Confirmed: \t174\n",
      "Tentative: \t2\n",
      "Rejected: \t32\n"
     ]
    },
    {
     "name": "stderr",
     "output_type": "stream",
     "text": [
      "C:\\Anaconda3\\lib\\site-packages\\boruta\\boruta_py.py:419: RuntimeWarning:\n",
      "\n",
      "invalid value encountered in greater\n",
      "\n"
     ]
    },
    {
     "name": "stdout",
     "output_type": "stream",
     "text": [
      "Iteration: \t72 / 100\n",
      "Confirmed: \t174\n",
      "Tentative: \t2\n",
      "Rejected: \t32\n"
     ]
    },
    {
     "name": "stderr",
     "output_type": "stream",
     "text": [
      "C:\\Anaconda3\\lib\\site-packages\\boruta\\boruta_py.py:419: RuntimeWarning:\n",
      "\n",
      "invalid value encountered in greater\n",
      "\n"
     ]
    },
    {
     "name": "stdout",
     "output_type": "stream",
     "text": [
      "Iteration: \t73 / 100\n",
      "Confirmed: \t174\n",
      "Tentative: \t2\n",
      "Rejected: \t32\n"
     ]
    },
    {
     "name": "stderr",
     "output_type": "stream",
     "text": [
      "C:\\Anaconda3\\lib\\site-packages\\boruta\\boruta_py.py:419: RuntimeWarning:\n",
      "\n",
      "invalid value encountered in greater\n",
      "\n"
     ]
    },
    {
     "name": "stdout",
     "output_type": "stream",
     "text": [
      "Iteration: \t74 / 100\n",
      "Confirmed: \t174\n",
      "Tentative: \t2\n",
      "Rejected: \t32\n"
     ]
    },
    {
     "name": "stderr",
     "output_type": "stream",
     "text": [
      "C:\\Anaconda3\\lib\\site-packages\\boruta\\boruta_py.py:419: RuntimeWarning:\n",
      "\n",
      "invalid value encountered in greater\n",
      "\n"
     ]
    },
    {
     "name": "stdout",
     "output_type": "stream",
     "text": [
      "Iteration: \t75 / 100\n",
      "Confirmed: \t174\n",
      "Tentative: \t2\n",
      "Rejected: \t32\n"
     ]
    },
    {
     "name": "stderr",
     "output_type": "stream",
     "text": [
      "C:\\Anaconda3\\lib\\site-packages\\boruta\\boruta_py.py:419: RuntimeWarning:\n",
      "\n",
      "invalid value encountered in greater\n",
      "\n"
     ]
    },
    {
     "name": "stdout",
     "output_type": "stream",
     "text": [
      "Iteration: \t76 / 100\n",
      "Confirmed: \t174\n",
      "Tentative: \t2\n",
      "Rejected: \t32\n"
     ]
    },
    {
     "name": "stderr",
     "output_type": "stream",
     "text": [
      "C:\\Anaconda3\\lib\\site-packages\\boruta\\boruta_py.py:419: RuntimeWarning:\n",
      "\n",
      "invalid value encountered in greater\n",
      "\n"
     ]
    },
    {
     "name": "stdout",
     "output_type": "stream",
     "text": [
      "Iteration: \t77 / 100\n",
      "Confirmed: \t174\n",
      "Tentative: \t2\n",
      "Rejected: \t32\n"
     ]
    },
    {
     "name": "stderr",
     "output_type": "stream",
     "text": [
      "C:\\Anaconda3\\lib\\site-packages\\boruta\\boruta_py.py:419: RuntimeWarning:\n",
      "\n",
      "invalid value encountered in greater\n",
      "\n"
     ]
    },
    {
     "name": "stdout",
     "output_type": "stream",
     "text": [
      "Iteration: \t78 / 100\n",
      "Confirmed: \t174\n",
      "Tentative: \t2\n",
      "Rejected: \t32\n"
     ]
    },
    {
     "name": "stderr",
     "output_type": "stream",
     "text": [
      "C:\\Anaconda3\\lib\\site-packages\\boruta\\boruta_py.py:419: RuntimeWarning:\n",
      "\n",
      "invalid value encountered in greater\n",
      "\n"
     ]
    },
    {
     "name": "stdout",
     "output_type": "stream",
     "text": [
      "Iteration: \t79 / 100\n",
      "Confirmed: \t174\n",
      "Tentative: \t2\n",
      "Rejected: \t32\n"
     ]
    },
    {
     "name": "stderr",
     "output_type": "stream",
     "text": [
      "C:\\Anaconda3\\lib\\site-packages\\boruta\\boruta_py.py:419: RuntimeWarning:\n",
      "\n",
      "invalid value encountered in greater\n",
      "\n"
     ]
    },
    {
     "name": "stdout",
     "output_type": "stream",
     "text": [
      "Iteration: \t80 / 100\n",
      "Confirmed: \t174\n",
      "Tentative: \t2\n",
      "Rejected: \t32\n"
     ]
    },
    {
     "name": "stderr",
     "output_type": "stream",
     "text": [
      "C:\\Anaconda3\\lib\\site-packages\\boruta\\boruta_py.py:419: RuntimeWarning:\n",
      "\n",
      "invalid value encountered in greater\n",
      "\n"
     ]
    },
    {
     "name": "stdout",
     "output_type": "stream",
     "text": [
      "Iteration: \t81 / 100\n",
      "Confirmed: \t174\n",
      "Tentative: \t2\n",
      "Rejected: \t32\n"
     ]
    },
    {
     "name": "stderr",
     "output_type": "stream",
     "text": [
      "C:\\Anaconda3\\lib\\site-packages\\boruta\\boruta_py.py:419: RuntimeWarning:\n",
      "\n",
      "invalid value encountered in greater\n",
      "\n"
     ]
    },
    {
     "name": "stdout",
     "output_type": "stream",
     "text": [
      "Iteration: \t82 / 100\n",
      "Confirmed: \t174\n",
      "Tentative: \t2\n",
      "Rejected: \t32\n"
     ]
    },
    {
     "name": "stderr",
     "output_type": "stream",
     "text": [
      "C:\\Anaconda3\\lib\\site-packages\\boruta\\boruta_py.py:419: RuntimeWarning:\n",
      "\n",
      "invalid value encountered in greater\n",
      "\n"
     ]
    },
    {
     "name": "stdout",
     "output_type": "stream",
     "text": [
      "Iteration: \t83 / 100\n",
      "Confirmed: \t174\n",
      "Tentative: \t2\n",
      "Rejected: \t32\n"
     ]
    },
    {
     "name": "stderr",
     "output_type": "stream",
     "text": [
      "C:\\Anaconda3\\lib\\site-packages\\boruta\\boruta_py.py:419: RuntimeWarning:\n",
      "\n",
      "invalid value encountered in greater\n",
      "\n"
     ]
    },
    {
     "name": "stdout",
     "output_type": "stream",
     "text": [
      "Iteration: \t84 / 100\n",
      "Confirmed: \t174\n",
      "Tentative: \t2\n",
      "Rejected: \t32\n"
     ]
    },
    {
     "name": "stderr",
     "output_type": "stream",
     "text": [
      "C:\\Anaconda3\\lib\\site-packages\\boruta\\boruta_py.py:419: RuntimeWarning:\n",
      "\n",
      "invalid value encountered in greater\n",
      "\n"
     ]
    },
    {
     "name": "stdout",
     "output_type": "stream",
     "text": [
      "Iteration: \t85 / 100\n",
      "Confirmed: \t174\n",
      "Tentative: \t2\n",
      "Rejected: \t32\n"
     ]
    },
    {
     "name": "stderr",
     "output_type": "stream",
     "text": [
      "C:\\Anaconda3\\lib\\site-packages\\boruta\\boruta_py.py:419: RuntimeWarning:\n",
      "\n",
      "invalid value encountered in greater\n",
      "\n"
     ]
    },
    {
     "name": "stdout",
     "output_type": "stream",
     "text": [
      "Iteration: \t86 / 100\n",
      "Confirmed: \t174\n",
      "Tentative: \t2\n",
      "Rejected: \t32\n"
     ]
    },
    {
     "name": "stderr",
     "output_type": "stream",
     "text": [
      "C:\\Anaconda3\\lib\\site-packages\\boruta\\boruta_py.py:419: RuntimeWarning:\n",
      "\n",
      "invalid value encountered in greater\n",
      "\n"
     ]
    },
    {
     "name": "stdout",
     "output_type": "stream",
     "text": [
      "Iteration: \t87 / 100\n",
      "Confirmed: \t174\n",
      "Tentative: \t2\n",
      "Rejected: \t32\n"
     ]
    },
    {
     "name": "stderr",
     "output_type": "stream",
     "text": [
      "C:\\Anaconda3\\lib\\site-packages\\boruta\\boruta_py.py:419: RuntimeWarning:\n",
      "\n",
      "invalid value encountered in greater\n",
      "\n"
     ]
    },
    {
     "name": "stdout",
     "output_type": "stream",
     "text": [
      "Iteration: \t88 / 100\n",
      "Confirmed: \t174\n",
      "Tentative: \t2\n",
      "Rejected: \t32\n"
     ]
    },
    {
     "name": "stderr",
     "output_type": "stream",
     "text": [
      "C:\\Anaconda3\\lib\\site-packages\\boruta\\boruta_py.py:419: RuntimeWarning:\n",
      "\n",
      "invalid value encountered in greater\n",
      "\n"
     ]
    },
    {
     "name": "stdout",
     "output_type": "stream",
     "text": [
      "Iteration: \t89 / 100\n",
      "Confirmed: \t174\n",
      "Tentative: \t2\n",
      "Rejected: \t32\n"
     ]
    },
    {
     "name": "stderr",
     "output_type": "stream",
     "text": [
      "C:\\Anaconda3\\lib\\site-packages\\boruta\\boruta_py.py:419: RuntimeWarning:\n",
      "\n",
      "invalid value encountered in greater\n",
      "\n"
     ]
    },
    {
     "name": "stdout",
     "output_type": "stream",
     "text": [
      "Iteration: \t90 / 100\n",
      "Confirmed: \t174\n",
      "Tentative: \t2\n",
      "Rejected: \t32\n"
     ]
    },
    {
     "name": "stderr",
     "output_type": "stream",
     "text": [
      "C:\\Anaconda3\\lib\\site-packages\\boruta\\boruta_py.py:419: RuntimeWarning:\n",
      "\n",
      "invalid value encountered in greater\n",
      "\n"
     ]
    },
    {
     "name": "stdout",
     "output_type": "stream",
     "text": [
      "Iteration: \t91 / 100\n",
      "Confirmed: \t174\n",
      "Tentative: \t2\n",
      "Rejected: \t32\n"
     ]
    },
    {
     "name": "stderr",
     "output_type": "stream",
     "text": [
      "C:\\Anaconda3\\lib\\site-packages\\boruta\\boruta_py.py:419: RuntimeWarning:\n",
      "\n",
      "invalid value encountered in greater\n",
      "\n"
     ]
    },
    {
     "name": "stdout",
     "output_type": "stream",
     "text": [
      "Iteration: \t92 / 100\n",
      "Confirmed: \t174\n",
      "Tentative: \t2\n",
      "Rejected: \t32\n"
     ]
    },
    {
     "name": "stderr",
     "output_type": "stream",
     "text": [
      "C:\\Anaconda3\\lib\\site-packages\\boruta\\boruta_py.py:419: RuntimeWarning:\n",
      "\n",
      "invalid value encountered in greater\n",
      "\n"
     ]
    },
    {
     "name": "stdout",
     "output_type": "stream",
     "text": [
      "Iteration: \t93 / 100\n",
      "Confirmed: \t174\n",
      "Tentative: \t2\n",
      "Rejected: \t32\n"
     ]
    },
    {
     "name": "stderr",
     "output_type": "stream",
     "text": [
      "C:\\Anaconda3\\lib\\site-packages\\boruta\\boruta_py.py:419: RuntimeWarning:\n",
      "\n",
      "invalid value encountered in greater\n",
      "\n"
     ]
    },
    {
     "name": "stdout",
     "output_type": "stream",
     "text": [
      "Iteration: \t94 / 100\n",
      "Confirmed: \t174\n",
      "Tentative: \t2\n",
      "Rejected: \t32\n"
     ]
    },
    {
     "name": "stderr",
     "output_type": "stream",
     "text": [
      "C:\\Anaconda3\\lib\\site-packages\\boruta\\boruta_py.py:419: RuntimeWarning:\n",
      "\n",
      "invalid value encountered in greater\n",
      "\n"
     ]
    },
    {
     "name": "stdout",
     "output_type": "stream",
     "text": [
      "Iteration: \t95 / 100\n",
      "Confirmed: \t174\n",
      "Tentative: \t2\n",
      "Rejected: \t32\n"
     ]
    },
    {
     "name": "stderr",
     "output_type": "stream",
     "text": [
      "C:\\Anaconda3\\lib\\site-packages\\boruta\\boruta_py.py:419: RuntimeWarning:\n",
      "\n",
      "invalid value encountered in greater\n",
      "\n"
     ]
    },
    {
     "name": "stdout",
     "output_type": "stream",
     "text": [
      "Iteration: \t96 / 100\n",
      "Confirmed: \t174\n",
      "Tentative: \t2\n",
      "Rejected: \t32\n"
     ]
    },
    {
     "name": "stderr",
     "output_type": "stream",
     "text": [
      "C:\\Anaconda3\\lib\\site-packages\\boruta\\boruta_py.py:419: RuntimeWarning:\n",
      "\n",
      "invalid value encountered in greater\n",
      "\n"
     ]
    },
    {
     "name": "stdout",
     "output_type": "stream",
     "text": [
      "Iteration: \t97 / 100\n",
      "Confirmed: \t174\n",
      "Tentative: \t2\n",
      "Rejected: \t32\n"
     ]
    },
    {
     "name": "stderr",
     "output_type": "stream",
     "text": [
      "C:\\Anaconda3\\lib\\site-packages\\boruta\\boruta_py.py:419: RuntimeWarning:\n",
      "\n",
      "invalid value encountered in greater\n",
      "\n"
     ]
    },
    {
     "name": "stdout",
     "output_type": "stream",
     "text": [
      "Iteration: \t98 / 100\n",
      "Confirmed: \t174\n",
      "Tentative: \t2\n",
      "Rejected: \t32\n"
     ]
    },
    {
     "name": "stderr",
     "output_type": "stream",
     "text": [
      "C:\\Anaconda3\\lib\\site-packages\\boruta\\boruta_py.py:419: RuntimeWarning:\n",
      "\n",
      "invalid value encountered in greater\n",
      "\n"
     ]
    },
    {
     "name": "stdout",
     "output_type": "stream",
     "text": [
      "Iteration: \t99 / 100\n",
      "Confirmed: \t174\n",
      "Tentative: \t2\n",
      "Rejected: \t32\n",
      "\n",
      "\n",
      "BorutaPy finished running.\n",
      "\n",
      "Iteration: \t100 / 100\n",
      "Confirmed: \t174\n",
      "Tentative: \t2\n",
      "Rejected: \t32\n"
     ]
    },
    {
     "data": {
      "text/plain": [
       "<contextlib._GeneratorContextManager at 0x11ec3b70>"
      ]
     },
     "execution_count": 4,
     "metadata": {},
     "output_type": "execute_result"
    }
   ],
   "source": [
    "#train_df[feats] = train_df[feats].fillna(0)\n",
    "\n",
    "lgbmclf = LGBMRegressor(\n",
    "    device='gpu',\n",
    "    gpu_platform_id= 1,\n",
    "    gpu_device_id= 0,\n",
    "    objective= \"binary\",\n",
    "    metric= \"auc\",\n",
    "    boosting= 'gbdt',\n",
    "    max_depth= -1,\n",
    "    num_leaves= 13,\n",
    "    learning_rate= 0.01,\n",
    "    bagging_freq= 5,\n",
    "    bagging_fraction= 0.4,\n",
    "    feature_fraction= 0.05,\n",
    "    min_data_in_leaf= 80,\n",
    "    min_sum_heassian_in_leaf= 10,\n",
    "    tree_learner= \"serial\",\n",
    "    boost_from_average= \"false\",\n",
    "    #\"lambda_l1\" : 5,\n",
    "    #\"lambda_l2\" : 5,\n",
    "    bagging_seed= random_state,\n",
    "    verbosity= 1,\n",
    "    seed= random_state\n",
    ")\n",
    "\n",
    "borutaselector = BorutaPy(lgbmclf, n_estimators=2000, verbose=2)\n",
    "\n",
    "start_time = timer(None)\n",
    "borutaselector.fit(train_df[feats].values, train_df['target'].values) \n",
    "timer(start_time)\n",
    "\n",
    "\n",
    "\n"
   ]
  },
  {
   "cell_type": "code",
   "execution_count": 5,
   "metadata": {},
   "outputs": [
    {
     "name": "stdout",
     "output_type": "stream",
     "text": [
      "[ True  True  True  True  True  True  True False  True  True False  True\n",
      "  True  True False  True  True False  True  True  True  True  True  True\n",
      "  True  True  True False  True False False  True  True  True  True  True\n",
      "  True  True False False  True False False  True  True  True False False\n",
      "  True  True  True  True  True  True  True  True  True  True  True  True\n",
      "  True False  True  True  True False  True  True  True  True  True  True\n",
      "  True False  True  True  True  True  True False  True  True  True  True\n",
      "  True  True  True  True  True  True  True  True  True  True  True  True\n",
      " False  True False  True False  True  True False  True  True  True  True\n",
      "  True  True  True  True  True  True  True  True  True False  True  True\n",
      "  True  True  True  True False  True False  True  True False  True  True\n",
      "  True  True  True  True False  True  True  True  True  True  True  True\n",
      "  True  True  True  True  True  True  True  True  True False  True  True\n",
      "  True  True False  True False False  True  True  True  True  True  True\n",
      "  True  True  True  True  True  True  True  True False  True  True  True\n",
      "  True  True False False  True False  True  True  True  True  True  True\n",
      "  True  True  True  True  True  True  True  True  True  True  True  True\n",
      "  True  True  True  True]\n",
      "Index(['var_0', 'var_1', 'var_2', 'var_3', 'var_4', 'var_5', 'var_6', 'var_8',\n",
      "       'var_9', 'var_11',\n",
      "       ...\n",
      "       'var_198', 'var_199', 'sum', 'min', 'max', 'mean', 'std', 'skew',\n",
      "       'kurt', 'med'],\n",
      "      dtype='object', length=174)\n",
      "\n",
      " Initial features:  ['var_0', 'var_1', 'var_2', 'var_3', 'var_4', 'var_5', 'var_6', 'var_7', 'var_8', 'var_9', 'var_10', 'var_11', 'var_12', 'var_13', 'var_14', 'var_15', 'var_16', 'var_17', 'var_18', 'var_19', 'var_20', 'var_21', 'var_22', 'var_23', 'var_24', 'var_25', 'var_26', 'var_27', 'var_28', 'var_29', 'var_30', 'var_31', 'var_32', 'var_33', 'var_34', 'var_35', 'var_36', 'var_37', 'var_38', 'var_39', 'var_40', 'var_41', 'var_42', 'var_43', 'var_44', 'var_45', 'var_46', 'var_47', 'var_48', 'var_49', 'var_50', 'var_51', 'var_52', 'var_53', 'var_54', 'var_55', 'var_56', 'var_57', 'var_58', 'var_59', 'var_60', 'var_61', 'var_62', 'var_63', 'var_64', 'var_65', 'var_66', 'var_67', 'var_68', 'var_69', 'var_70', 'var_71', 'var_72', 'var_73', 'var_74', 'var_75', 'var_76', 'var_77', 'var_78', 'var_79', 'var_80', 'var_81', 'var_82', 'var_83', 'var_84', 'var_85', 'var_86', 'var_87', 'var_88', 'var_89', 'var_90', 'var_91', 'var_92', 'var_93', 'var_94', 'var_95', 'var_96', 'var_97', 'var_98', 'var_99', 'var_100', 'var_101', 'var_102', 'var_103', 'var_104', 'var_105', 'var_106', 'var_107', 'var_108', 'var_109', 'var_110', 'var_111', 'var_112', 'var_113', 'var_114', 'var_115', 'var_116', 'var_117', 'var_118', 'var_119', 'var_120', 'var_121', 'var_122', 'var_123', 'var_124', 'var_125', 'var_126', 'var_127', 'var_128', 'var_129', 'var_130', 'var_131', 'var_132', 'var_133', 'var_134', 'var_135', 'var_136', 'var_137', 'var_138', 'var_139', 'var_140', 'var_141', 'var_142', 'var_143', 'var_144', 'var_145', 'var_146', 'var_147', 'var_148', 'var_149', 'var_150', 'var_151', 'var_152', 'var_153', 'var_154', 'var_155', 'var_156', 'var_157', 'var_158', 'var_159', 'var_160', 'var_161', 'var_162', 'var_163', 'var_164', 'var_165', 'var_166', 'var_167', 'var_168', 'var_169', 'var_170', 'var_171', 'var_172', 'var_173', 'var_174', 'var_175', 'var_176', 'var_177', 'var_178', 'var_179', 'var_180', 'var_181', 'var_182', 'var_183', 'var_184', 'var_185', 'var_186', 'var_187', 'var_188', 'var_189', 'var_190', 'var_191', 'var_192', 'var_193', 'var_194', 'var_195', 'var_196', 'var_197', 'var_198', 'var_199', 'sum', 'min', 'max', 'mean', 'std', 'skew', 'kurt', 'med']\n",
      "\n",
      " Number of selected features:\n",
      "174\n",
      "\n",
      " Top 174 features:\n",
      "    features  rank\n",
      "0      var_0     1\n",
      "1    var_128     1\n",
      "2    var_130     1\n",
      "3    var_131     1\n",
      "4    var_132     1\n",
      "5    var_133     1\n",
      "6    var_134     1\n",
      "7    var_135     1\n",
      "8    var_137     1\n",
      "9    var_138     1\n",
      "10   var_127     1\n",
      "11   var_139     1\n",
      "12   var_141     1\n",
      "13   var_142     1\n",
      "14   var_143     1\n",
      "15   var_144     1\n",
      "16   var_145     1\n",
      "17   var_146     1\n",
      "18   var_147     1\n",
      "19   var_148     1\n",
      "20   var_149     1\n",
      "21   var_140     1\n",
      "22   var_150     1\n",
      "23   var_125     1\n",
      "24   var_122     1\n",
      "25   var_101     1\n",
      "26   var_102     1\n",
      "27      kurt     1\n",
      "28   var_104     1\n",
      "29   var_105     1\n",
      "..       ...   ...\n",
      "144   var_89     1\n",
      "145   var_88     1\n",
      "146   var_74     1\n",
      "147   var_75     1\n",
      "148   var_60     1\n",
      "149    var_3     1\n",
      "150   var_77     1\n",
      "151   var_78     1\n",
      "152   var_82     1\n",
      "153   var_80     1\n",
      "154   var_81     1\n",
      "155   var_92     1\n",
      "156    var_2     1\n",
      "157   var_83     1\n",
      "158   var_71     1\n",
      "159   var_94     1\n",
      "160   var_62     1\n",
      "161   var_63     1\n",
      "162   var_64     1\n",
      "163   var_85     1\n",
      "164   var_66     1\n",
      "165    var_1     1\n",
      "166   var_87     1\n",
      "167   var_67     1\n",
      "168   var_68     1\n",
      "169   var_69     1\n",
      "170    var_4     1\n",
      "171   var_93     1\n",
      "172   var_70     1\n",
      "173   var_84     1\n",
      "\n",
      "[174 rows x 2 columns]\n",
      "\n",
      " Feature ranking:\n",
      "[ 1  1  1  1  1  1  1 26  1  1 23  1  1  1  9  1  1 21  1  1  1  1  1  1\n",
      "  1  1  1 16  1 30 28  1  1  1  1  1  1  1 19 11  1 22  8  1  1  1 23 10\n",
      "  1  1  1  1  1  1  1  1  1  1  1  1  1 15  1  1  1  6  1  1  1  1  1  1\n",
      "  1 17  1  1  1  1  1  4  1  1  1  1  1  1  1  1  1  1  1  1  1  1  1  1\n",
      " 32  1 27  1 32  1  1 25  1  1  1  1  1  1  1  1  1  1  1  1  1 29  1  1\n",
      "  1  1  1  1 13  1 34  1  1  2  1  1  1  1  1  1 20  1  1  1  1  1  1  1\n",
      "  1  1  1  1  1  1  1  1  1  2  1  1  1  1 12  1  4 14  1  1  1  1  1  1\n",
      "  1  1  1  1  1  1  1  1  3  1  1  1  1  1  7 18  1 30  1  1  1  1  1  1\n",
      "  1  1  1  1  1  1  1  1  1  1  1  1  1  1  1  1]\n"
     ]
    }
   ],
   "source": [
    "print(borutaselector.support_)\n",
    "print(train_df[feats].columns[borutaselector.support_])\n",
    "print ('\\n Initial features: ', train_df[feats].columns.tolist() )\n",
    "\n",
    "# number of selected features\n",
    "print ('\\n Number of selected features:')\n",
    "print (borutaselector.n_features_)\n",
    "\n",
    "feature_df = pd.DataFrame(train_df[feats].columns.tolist(), columns=['features'])\n",
    "feature_df['rank']=borutaselector.ranking_\n",
    "feature_df = feature_df.sort_values('rank', ascending=True).reset_index(drop=True)\n",
    "print ('\\n Top %d features:' % borutaselector.n_features_)\n",
    "print (feature_df.head(borutaselector.n_features_))\n",
    "feature_df.to_csv('boruta-low_feature3-ranking.csv', index=False)\n",
    "\n",
    "# check ranking of features\n",
    "print ('\\n Feature ranking:')\n",
    "print (borutaselector.ranking_)"
   ]
  },
  {
   "cell_type": "code",
   "execution_count": null,
   "metadata": {},
   "outputs": [],
   "source": []
  },
  {
   "cell_type": "code",
   "execution_count": 6,
   "metadata": {},
   "outputs": [
    {
     "name": "stdout",
     "output_type": "stream",
     "text": [
      "[['var_0'], ['var_128'], ['var_130'], ['var_131'], ['var_132'], ['var_133'], ['var_134'], ['var_135'], ['var_137'], ['var_138'], ['var_127'], ['var_139'], ['var_141'], ['var_142'], ['var_143'], ['var_144'], ['var_145'], ['var_146'], ['var_147'], ['var_148'], ['var_149'], ['var_140'], ['var_150'], ['var_125'], ['var_122'], ['var_101'], ['var_102'], ['kurt'], ['var_104'], ['var_105'], ['var_106'], ['var_107'], ['var_108'], ['var_109'], ['var_123'], ['var_110'], ['var_112'], ['var_113'], ['var_114'], ['var_115'], ['var_116'], ['var_118'], ['var_119'], ['var_120'], ['var_121'], ['var_111'], ['var_99'], ['var_151'], ['var_154'], ['var_186'], ['var_187'], ['var_188'], ['var_189'], ['var_190'], ['var_191'], ['var_192'], ['var_193'], ['var_194'], ['var_184'], ['var_195'], ['var_197'], ['var_198'], ['var_199'], ['sum'], ['min'], ['max'], ['mean'], ['std'], ['skew'], ['var_196'], ['var_152'], ['var_181'], ['var_179'], ['var_155'], ['var_156'], ['var_157'], ['var_159'], ['var_162'], ['var_163'], ['var_164'], ['var_165'], ['var_166'], ['var_180'], ['var_167'], ['var_169'], ['var_170'], ['var_171'], ['var_172'], ['var_173'], ['var_174'], ['var_175'], ['var_177'], ['var_178'], ['var_168'], ['var_97'], ['med'], ['var_52'], ['var_35'], ['var_36'], ['var_37'], ['var_40'], ['var_43'], ['var_44'], ['var_45'], ['var_95'], ['var_48'], ['var_49'], ['var_50'], ['var_51'], ['var_53'], ['var_54'], ['var_55'], ['var_56'], ['var_57'], ['var_34'], ['var_33'], ['var_32'], ['var_31'], ['var_11'], ['var_12'], ['var_13'], ['var_15'], ['var_16'], ['var_18'], ['var_19'], ['var_20'], ['var_58'], ['var_8'], ['var_22'], ['var_23'], ['var_24'], ['var_25'], ['var_26'], ['var_28'], ['var_6'], ['var_5'], ['var_21'], ['var_59'], ['var_9'], ['var_76'], ['var_86'], ['var_91'], ['var_72'], ['var_90'], ['var_89'], ['var_88'], ['var_74'], ['var_75'], ['var_60'], ['var_3'], ['var_77'], ['var_78'], ['var_82'], ['var_80'], ['var_81'], ['var_92'], ['var_2'], ['var_83'], ['var_71'], ['var_94'], ['var_62'], ['var_63'], ['var_64'], ['var_85'], ['var_66'], ['var_1'], ['var_87'], ['var_67'], ['var_68'], ['var_69'], ['var_4'], ['var_93'], ['var_70'], ['var_84']]\n",
      "['var_0']\n",
      "['var_128']\n",
      "['var_130']\n",
      "['var_131']\n",
      "['var_132']\n",
      "['var_133']\n",
      "['var_134']\n",
      "['var_135']\n",
      "['var_137']\n",
      "['var_138']\n",
      "['var_127']\n",
      "['var_139']\n",
      "['var_141']\n",
      "['var_142']\n",
      "['var_143']\n",
      "['var_144']\n",
      "['var_145']\n",
      "['var_146']\n",
      "['var_147']\n",
      "['var_148']\n",
      "['var_149']\n",
      "['var_140']\n",
      "['var_150']\n",
      "['var_125']\n",
      "['var_122']\n",
      "['var_101']\n",
      "['var_102']\n",
      "['kurt']\n",
      "['var_104']\n",
      "['var_105']\n",
      "['var_106']\n",
      "['var_107']\n",
      "['var_108']\n",
      "['var_109']\n",
      "['var_123']\n",
      "['var_110']\n",
      "['var_112']\n",
      "['var_113']\n",
      "['var_114']\n",
      "['var_115']\n",
      "['var_116']\n",
      "['var_118']\n",
      "['var_119']\n",
      "['var_120']\n",
      "['var_121']\n",
      "['var_111']\n",
      "['var_99']\n",
      "['var_151']\n",
      "['var_154']\n",
      "['var_186']\n",
      "['var_187']\n",
      "['var_188']\n",
      "['var_189']\n",
      "['var_190']\n",
      "['var_191']\n",
      "['var_192']\n",
      "['var_193']\n",
      "['var_194']\n",
      "['var_184']\n",
      "['var_195']\n",
      "['var_197']\n",
      "['var_198']\n",
      "['var_199']\n",
      "['sum']\n",
      "['min']\n",
      "['max']\n",
      "['mean']\n",
      "['std']\n",
      "['skew']\n",
      "['var_196']\n",
      "['var_152']\n",
      "['var_181']\n",
      "['var_179']\n",
      "['var_155']\n",
      "['var_156']\n",
      "['var_157']\n",
      "['var_159']\n",
      "['var_162']\n",
      "['var_163']\n",
      "['var_164']\n",
      "['var_165']\n",
      "['var_166']\n",
      "['var_180']\n",
      "['var_167']\n",
      "['var_169']\n",
      "['var_170']\n",
      "['var_171']\n",
      "['var_172']\n",
      "['var_173']\n",
      "['var_174']\n",
      "['var_175']\n",
      "['var_177']\n",
      "['var_178']\n",
      "['var_168']\n",
      "['var_97']\n",
      "['med']\n",
      "['var_52']\n",
      "['var_35']\n",
      "['var_36']\n",
      "['var_37']\n",
      "['var_40']\n",
      "['var_43']\n",
      "['var_44']\n",
      "['var_45']\n",
      "['var_95']\n",
      "['var_48']\n",
      "['var_49']\n",
      "['var_50']\n",
      "['var_51']\n",
      "['var_53']\n",
      "['var_54']\n",
      "['var_55']\n",
      "['var_56']\n",
      "['var_57']\n",
      "['var_34']\n",
      "['var_33']\n",
      "['var_32']\n",
      "['var_31']\n",
      "['var_11']\n",
      "['var_12']\n",
      "['var_13']\n",
      "['var_15']\n",
      "['var_16']\n",
      "['var_18']\n",
      "['var_19']\n",
      "['var_20']\n",
      "['var_58']\n",
      "['var_8']\n",
      "['var_22']\n",
      "['var_23']\n",
      "['var_24']\n",
      "['var_25']\n",
      "['var_26']\n",
      "['var_28']\n",
      "['var_6']\n",
      "['var_5']\n",
      "['var_21']\n",
      "['var_59']\n",
      "['var_9']\n",
      "['var_76']\n",
      "['var_86']\n",
      "['var_91']\n",
      "['var_72']\n",
      "['var_90']\n",
      "['var_89']\n",
      "['var_88']\n",
      "['var_74']\n",
      "['var_75']\n",
      "['var_60']\n",
      "['var_3']\n",
      "['var_77']\n",
      "['var_78']\n",
      "['var_82']\n",
      "['var_80']\n",
      "['var_81']\n",
      "['var_92']\n",
      "['var_2']\n",
      "['var_83']\n",
      "['var_71']\n",
      "['var_94']\n",
      "['var_62']\n",
      "['var_63']\n",
      "['var_64']\n",
      "['var_85']\n",
      "['var_66']\n",
      "['var_1']\n",
      "['var_87']\n",
      "['var_67']\n",
      "['var_68']\n",
      "['var_69']\n",
      "['var_4']\n",
      "['var_93']\n",
      "['var_70']\n",
      "['var_84']\n",
      "          var_0  var_128  var_130  var_131  var_132  var_133  var_134  \\\n",
      "0        8.9255  -1.9245  12.8287   0.3587   9.6508   6.5674   5.1726   \n",
      "1       11.5006   0.8194  12.4205  -0.1780   5.7582   7.0513   1.9568   \n",
      "2        8.6093  -0.9479  11.5419   0.0975   8.8186   6.6231   3.9358   \n",
      "3       11.0604   3.5974  14.3003   1.0486   8.9500   7.1954  -1.1984   \n",
      "4        9.8369   5.6518  11.4266   0.9442   7.7532   6.6173  -6.8304   \n",
      "5       11.4763  -5.8702  12.7212   0.5762   7.0965   6.6143  -8.8256   \n",
      "6       11.8091   2.7085  11.9410   0.5405   8.9913   7.4506 -13.2871   \n",
      "7       13.5580   1.7439  11.3924   0.4158   9.8819   7.0754  -1.8253   \n",
      "8       16.1071  -2.3019  10.4515   1.1093   9.2075   6.8742  -6.2121   \n",
      "9       12.5088   2.0829  10.8094   0.3322   9.4819   6.9338   1.8246   \n",
      "10       5.0702  -6.0840  10.7361   0.9447   8.2966   7.2528  -4.0378   \n",
      "11      12.7188  -3.1777  11.3442   0.8558   8.1213   6.5528 -12.9403   \n",
      "12       8.7671   2.8208  10.3046   1.0380   5.9949   7.0451   0.4879   \n",
      "13      16.3699  -5.0549  11.7535   0.4436   6.0714   6.7134  -1.1220   \n",
      "14      13.8080  -3.0522  13.3206   0.7150   5.5274   6.5929 -15.8721   \n",
      "15       3.9416  -7.3826  12.4578   0.4224   6.6427   7.0095  -5.9515   \n",
      "16       5.0615  -3.8558  11.6274   0.8295  10.4020   6.1790  -2.6272   \n",
      "17       8.4199  -6.2617  12.8294   0.8626   7.2892   6.5635   0.1704   \n",
      "18       4.8750   2.6657  11.8442   0.4644  10.0784   6.8475 -14.8550   \n",
      "19       4.4090  -4.0559  13.1102   0.4008   9.5009   6.5727   2.4084   \n",
      "20      12.6700   0.2440  12.6822   1.3384   5.1831   7.1738 -13.1584   \n",
      "21       8.3918   2.1440  12.7447   1.1885   8.4460   7.0110  -1.5954   \n",
      "22      10.2031   0.5809  12.2067   0.3768   6.7783   7.2646  -3.8185   \n",
      "23      15.0029   1.9237  12.2851   0.6530   6.8515   6.1327   3.0198   \n",
      "24       5.9240  -6.1184  12.5347   0.5832   8.7308   6.5548  -5.0505   \n",
      "25       8.2703  -5.9219  12.3842   0.9785   9.4513   6.1615 -10.8289   \n",
      "26      15.6567  -0.9305  13.6421   1.1117   9.6011   6.4295 -10.5237   \n",
      "27      10.7166   1.0908  12.8102   1.2527   7.0163   7.3002  -0.1499   \n",
      "28       7.8010   1.9425  10.9348  -0.1226   9.0848   6.3913   7.3021   \n",
      "29       5.3301  -1.8983  13.2595   0.6290   6.7389   6.7442 -13.3660   \n",
      "...         ...      ...      ...      ...      ...      ...      ...   \n",
      "199970  15.5794  -0.6543  11.3458  -0.0564   8.4751   7.0147  -1.5982   \n",
      "199971  14.5745   2.2848  11.9215   0.0320   7.8522   7.0305   0.3866   \n",
      "199972   7.4206  -3.1137  13.1675   0.8763   8.3248   6.6981  -2.3256   \n",
      "199973   8.7758  -2.4106  12.7307   0.2868   8.0788   6.5560  -3.5857   \n",
      "199974  16.2010  -6.0272  11.8268   0.4557   9.0735   7.0196   5.3313   \n",
      "199975   7.5238   0.9128  12.5989   0.1452   7.8771   6.4271  -8.3419   \n",
      "199976   7.9663  -6.6550  11.9462  -0.0308   9.8034   6.7720  -2.2967   \n",
      "199977   7.3884   1.9819  13.2880   0.1217   9.6946   7.2054 -12.2115   \n",
      "199978  12.2015  -0.6341  12.3702   0.5402   7.7651   6.5383 -13.5990   \n",
      "199979  10.8208  -3.9459  12.7416  -0.3402   5.7702   7.0959  -0.6346   \n",
      "199980   7.9618  -1.4847  10.5573   0.5571   9.4143   6.4302 -10.9613   \n",
      "199981  12.8140  -4.9395  12.4026   0.0861   5.8055   6.3664  -2.8365   \n",
      "199982  11.8224   1.3114  11.9252   0.4103  10.7748   6.4122 -15.7848   \n",
      "199983  15.3063   2.9422  13.1730   0.4467   6.5467   6.7486 -11.8286   \n",
      "199984  11.3184   1.8319  12.1869   0.6820   5.6561   6.3231  -4.7771   \n",
      "199985   9.0249  -0.4085  12.6805   0.1709   8.2838   6.3978 -10.0960   \n",
      "199986  12.0298  -4.2013  11.7676   0.5278   8.5879   7.4411 -14.8149   \n",
      "199987   8.0438  -3.5102  11.0339   0.2456   6.9397   6.7041 -13.6591   \n",
      "199988  10.8657  -3.6424  12.3307   0.4486   8.3600   6.7775  -7.9465   \n",
      "199989  11.7554  -0.8700  12.8308   0.4981   6.6778   6.5820 -14.5698   \n",
      "199990  14.1475   1.2784  12.6645   0.4973   8.1403   6.4378  -8.2097   \n",
      "199991   9.9909  -1.4757  11.6918   1.3550   7.7013   7.0071   2.2016   \n",
      "199992  12.2825   2.0796  10.9763   0.9816   8.0911   6.8055  -9.4673   \n",
      "199993  13.2152  -4.5207  12.7264   0.3502   8.8219   6.8117  -0.8046   \n",
      "199994  12.3925  -9.6360  13.0762   0.3982   6.6118   6.8521  -7.8369   \n",
      "199995  11.4880   0.2212  12.7663   1.2414   7.1304   7.4108  -6.3369   \n",
      "199996   4.9149  -1.2406  12.6133   0.6524   8.3929   6.9125  -6.0942   \n",
      "199997  11.2232  -4.8512  12.3827   0.5293   8.0588   7.1081  -9.2317   \n",
      "199998   9.7148   5.3751  11.6873   0.6677   8.3511   6.5834   1.6146   \n",
      "199999  10.8762  -1.6082  11.7936   0.2316   8.1760   7.6166 -18.3865   \n",
      "\n",
      "        var_135  var_137  var_138   ...     var_66   var_1   var_87   var_67  \\\n",
      "0        3.1345  31.4045   2.8279   ...     5.8056 -6.7863  16.4597  22.4321   \n",
      "1       -8.9921  18.1577  -1.9721   ...     5.4007 -4.1473  11.0993   7.9344   \n",
      "2      -11.7218  15.5827   3.8212   ...     7.3667 -2.7457   9.5413   9.8565   \n",
      "3        1.9586  24.6065  -2.8233   ...     5.6221 -2.1518  15.6298  23.6143   \n",
      "4        6.4730  25.8128   2.6791   ...     6.9860 -1.4834  20.1670   1.6184   \n",
      "5       -0.9844  11.9963  -5.9018   ...     4.9098 -2.3182  19.9457  14.1160   \n",
      "6       -5.7890   7.8704   5.2588   ...     5.8610 -0.0832   6.3112  13.5793   \n",
      "7       -1.9968  28.9405  -0.0447   ...     5.2078 -7.9881   6.0584   8.7720   \n",
      "8      -16.4566  21.1216   7.4044   ...     4.1319  2.4426  16.1938   3.6984   \n",
      "9       10.1502  17.1042  -7.9580   ...     6.1250  1.9743  11.9991  21.6131   \n",
      "10     -13.6109  29.5525  -0.0033   ...     4.5168 -0.5447  10.9208  15.2323   \n",
      "11      -7.6193  10.2728  -1.5431   ...     6.9901 -7.9750  22.0970  15.9448   \n",
      "12      11.9585  38.4982   2.2086   ...     4.7486 -4.6154   7.6764  14.4361   \n",
      "13      12.0274   6.3593  -1.5168   ...     6.2113  1.5934   8.2186  16.2506   \n",
      "14      -3.1137  11.9432  -5.2207   ...     5.6207  5.0514  16.1663   9.5731   \n",
      "15       4.0630  15.3688   0.8297   ...     4.4527  2.6562  18.8752  14.2933   \n",
      "16     -14.2882   5.2664  -1.0427   ...     3.4905  0.2689   8.0033   2.0856   \n",
      "17       9.5402  31.3978  -2.2524   ...     6.3682 -1.8128   6.6244  12.5329   \n",
      "18     -16.8807  20.9290   9.3973   ...     6.2716  1.2646   3.3563  13.3320   \n",
      "19      -7.9306   2.9664   3.8069   ...     4.1507 -0.7863   0.7336   8.5207   \n",
      "20      -8.4865   9.6472  10.6961   ...     5.8804 -2.0221  15.9885   7.8897   \n",
      "21     -13.0368  11.2478   7.2111   ...     5.9110  1.4806  12.8822  19.5145   \n",
      "22     -16.5446  26.6366  -3.6905   ...     6.1439  0.1925  13.8612   5.7568   \n",
      "23       8.5609  23.9090  -1.7358   ...     6.4501 -9.3439   7.0072   8.0438   \n",
      "24       6.9720   9.7075  -4.6888   ...     4.8686 -3.7285  16.1598  -7.1870   \n",
      "25     -11.5367  37.1198  -0.0375   ...     4.3174 -5.6854  18.2655   2.8639   \n",
      "26      -3.7284   2.8418   2.2983   ...     7.2065 -4.4950  17.3982  21.6059   \n",
      "27      -5.7638  12.1789   5.9191   ...     4.2232 -9.9800   3.0316  14.1733   \n",
      "28       0.1359   2.4727   5.8960   ...     5.9806  4.5262   9.2951  10.2493   \n",
      "29     -16.8994  17.4941  -3.5349   ...     4.3773 -2.6064   7.6681   4.7981   \n",
      "...         ...      ...      ...   ...        ...     ...      ...      ...   \n",
      "199970  -7.8212  19.3076  -2.4656   ...     5.9314 -2.5687  10.0066   6.5732   \n",
      "199971  -0.2210  15.6978  11.8619   ...     4.0628 -3.9178   5.5955  17.7365   \n",
      "199972 -12.6770  27.2779  -2.4730   ...     5.0350 -2.5972  14.7647   6.4972   \n",
      "199973   3.3451   8.3636   4.0919   ...     5.9572 -0.4604  11.9756  17.2192   \n",
      "199974   1.1909  23.7298   3.7028   ...     5.7370 -5.7847   1.1316  -2.2542   \n",
      "199975  -8.6095   5.3670   7.7102   ...     6.1925  1.0548   4.3880   8.6928   \n",
      "199976   1.5215  21.4003   2.1900   ...     4.7917 -2.8485  10.5353  14.1595   \n",
      "199977 -13.5867   9.3868   3.4083   ...     3.9192 -0.8093  -1.0329  24.7072   \n",
      "199978   9.2323  25.3543  -0.5050   ...     5.3533 -0.8787   7.4395  24.3645   \n",
      "199979 -11.7833  14.7583  -1.8698   ...     5.3673 -2.9344   8.2874   0.9357   \n",
      "199980  -8.6448  14.1988   1.2722   ...     5.1901  6.2271  17.5305   3.5608   \n",
      "199981  -4.5457  10.0058   5.5039   ...     5.0870  0.6386  16.4439  14.1366   \n",
      "199982   0.4468  22.8542   4.1054   ...     7.4627 -2.3596  14.1664  24.8053   \n",
      "199983   6.8363  12.1128   6.4844   ...     7.1065  2.8260  13.9792  23.2475   \n",
      "199984  -9.8009  18.2720   2.2214   ...     3.8906  0.3745  19.8832   0.2720   \n",
      "199985   8.2796  29.6541   4.3691   ...     5.6867 -3.6379  17.5459  18.7112   \n",
      "199986  -6.1987   8.6310  -1.9898   ...     5.4813 -8.7800   7.1431  17.3342   \n",
      "199987 -14.3653   5.4283  11.5602   ...     6.0741 -1.9184  23.8442  14.8717   \n",
      "199988  -5.1914   9.3849   3.9120   ...     4.7991 -8.3545  17.5448  18.4628   \n",
      "199989 -14.2392   9.6059   2.6857   ...     4.8635 -4.5356  16.7626   9.9683   \n",
      "199990   1.5164  14.7229   5.3334   ...     6.2847  1.8568  10.3809   3.3086   \n",
      "199991  -6.7182  22.0202   2.1429   ...     6.5610  2.5523   7.8958  16.0365   \n",
      "199992 -17.2125  23.2429  -4.6024   ...     5.7094  2.6918   5.2633  17.5470   \n",
      "199993  -5.3284  27.8706   2.5958   ...     5.6490 -5.8006  11.7697  24.8661   \n",
      "199994  -5.4932   7.7356   1.4871   ...     6.0892 -5.8821   9.0312  13.5714   \n",
      "199995   3.0760  20.3410   5.3312   ...     5.6063 -0.4956   0.9845   7.0054   \n",
      "199996  -6.3209  17.6153  -2.9070   ...     6.1534 -2.4484  16.0239  12.9087   \n",
      "199997 -11.9277  22.5568   3.0665   ...     5.7782 -5.0518   6.3349  14.5730   \n",
      "199998   4.8462   3.8390   0.6656   ...     5.1595 -8.6098   5.6786  -2.8395   \n",
      "199999  -7.3542  15.5464  -0.9083   ...     5.4680 -5.7105  22.4258  10.3979   \n",
      "\n",
      "        var_68  var_69    var_4   var_93   var_70   var_84  \n",
      "0       5.0109 -4.7010  11.4607   9.9913  21.6374  -4.5213  \n",
      "1       5.0220  2.2302  12.3622  10.9631  40.5632  -5.4850  \n",
      "2       5.0228 -5.7828  10.5825  10.5080   2.3612   5.4604  \n",
      "3       5.0220 -3.9989  12.5846  10.7795   4.0462   1.6027  \n",
      "4       5.0301 -3.2431  12.2772  10.4316  40.1236   7.8984  \n",
      "5       5.0110 -5.6684  10.9621  10.5375  35.2664  -8.3058  \n",
      "6       5.0178 -5.7921  11.1355  10.4502  21.1640  -1.3374  \n",
      "7       5.0128 -7.4110   8.6543  11.2303  27.0016  -0.3443  \n",
      "8       5.0157  1.4661   8.8014  10.6106  18.5359  -0.5715  \n",
      "9       5.0257 -1.4481  13.6043   9.9112  34.4640  -5.2838  \n",
      "10      5.0206 -6.3509  12.3910  10.6976  28.6126  -7.7240  \n",
      "11      5.0253 -0.0277  12.8570  10.0539  19.8306  -2.8363  \n",
      "12      5.0129  1.1689   9.0254  11.5760  18.5420  -2.3319  \n",
      "13      5.0265 -5.2830  12.1450  10.1819  43.2469  13.5283  \n",
      "14      5.0203 -5.9425  12.8517  10.3820  36.6398  -6.2429  \n",
      "15      5.0085 -5.7862  12.2806   9.0939  11.3269  -0.4324  \n",
      "16      5.0242 -5.1323  13.5276  10.2613  23.6358  -2.6912  \n",
      "17      5.0241 -8.7311   9.7184   9.3566  37.2751   1.8532  \n",
      "18      5.0080 -0.4369  10.7203  11.2730  21.8863 -10.8470  \n",
      "19      5.0275 -6.7811  11.2831   9.9844  21.4549  -8.2678  \n",
      "20      5.0261  0.3437   9.5677  10.0195  20.7542  -5.7074  \n",
      "21      5.0280 -1.7822  11.1531  10.9104  35.5606   5.1084  \n",
      "22      5.0293 -4.4006  11.8514   9.7987  38.9836  -4.7523  \n",
      "23      5.0361 -8.5015  13.0204  11.6642  28.8194 -14.9462  \n",
      "24      5.0209  2.9228  11.7363  10.7258  31.3393  -8.4000  \n",
      "25      5.0275 -1.1109  12.3713  10.4117  19.8751 -17.3215  \n",
      "26      5.0179 -6.2551   8.8813  10.1876  23.0071   0.1145  \n",
      "27      5.0330 -3.4632  10.6803  11.3088  14.2319 -11.5954  \n",
      "28      5.0243 -6.5654  12.8435  10.5855  15.6412  -5.4000  \n",
      "29      5.0202 -5.1929   6.6483  10.0164  39.3510  -6.4194  \n",
      "...        ...     ...      ...      ...      ...      ...  \n",
      "199970  5.0224 -1.3785  10.7471   9.4400  23.8899 -10.6069  \n",
      "199971  5.0181 -1.3882  10.9593  11.0145  28.7046  -5.5990  \n",
      "199972  5.0060 -6.7189  14.1996  10.6893  21.4721   4.3330  \n",
      "199973  5.0045 -6.4670  13.0035  10.7877  33.8048  -1.4894  \n",
      "199974  5.0258 -8.6453  11.6020  11.1162  37.3691   2.7253  \n",
      "199975  5.0177 -3.7795   7.1841  10.8130   9.0998  -5.7705  \n",
      "199976  5.0126 -2.1490   9.6690  10.5002  12.9167  -8.9329  \n",
      "199977  5.0231 -4.2128  14.3232  10.6687  17.6524  -7.6967  \n",
      "199978  5.0212 -7.4077  10.3219   9.4244  38.2854   1.2883  \n",
      "199979  5.0021 -6.5292   9.4014  11.2218  44.5219   6.4994  \n",
      "199980  5.0053 -3.8954  12.5645  11.4242  23.4984  -1.2187  \n",
      "199981  5.0171 -4.7513   8.9365  11.2750  29.4566  -3.8007  \n",
      "199982  5.0147  1.3038  11.1665   9.2780  36.5437  -2.8339  \n",
      "199983  5.0224 -6.7119  11.4529  10.6381   9.2302   4.6383  \n",
      "199984  5.0164 -7.8428  10.3655  10.9630  37.6025  -9.4825  \n",
      "199985  5.0182 -1.9304  12.1701   9.3172  25.9545  -6.2909  \n",
      "199986  5.0196 -1.2596   9.2305  10.2926   4.7895  -6.3914  \n",
      "199987  5.0176 -4.7746   8.9886   9.4138  38.1638  -9.0030  \n",
      "199988  5.0224 -3.7411   9.5523  10.0130  19.2309   1.9744  \n",
      "199989  5.0212  1.7335  10.6232   9.5201  29.5240   0.3792  \n",
      "199990  5.0167 -7.6718  12.1944  10.9310  23.4462  -0.8730  \n",
      "199991  5.0258 -6.1367  13.5497  10.9765  48.5375 -11.0950  \n",
      "199992  5.0183 -5.7827  10.9863  10.4741  26.6706  -8.7127  \n",
      "199993  5.0271 -6.8852  12.4612   9.7887  12.0450  -3.6381  \n",
      "199994  5.0171 -8.5192  10.4509  11.0440  11.2478   2.6704  \n",
      "199995  5.0171 -5.0055  10.3404  10.5084  28.9502  -2.5955  \n",
      "199996  5.0398 -0.4247   8.3096  11.1977  22.6256   1.1233  \n",
      "199997  5.0075 -1.0104   9.3410  10.5645  25.6050   6.4020  \n",
      "199998  5.0116  2.4464  12.5173  10.0272  24.0896  -9.0318  \n",
      "199999  5.0209 -6.9248  11.5577  11.5051  32.4865  -3.1634  \n",
      "\n"
     ]
    },
    {
     "name": "stdout",
     "output_type": "stream",
     "text": [
      "[200000 rows x 174 columns]\n"
     ]
    }
   ],
   "source": [
    "features = np.array(feature_df[['features']][feature_df['rank'] == 1]).tolist()\n",
    "print(features)\n",
    "features2 = []\n",
    "for i in features:\n",
    "    print(i)\n",
    "    features2.append(i[0])\n",
    "print(train_df[features2])\n",
    "train_df[features2].to_csv('train_clean4.csv', index=False)\n",
    "\n",
    "test_df = pd.read_csv('test_clean3.csv')\n",
    "test_df[features2].to_csv('test_clean4.csv', index=False)"
   ]
  },
  {
   "cell_type": "code",
   "execution_count": null,
   "metadata": {},
   "outputs": [],
   "source": []
  }
 ],
 "metadata": {
  "kernelspec": {
   "display_name": "Python 3",
   "language": "python",
   "name": "python3"
  },
  "language_info": {
   "codemirror_mode": {
    "name": "ipython",
    "version": 3
   },
   "file_extension": ".py",
   "mimetype": "text/x-python",
   "name": "python",
   "nbconvert_exporter": "python",
   "pygments_lexer": "ipython3",
   "version": "3.6.5"
  }
 },
 "nbformat": 4,
 "nbformat_minor": 2
}
