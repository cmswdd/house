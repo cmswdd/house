{
 "cells": [
  {
   "cell_type": "code",
   "execution_count": 1,
   "metadata": {},
   "outputs": [],
   "source": [
    "import pandas as pd\n",
    "import numpy as np\n",
    "import lightgbm as lgb\n",
    "import matplotlib.pyplot as plt\n",
    "import seaborn as sns\n",
    "from sklearn.model_selection import KFold\n",
    "from sklearn.metrics import r2_score\n",
    "import os\n",
    "import datetime\n",
    "import warnings\n",
    "import copy\n",
    "from pandas.core.common import SettingWithCopyWarning\n",
    "warnings.simplefilter(action='ignore', category=SettingWithCopyWarning)\n",
    "warnings.simplefilter(action='ignore', category=UserWarning)"
   ]
  },
  {
   "cell_type": "code",
   "execution_count": 2,
   "metadata": {
    "code_folding": [
     0
    ]
   },
   "outputs": [],
   "source": [
    "def parseData(df):\n",
    "    \"\"\"\n",
    "    预处理数据\n",
    "    \"\"\"\n",
    "    df['rentType'][df['rentType']=='--'] = '未知方式'\n",
    "    # 转换object类型数据\n",
    "    columns = ['rentType', 'houseFloor', 'houseDecoration', 'communityName', 'region', 'plate']\n",
    "    for col in columns:\n",
    "        df[col] = df[col].astype('category')\n",
    "        \n",
    "    # 将buildYear列转换为整型数据\n",
    "    tmp = df['buildYear'].copy()\n",
    "    tmp2 = tmp[tmp!='暂无信息'].astype('int')\n",
    "    tmp[tmp=='暂无信息'] = tmp2.mode().iloc[0]\n",
    "    df['buildYear'] = tmp\n",
    "    df['buildYear'] = df['buildYear'].astype('int')\n",
    "    \n",
    "    # 处理pv和uv的空值\n",
    "    df['pv'].fillna(df['pv'].mean(),inplace=True)\n",
    "    df['uv'].fillna(df['uv'].mean(),inplace=True)\n",
    "    df['pv'] = df['pv'].astype('int')\n",
    "    df['uv'] = df['uv'].astype('int')\n",
    "    \n",
    "    # 去掉部分特征\n",
    "    df.drop('communityName',axis=1, inplace=True)\n",
    "    df.drop('city',axis=1,inplace=True)\n",
    "    \n",
    "    \n",
    "    agg_func = {\n",
    "        'buildYear' : ['max','min'],\n",
    "    \n",
    "        'pv': ['max','min','mean'],\n",
    "        'uv': ['max','min','mean'],\n",
    "\n",
    "    }\n",
    "    \n",
    "    agg_trans = df.groupby(['ID']).agg(agg_func)\n",
    "    agg_trans.columns = [ '_'.join(col).strip() \n",
    "                               for col in agg_trans.columns.values]\n",
    "    agg_trans.reset_index(inplace=True)\n",
    "    df = pd.merge(df, agg_trans, on='ID', how='left')\n",
    "    \n",
    "    return df"
   ]
  },
  {
   "cell_type": "code",
   "execution_count": 39,
   "metadata": {
    "code_folding": [
     0
    ]
   },
   "outputs": [],
   "source": [
    "def washData(df_train, df_test):\n",
    "    \"\"\"\n",
    "    清洗数据\n",
    "    \"\"\"\n",
    "    df_train = df_train[df_train['area']<=700]\n",
    "    df_train = df_train[df_train['tradeMoney']<=40000]\n",
    "    \n",
    "    df_train = df_train.drop(df_train[(df_train['region']== 'RG00004') & (df_train['tradeMoney']>30000)].index)\n",
    "    df_train = df_train.drop(df_train[(df_train['region']== 'RG00009') & (df_train['tradeMoney']>40000)].index)\n",
    "    \n",
    "    \n",
    "    df_train = df_train.drop(df_train[(df_train['plate']== 'BK00005') & (df_train['tradeMoney']>14000)].index)\n",
    "    df_train = df_train.drop(df_train[(df_train['plate']== 'BK00011') & (df_train['tradeMoney']>14000)].index)\n",
    "    df_train = df_train.drop(df_train[(df_train['plate']== 'BK00010') & (df_train['tradeMoney']>14000)].index)\n",
    "    df_train = df_train.drop(df_train[(df_train['plate']== 'BK00033') & (df_train['tradeMoney']>14000)].index)\n",
    "    df_train = df_train.drop(df_train[(df_train['plate']== 'BK00002') & (df_train['tradeMoney']>14000)].index)\n",
    "    \n",
    "   \n",
    "    df_train.drop('ID', axis=1, inplace=True)\n",
    "    df_test.drop('ID', axis=1,inplace=True)\n",
    "    \n",
    "    return df_train, df_test"
   ]
  },
  {
   "cell_type": "code",
   "execution_count": 4,
   "metadata": {
    "code_folding": [
     0,
     5
    ]
   },
   "outputs": [],
   "source": [
    "def feature(df):\n",
    "    \"\"\"\n",
    "    特征\n",
    "    \"\"\"\n",
    "    #houseType\n",
    "    df['rooms'] = df['houseType'].str.extract(r'(\\d+室)', expand=False).apply(lambda x: eval(x.split('室')[0]))\n",
    "    df['halls'] = df['houseType'].str.extract(r'(\\d+厅)', expand=False).apply(lambda x: eval(x.split('厅')[0]))\n",
    "    df['toilet'] = df['houseType'].str.extract(r'(\\d+卫)', expand=False).apply(lambda x: eval(x.split('卫')[0]))\n",
    "\n",
    "    #卧室面积\n",
    "    df['roomsarea']=df['area']/df['rooms']\n",
    "\n",
    "    \n",
    "    df['houseToward'].replace(to_replace='暂无数据',value=np.nan,inplace=True)\n",
    "    df['houseToward'].replace(to_replace='西',value=5,inplace=True)\n",
    "    df['houseToward'].replace(to_replace='西北',value=6,inplace=True)\n",
    "    df['houseToward'].replace(to_replace='北',value=4,inplace=True)\n",
    "    df['houseToward'].replace(to_replace='西南',value=3,inplace=True)\n",
    "    df['houseToward'].replace(to_replace='东',value=2,inplace=True)\n",
    "    df['houseToward'].replace(to_replace='东西',value=2,inplace=True)\n",
    "    df['houseToward'].replace(to_replace='东南',value=1,inplace=True)\n",
    "    df['houseToward'].replace(to_replace='南',value=0,inplace=True)\n",
    "    df['houseToward'].replace(to_replace='南北',value=0,inplace=True)\n",
    "    df['houseToward'] = df['houseToward'].fillna(df['houseToward'].mean()).astype(int)\n",
    "    \n",
    "    df['rentType'].replace(to_replace='未知方式',value=np.nan,inplace=True)\n",
    "    df['rentType'].replace(to_replace='整租',value=0,inplace=True)\n",
    "    df['rentType'].replace(to_replace='合租',value=1,inplace=True)\n",
    "    df['rentType'] = df['rentType'].fillna(0).astype(int)\n",
    "    \n",
    "\n",
    "    subway = []\n",
    "    df_subway = list(copy.deepcopy(df['subwayStationNum']))\n",
    "    for i in df_subway:\n",
    "        if i >= df['subwayStationNum'].mean():\n",
    "            subway.append(1)\n",
    "        else:\n",
    "            subway.append(0)\n",
    "    df['subway'] = subway\n",
    "    \n",
    "    #楼的总面积\n",
    "    total_square = []\n",
    "    totalFloor = list(copy.deepcopy(df['totalFloor']))\n",
    "    area = list(copy.deepcopy(df['area']))\n",
    "    for i in range(len(totalFloor)):\n",
    "        temp = totalFloor[i] * area[i]\n",
    "        total_square.append(temp)\n",
    "    df['total_square'] = total_square\n",
    "    \n",
    "\n",
    "    \n",
    "    \n",
    "    #tradeTime\n",
    "    df[\"tradeTime\"] = pd.to_datetime(df[\"tradeTime\"])\n",
    "    df['week'] = df[\"tradeTime\"].dt.weekofyear\n",
    "    df[\"month\"] = df[\"tradeTime\"].dt.month\n",
    "    \n",
    "    \n",
    "    df['lgarea'] = np.log1p(df['area'])\n",
    "    \n",
    "    df.drop('houseType', axis=1, inplace=True)\n",
    "    df.drop('tradeTime', axis=1, inplace=True)\n",
    "\n",
    "    categorical_feats = ['rentType', 'houseFloor', 'houseDecoration', 'region', 'plate']\n",
    "    return df, categorical_feats"
   ]
  },
  {
   "cell_type": "code",
   "execution_count": 5,
   "metadata": {
    "code_folding": [
     0
    ]
   },
   "outputs": [],
   "source": [
    "def getData(feature):\n",
    "    \"\"\"\n",
    "    获取数据\n",
    "    \"\"\"\n",
    "    train = pd.read_csv('../input/train_data.csv')\n",
    "    test = pd.read_csv('../input/test_a.csv')\n",
    "    \n",
    "    train = parseData(train)\n",
    "    test = parseData(test)\n",
    "    \n",
    "    train, test = washData(train, test)\n",
    "    \n",
    "    train, col = feature(train)\n",
    "    test, col = feature(test)\n",
    "\n",
    "    \n",
    "    target = train.pop('tradeMoney')\n",
    "    features = train.columns\n",
    "    categorical_feats = col\n",
    "    \n",
    "    \n",
    "    return train, test, target, features, categorical_feats"
   ]
  },
  {
   "cell_type": "markdown",
   "metadata": {},
   "source": [
    "# 训练模型"
   ]
  },
  {
   "cell_type": "code",
   "execution_count": 40,
   "metadata": {
    "scrolled": true
   },
   "outputs": [],
   "source": [
    "train, test, target, features, categorical_feats = getData(feature)"
   ]
  },
  {
   "cell_type": "code",
   "execution_count": 22,
   "metadata": {},
   "outputs": [
    {
     "data": {
      "text/plain": [
       "count    41343.000000\n",
       "mean      4761.838280\n",
       "std       3673.143843\n",
       "min          0.000000\n",
       "25%       2800.000000\n",
       "50%       4000.000000\n",
       "75%       5400.000000\n",
       "max      45000.000000\n",
       "Name: tradeMoney, dtype: float64"
      ]
     },
     "execution_count": 22,
     "metadata": {},
     "output_type": "execute_result"
    }
   ],
   "source": [
    "target.describe()"
   ]
  },
  {
   "cell_type": "code",
   "execution_count": 305,
   "metadata": {
    "collapsed": true
   },
   "outputs": [
    {
     "data": {
      "text/plain": [
       "<Figure size 432x288 with 0 Axes>"
      ]
     },
     "metadata": {},
     "output_type": "display_data"
    },
    {
     "data": {
      "image/png": "[encoded data removed]",
      "text/plain": [
       "<Figure size 1080x720 with 1 Axes>"
      ]
     },
     "metadata": {},
     "output_type": "display_data"
    }
   ],
   "source": [
    "'''plt.clf()\n",
    "plt.clf()\n",
    "plt.figure(figsize=(15,10))\n",
    "plt.scatter(x=train.loc[:,'plate'],y=target)\n",
    "plt.show()'''"
   ]
  },
  {
   "cell_type": "code",
   "execution_count": 96,
   "metadata": {
    "collapsed": true
   },
   "outputs": [
    {
     "data": {
      "text/plain": [
       "<Figure size 432x288 with 0 Axes>"
      ]
     },
     "metadata": {},
     "output_type": "display_data"
    },
    {
     "data": {
      "image/png": "[encoded data removed]",
      "text/plain": [
       "<Figure size 1440x720 with 1 Axes>"
      ]
     },
     "metadata": {},
     "output_type": "display_data"
    }
   ],
   "source": [
    "'''plt.clf()\n",
    "plt.clf()\n",
    "plt.figure(figsize=(20,10))\n",
    "plt.scatter(x=train.loc[:,'region'],y=target)\n",
    "plt.show()'''"
   ]
  },
  {
   "cell_type": "code",
   "execution_count": 52,
   "metadata": {
    "collapsed": true
   },
   "outputs": [
    {
     "data": {
      "text/plain": [
       "count    4.141400e+04\n",
       "mean              inf\n",
       "std               NaN\n",
       "min      5.000000e-01\n",
       "25%      4.040125e+01\n",
       "50%      5.074250e+01\n",
       "75%      6.678375e+01\n",
       "max               inf\n",
       "Name: hallsarea, dtype: float64"
      ]
     },
     "execution_count": 52,
     "metadata": {},
     "output_type": "execute_result"
    }
   ],
   "source": [
    "train['hallsarea'].describe()"
   ]
  },
  {
   "cell_type": "code",
   "execution_count": 7,
   "metadata": {},
   "outputs": [],
   "source": [
    "train.to_csv('train_other.csv',encoding = 'gbk')\n",
    "test.to_csv('test_other.csv',encoding = 'gbk')"
   ]
  },
  {
   "cell_type": "code",
   "execution_count": 8,
   "metadata": {},
   "outputs": [
    {
     "data": {
      "text/plain": [
       "\"train = pd.read_csv('train_other.csv',encoding = 'gbk')\\ntest = pd.read_csv('test_other.csv',encoding = 'gbk')\""
      ]
     },
     "execution_count": 8,
     "metadata": {},
     "output_type": "execute_result"
    }
   ],
   "source": [
    "'''train = pd.read_csv('train_other.csv',encoding = 'gbk')\n",
    "test = pd.read_csv('test_other.csv',encoding = 'gbk')'''"
   ]
  },
  {
   "cell_type": "code",
   "execution_count": 23,
   "metadata": {
    "collapsed": true
   },
   "outputs": [
    {
     "data": {
      "text/plain": [
       "Index(['area', 'rentType', 'houseFloor', 'totalFloor', 'houseToward',\n",
       "       'houseDecoration', 'region', 'plate', 'buildYear', 'saleSecHouseNum',\n",
       "       'subwayStationNum', 'busStationNum', 'interSchoolNum', 'schoolNum',\n",
       "       'privateSchoolNum', 'hospitalNum', 'drugStoreNum', 'gymNum', 'bankNum',\n",
       "       'shopNum', 'parkNum', 'mallNum', 'superMarketNum', 'totalTradeMoney',\n",
       "       'totalTradeArea', 'tradeMeanPrice', 'tradeSecNum', 'totalNewTradeMoney',\n",
       "       'totalNewTradeArea', 'tradeNewMeanPrice', 'tradeNewNum', 'remainNewNum',\n",
       "       'supplyNewNum', 'supplyLandNum', 'supplyLandArea', 'tradeLandNum',\n",
       "       'tradeLandArea', 'landTotalPrice', 'landMeanPrice', 'totalWorkers',\n",
       "       'newWorkers', 'residentPopulation', 'pv', 'uv', 'lookNum',\n",
       "       'buildYear_max', 'buildYear_min', 'pv_max', 'pv_min', 'pv_mean',\n",
       "       'uv_max', 'uv_min', 'uv_mean', 'rooms', 'halls', 'toilet', 'roomsarea',\n",
       "       'subway', 'week', 'month', 'lgarea'],\n",
       "      dtype='object')"
      ]
     },
     "execution_count": 23,
     "metadata": {},
     "output_type": "execute_result"
    }
   ],
   "source": [
    "features"
   ]
  },
  {
   "cell_type": "code",
   "execution_count": 38,
   "metadata": {},
   "outputs": [
    {
     "data": {
      "text/plain": [
       "['rentType', 'houseFloor', 'houseDecoration', 'region', 'plate']"
      ]
     },
     "execution_count": 38,
     "metadata": {},
     "output_type": "execute_result"
    }
   ],
   "source": [
    "categorical_feats"
   ]
  },
  {
   "cell_type": "code",
   "execution_count": 61,
   "metadata": {},
   "outputs": [],
   "source": [
    "import lightgbm as lgb\n",
    "import numpy as np\n",
    "import sklearn.datasets\n",
    "import sklearn.metrics\n",
    "from sklearn.model_selection import train_test_split\n",
    "from sklearn.model_selection import KFold, StratifiedKFold\n",
    "import optuna\n",
    "import gc\n",
    "\n",
    "\n",
    "def rmse(y_true, y_pred):\n",
    "    return np.sqrt(mean_squared_error(y_true, y_pred))\n",
    "\n",
    "def objective(trial):\n",
    "        num_folds = 5\n",
    "        \n",
    "        train_x, train_y = train, target\n",
    "        #data, target = sklearn.datasets.load_breast_cancer(return_X_y=True)\n",
    "        '''dtrain = lgb.Dataset(train_x, label=train_y)'''\n",
    "        \n",
    "       \n",
    "        lgbm_train = lgb.Dataset(train_x,\n",
    "                                 train_y,\n",
    "                                  free_raw_data=False\n",
    "                                  )\n",
    "        params = {'objective': 'regression',\n",
    "                  'metric': 'rmse',\n",
    "                  'verbosity': -1,\n",
    "                  \"learning_rate\": trial.suggest_uniform('learning_rate', 0.001, 0.05),\n",
    "                  \n",
    "                  'device': 'gpu',\n",
    "                  'gpu_platform_id': 1,\n",
    "                  'gpu_device_id': 0,\n",
    "                  'num_thread' : 1,\n",
    "                  'sparse_threshold' : 1,\n",
    "                  \n",
    "                  'seed': 2223,\n",
    "                  \"bagging_freq\": 1,\n",
    "                  \"bagging_fraction\": 0.85,\n",
    "                  \"bagging_seed\": 23,\n",
    "                  \"boosting\": \"gbdt\",\n",
    "                  'num_leaves': trial.suggest_int('num_leaves', 16, 200),\n",
    "                  'min_data_in_leaf': trial.suggest_int('min_data_in_leaf', 16, 64),\n",
    "                  'min_child_samples' : trial.suggest_int('min_child_samples', 1, 200),\n",
    "                  'feature_fraction' : trial.suggest_uniform('feature_fraction', 0.001, 1),\n",
    "                  }\n",
    "\n",
    "        folds = StratifiedKFold(n_splits= num_folds, shuffle=True, random_state=47)\n",
    "        #folds = KFold(n_splits= num_folds, shuffle=True, random_state=47)\n",
    "\n",
    "\n",
    "        clf = lgb.cv(\n",
    "                        params,\n",
    "                        lgbm_train,\n",
    "                        metrics=['rmse'],\n",
    "                        nfold=num_folds,\n",
    "                        folds=folds.split(train, target),\n",
    "                        num_boost_round=10000,\n",
    "                        early_stopping_rounds= 200,\n",
    "                        verbose_eval=100,\n",
    "                        seed=47\n",
    "            \n",
    "                         )\n",
    "        gc.collect()\n",
    "        return clf['rmse-mean'][-1]\n",
    "\n"
   ]
  },
  {
   "cell_type": "code",
   "execution_count": 62,
   "metadata": {
    "scrolled": false
   },
   "outputs": [
    {
     "name": "stderr",
     "output_type": "stream",
     "text": [
      "C:\\Anaconda3\\lib\\site-packages\\sklearn\\model_selection\\_split.py:605: Warning:\n",
      "\n",
      "The least populated class in y has only 1 members, which is too few. The minimum number of members in any class cannot be less than n_splits=5.\n",
      "\n"
     ]
    },
    {
     "name": "stdout",
     "output_type": "stream",
     "text": [
      "[100]\tcv_agg's rmse: 2568.13 + 135.373\n",
      "[200]\tcv_agg's rmse: 1985.67 + 122.355\n",
      "[300]\tcv_agg's rmse: 1678.04 + 115.652\n",
      "[400]\tcv_agg's rmse: 1513.49 + 111.041\n",
      "[500]\tcv_agg's rmse: 1418.61 + 106.842\n",
      "[600]\tcv_agg's rmse: 1363.03 + 104.296\n",
      "[700]\tcv_agg's rmse: 1328.38 + 102.681\n",
      "[800]\tcv_agg's rmse: 1304.6 + 101.192\n",
      "[900]\tcv_agg's rmse: 1286.47 + 99.929\n",
      "[1000]\tcv_agg's rmse: 1274.36 + 98.9969\n",
      "[1100]\tcv_agg's rmse: 1265.04 + 98.642\n",
      "[1200]\tcv_agg's rmse: 1257.57 + 98.3879\n",
      "[1300]\tcv_agg's rmse: 1251.03 + 98.0674\n",
      "[1400]\tcv_agg's rmse: 1244.48 + 97.6809\n",
      "[1500]\tcv_agg's rmse: 1239.6 + 97.4156\n",
      "[1600]\tcv_agg's rmse: 1235.53 + 97.3449\n",
      "[1700]\tcv_agg's rmse: 1232.01 + 97.3463\n",
      "[1800]\tcv_agg's rmse: 1229.27 + 97.1466\n",
      "[1900]\tcv_agg's rmse: 1226.42 + 97.0109\n",
      "[2000]\tcv_agg's rmse: 1224.48 + 97.0442\n",
      "[2100]\tcv_agg's rmse: 1222.36 + 96.873\n",
      "[2200]\tcv_agg's rmse: 1220.63 + 96.5296\n",
      "[2300]\tcv_agg's rmse: 1218.89 + 96.4821\n",
      "[2400]\tcv_agg's rmse: 1217.49 + 96.3742\n",
      "[2500]\tcv_agg's rmse: 1215.75 + 96.2757\n",
      "[2600]\tcv_agg's rmse: 1214.32 + 96.0479\n",
      "[2700]\tcv_agg's rmse: 1212.91 + 96.189\n",
      "[2800]\tcv_agg's rmse: 1211.87 + 96.1597\n",
      "[2900]\tcv_agg's rmse: 1211.14 + 95.8082\n",
      "[3000]\tcv_agg's rmse: 1210.25 + 95.7473\n",
      "[3100]\tcv_agg's rmse: 1209.36 + 95.6624\n",
      "[3200]\tcv_agg's rmse: 1208.53 + 95.4499\n",
      "[3300]\tcv_agg's rmse: 1208 + 95.2514\n",
      "[3400]\tcv_agg's rmse: 1207.68 + 95.1961\n",
      "[3500]\tcv_agg's rmse: 1207.1 + 95.1289\n",
      "[3600]\tcv_agg's rmse: 1206.36 + 94.9461\n",
      "[3700]\tcv_agg's rmse: 1205.85 + 94.8932\n",
      "[3800]\tcv_agg's rmse: 1205.43 + 94.7803\n",
      "[3900]\tcv_agg's rmse: 1204.89 + 94.6921\n",
      "[4000]\tcv_agg's rmse: 1204.48 + 94.7009\n",
      "[4100]\tcv_agg's rmse: 1204.17 + 94.7736\n",
      "[4200]\tcv_agg's rmse: 1203.87 + 94.5893\n",
      "[4300]\tcv_agg's rmse: 1203.55 + 94.4746\n",
      "[4400]\tcv_agg's rmse: 1203.47 + 94.2431\n",
      "[4500]\tcv_agg's rmse: 1203.48 + 94.1475\n",
      "[4600]\tcv_agg's rmse: 1203.28 + 94.0459\n",
      "[4700]\tcv_agg's rmse: 1203.11 + 93.9432\n",
      "[4800]\tcv_agg's rmse: 1202.95 + 93.8678\n",
      "[4900]\tcv_agg's rmse: 1202.73 + 93.71\n",
      "[5000]\tcv_agg's rmse: 1202.33 + 93.5645\n",
      "[5100]\tcv_agg's rmse: 1202.04 + 93.3949\n",
      "[5200]\tcv_agg's rmse: 1201.99 + 93.3169\n",
      "[5300]\tcv_agg's rmse: 1202.06 + 93.1806\n"
     ]
    },
    {
     "name": "stderr",
     "output_type": "stream",
     "text": [
      "[I 2019-05-07 19:45:16,787] Finished a trial resulted in value: 1201.9277294171834. Current best value is 1201.9277294171834 with parameters: {'learning_rate': 0.006069138413620857, 'num_leaves': 81, 'min_data_in_leaf': 40, 'min_child_samples': 37, 'feature_fraction': 0.16194479996728695}.\n"
     ]
    },
    {
     "name": "stdout",
     "output_type": "stream",
     "text": [
      "[100]\tcv_agg's rmse: 1456.32 + 102.565\n",
      "[200]\tcv_agg's rmse: 1256.58 + 95.668\n",
      "[300]\tcv_agg's rmse: 1217.13 + 95.1321\n",
      "[400]\tcv_agg's rmse: 1203 + 94.1267\n",
      "[500]\tcv_agg's rmse: 1196.12 + 93.111\n",
      "[600]\tcv_agg's rmse: 1191.4 + 92.3207\n",
      "[700]\tcv_agg's rmse: 1188.86 + 92.6157\n",
      "[800]\tcv_agg's rmse: 1187.42 + 92.2271\n",
      "[900]\tcv_agg's rmse: 1186.22 + 91.7755\n",
      "[1000]\tcv_agg's rmse: 1186.2 + 91.9494\n",
      "[1100]\tcv_agg's rmse: 1186.21 + 92.0087\n"
     ]
    },
    {
     "name": "stderr",
     "output_type": "stream",
     "text": [
      "[I 2019-05-07 19:50:14,849] Finished a trial resulted in value: 1185.9125970680539. Current best value is 1185.9125970680539 with parameters: {'learning_rate': 0.0177243440686901, 'num_leaves': 119, 'min_data_in_leaf': 44, 'min_child_samples': 120, 'feature_fraction': 0.7913017069933854}.\n"
     ]
    },
    {
     "name": "stdout",
     "output_type": "stream",
     "text": [
      "[100]\tcv_agg's rmse: 1260.37 + 98.8039\n",
      "[200]\tcv_agg's rmse: 1219.03 + 95.581\n",
      "[300]\tcv_agg's rmse: 1208.22 + 94.7275\n",
      "[400]\tcv_agg's rmse: 1204.44 + 95.8788\n",
      "[500]\tcv_agg's rmse: 1202.38 + 95.0637\n",
      "[600]\tcv_agg's rmse: 1201.81 + 93.9879\n",
      "[700]\tcv_agg's rmse: 1201.57 + 93.2881\n",
      "[800]\tcv_agg's rmse: 1202.04 + 93.2346\n"
     ]
    },
    {
     "name": "stderr",
     "output_type": "stream",
     "text": [
      "[I 2019-05-07 19:54:56,112] Finished a trial resulted in value: 1201.0402582782153. Current best value is 1185.9125970680539 with parameters: {'learning_rate': 0.0177243440686901, 'num_leaves': 119, 'min_data_in_leaf': 44, 'min_child_samples': 120, 'feature_fraction': 0.7913017069933854}.\n"
     ]
    },
    {
     "name": "stdout",
     "output_type": "stream",
     "text": [
      "[100]\tcv_agg's rmse: 1293.46 + 98.7685\n",
      "[200]\tcv_agg's rmse: 1214.38 + 94.672\n",
      "[300]\tcv_agg's rmse: 1197.93 + 94.0053\n",
      "[400]\tcv_agg's rmse: 1192.96 + 93.4144\n",
      "[500]\tcv_agg's rmse: 1191.66 + 92.5705\n",
      "[600]\tcv_agg's rmse: 1192.05 + 92.4445\n",
      "[700]\tcv_agg's rmse: 1193.45 + 92.4112\n"
     ]
    },
    {
     "name": "stderr",
     "output_type": "stream",
     "text": [
      "[I 2019-05-07 19:58:19,009] Finished a trial resulted in value: 1191.371678451785. Current best value is 1185.9125970680539 with parameters: {'learning_rate': 0.0177243440686901, 'num_leaves': 119, 'min_data_in_leaf': 44, 'min_child_samples': 120, 'feature_fraction': 0.7913017069933854}.\n"
     ]
    },
    {
     "name": "stdout",
     "output_type": "stream",
     "text": [
      "[100]\tcv_agg's rmse: 2824.64 + 136.444\n",
      "[200]\tcv_agg's rmse: 2294.23 + 122.618\n",
      "[300]\tcv_agg's rmse: 1940.1 + 114.534\n",
      "[400]\tcv_agg's rmse: 1699.96 + 108.746\n",
      "[500]\tcv_agg's rmse: 1547.07 + 105.094\n",
      "[600]\tcv_agg's rmse: 1445.61 + 102.443\n",
      "[700]\tcv_agg's rmse: 1379.49 + 100.343\n",
      "[800]\tcv_agg's rmse: 1337.32 + 99.1164\n",
      "[900]\tcv_agg's rmse: 1306.63 + 98.218\n",
      "[1000]\tcv_agg's rmse: 1285.04 + 97.2695\n",
      "[1100]\tcv_agg's rmse: 1268.94 + 96.7899\n",
      "[1200]\tcv_agg's rmse: 1256.95 + 96.6979\n",
      "[1300]\tcv_agg's rmse: 1247.62 + 96.3149\n",
      "[1400]\tcv_agg's rmse: 1239.65 + 96.1169\n",
      "[1500]\tcv_agg's rmse: 1233.35 + 95.9279\n",
      "[1600]\tcv_agg's rmse: 1228.29 + 95.9394\n",
      "[1700]\tcv_agg's rmse: 1223.64 + 95.9289\n",
      "[1800]\tcv_agg's rmse: 1219.85 + 95.6715\n",
      "[1900]\tcv_agg's rmse: 1216.56 + 95.4835\n",
      "[2000]\tcv_agg's rmse: 1214.01 + 95.2373\n",
      "[2100]\tcv_agg's rmse: 1211.39 + 95.0095\n",
      "[2200]\tcv_agg's rmse: 1209.27 + 94.8743\n",
      "[2300]\tcv_agg's rmse: 1207.26 + 94.9329\n",
      "[2400]\tcv_agg's rmse: 1205.56 + 94.9546\n",
      "[2500]\tcv_agg's rmse: 1203.77 + 94.895\n",
      "[2600]\tcv_agg's rmse: 1202.18 + 95.0249\n",
      "[2700]\tcv_agg's rmse: 1200.46 + 95.038\n",
      "[2800]\tcv_agg's rmse: 1199.33 + 94.904\n",
      "[2900]\tcv_agg's rmse: 1198.26 + 94.8797\n",
      "[3000]\tcv_agg's rmse: 1197.28 + 94.8251\n",
      "[3100]\tcv_agg's rmse: 1196.37 + 94.7766\n",
      "[3200]\tcv_agg's rmse: 1195.33 + 94.7346\n",
      "[3300]\tcv_agg's rmse: 1194.65 + 94.6821\n",
      "[3400]\tcv_agg's rmse: 1193.63 + 94.6578\n",
      "[3500]\tcv_agg's rmse: 1192.89 + 94.6628\n",
      "[3600]\tcv_agg's rmse: 1192.29 + 94.5973\n",
      "[3700]\tcv_agg's rmse: 1191.5 + 94.6297\n",
      "[3800]\tcv_agg's rmse: 1190.85 + 94.6023\n",
      "[3900]\tcv_agg's rmse: 1190.42 + 94.4053\n",
      "[4000]\tcv_agg's rmse: 1189.84 + 94.2799\n",
      "[4100]\tcv_agg's rmse: 1189.48 + 94.2373\n",
      "[4200]\tcv_agg's rmse: 1189 + 94.1731\n",
      "[4300]\tcv_agg's rmse: 1188.63 + 94.1651\n",
      "[4400]\tcv_agg's rmse: 1188.22 + 94.039\n",
      "[4500]\tcv_agg's rmse: 1187.93 + 94.0152\n",
      "[4600]\tcv_agg's rmse: 1187.52 + 93.9029\n",
      "[4700]\tcv_agg's rmse: 1187.32 + 93.9524\n",
      "[4800]\tcv_agg's rmse: 1187.1 + 93.8838\n",
      "[4900]\tcv_agg's rmse: 1187.02 + 93.8961\n",
      "[5000]\tcv_agg's rmse: 1186.89 + 93.9612\n",
      "[5100]\tcv_agg's rmse: 1186.54 + 93.9288\n",
      "[5200]\tcv_agg's rmse: 1186.19 + 94.0187\n",
      "[5300]\tcv_agg's rmse: 1185.89 + 93.9338\n",
      "[5400]\tcv_agg's rmse: 1185.74 + 93.9616\n",
      "[5500]\tcv_agg's rmse: 1185.56 + 94.0187\n",
      "[5600]\tcv_agg's rmse: 1185.32 + 93.9764\n",
      "[5700]\tcv_agg's rmse: 1185.17 + 93.9687\n",
      "[5800]\tcv_agg's rmse: 1185 + 93.9399\n",
      "[5900]\tcv_agg's rmse: 1184.76 + 93.8372\n",
      "[6000]\tcv_agg's rmse: 1184.71 + 93.8626\n",
      "[6100]\tcv_agg's rmse: 1184.54 + 93.7972\n",
      "[6200]\tcv_agg's rmse: 1184.38 + 93.8372\n",
      "[6300]\tcv_agg's rmse: 1184.27 + 93.8476\n",
      "[6400]\tcv_agg's rmse: 1184.14 + 93.8647\n",
      "[6500]\tcv_agg's rmse: 1184.13 + 93.7482\n",
      "[6600]\tcv_agg's rmse: 1184.03 + 93.7838\n",
      "[6700]\tcv_agg's rmse: 1183.86 + 93.8035\n",
      "[6800]\tcv_agg's rmse: 1183.8 + 93.7635\n",
      "[6900]\tcv_agg's rmse: 1183.79 + 93.7762\n",
      "[7000]\tcv_agg's rmse: 1183.74 + 93.7291\n",
      "[7100]\tcv_agg's rmse: 1183.67 + 93.6418\n",
      "[7200]\tcv_agg's rmse: 1183.56 + 93.6333\n",
      "[7300]\tcv_agg's rmse: 1183.53 + 93.6392\n",
      "[7400]\tcv_agg's rmse: 1183.52 + 93.6729\n",
      "[7500]\tcv_agg's rmse: 1183.47 + 93.6393\n",
      "[7600]\tcv_agg's rmse: 1183.32 + 93.6802\n",
      "[7700]\tcv_agg's rmse: 1183.29 + 93.6454\n",
      "[7800]\tcv_agg's rmse: 1183.24 + 93.6577\n",
      "[7900]\tcv_agg's rmse: 1183.18 + 93.6173\n",
      "[8000]\tcv_agg's rmse: 1183.08 + 93.608\n",
      "[8100]\tcv_agg's rmse: 1183.14 + 93.615\n",
      "[8200]\tcv_agg's rmse: 1183.13 + 93.6563\n"
     ]
    },
    {
     "name": "stderr",
     "output_type": "stream",
     "text": [
      "[I 2019-05-07 20:16:28,166] Finished a trial resulted in value: 1183.0842803825221. Current best value is 1183.0842803825221 with parameters: {'learning_rate': 0.003490767917398517, 'num_leaves': 80, 'min_data_in_leaf': 23, 'min_child_samples': 51, 'feature_fraction': 0.2752781019891982}.\n"
     ]
    },
    {
     "name": "stdout",
     "output_type": "stream",
     "text": [
      "[100]\tcv_agg's rmse: 1244.48 + 94.4152\n",
      "[200]\tcv_agg's rmse: 1202.25 + 91.6395\n",
      "[300]\tcv_agg's rmse: 1194.96 + 91.0654\n",
      "[400]\tcv_agg's rmse: 1194.86 + 91.053\n",
      "[500]\tcv_agg's rmse: 1195.56 + 90.3186\n"
     ]
    },
    {
     "name": "stderr",
     "output_type": "stream",
     "text": [
      "[I 2019-05-07 20:19:18,802] Finished a trial resulted in value: 1193.4457408457615. Current best value is 1183.0842803825221 with parameters: {'learning_rate': 0.003490767917398517, 'num_leaves': 80, 'min_data_in_leaf': 23, 'min_child_samples': 51, 'feature_fraction': 0.2752781019891982}.\n"
     ]
    },
    {
     "name": "stdout",
     "output_type": "stream",
     "text": [
      "[100]\tcv_agg's rmse: 1579.44 + 112.212\n",
      "[200]\tcv_agg's rmse: 1300.41 + 100.558\n",
      "[300]\tcv_agg's rmse: 1245.01 + 98.5173\n",
      "[400]\tcv_agg's rmse: 1222.89 + 97.0201\n",
      "[500]\tcv_agg's rmse: 1210.57 + 96.4078\n",
      "[600]\tcv_agg's rmse: 1203.7 + 95.5687\n",
      "[700]\tcv_agg's rmse: 1199.56 + 95.0667\n",
      "[800]\tcv_agg's rmse: 1196.38 + 94.4735\n",
      "[900]\tcv_agg's rmse: 1193.84 + 94.5585\n",
      "[1000]\tcv_agg's rmse: 1191.79 + 94.1672\n",
      "[1100]\tcv_agg's rmse: 1190.98 + 94.1571\n",
      "[1200]\tcv_agg's rmse: 1190.33 + 93.8469\n",
      "[1300]\tcv_agg's rmse: 1189.91 + 93.0298\n",
      "[1400]\tcv_agg's rmse: 1190.11 + 92.7798\n",
      "[1500]\tcv_agg's rmse: 1190.48 + 92.3558\n"
     ]
    },
    {
     "name": "stderr",
     "output_type": "stream",
     "text": [
      "[I 2019-05-07 20:25:33,233] Finished a trial resulted in value: 1189.8885317996146. Current best value is 1183.0842803825221 with parameters: {'learning_rate': 0.003490767917398517, 'num_leaves': 80, 'min_data_in_leaf': 23, 'min_child_samples': 51, 'feature_fraction': 0.2752781019891982}.\n"
     ]
    },
    {
     "name": "stdout",
     "output_type": "stream",
     "text": [
      "[100]\tcv_agg's rmse: 1301.61 + 93.2445\n",
      "[200]\tcv_agg's rmse: 1234.56 + 90.2838\n",
      "[300]\tcv_agg's rmse: 1213.3 + 90.8869\n",
      "[400]\tcv_agg's rmse: 1203.78 + 90.3455\n",
      "[500]\tcv_agg's rmse: 1196.13 + 90.3968\n",
      "[600]\tcv_agg's rmse: 1193.14 + 90.2793\n",
      "[700]\tcv_agg's rmse: 1190.9 + 89.7872\n",
      "[800]\tcv_agg's rmse: 1189.4 + 90.3809\n",
      "[900]\tcv_agg's rmse: 1188.04 + 90.7341\n",
      "[1000]\tcv_agg's rmse: 1187.5 + 91.1191\n",
      "[1100]\tcv_agg's rmse: 1187.36 + 91.7586\n",
      "[1200]\tcv_agg's rmse: 1187.21 + 92.3016\n"
     ]
    },
    {
     "name": "stderr",
     "output_type": "stream",
     "text": [
      "[I 2019-05-07 20:27:07,330] Finished a trial resulted in value: 1186.9238631349012. Current best value is 1183.0842803825221 with parameters: {'learning_rate': 0.003490767917398517, 'num_leaves': 80, 'min_data_in_leaf': 23, 'min_child_samples': 51, 'feature_fraction': 0.2752781019891982}.\n"
     ]
    },
    {
     "name": "stdout",
     "output_type": "stream",
     "text": [
      "[100]\tcv_agg's rmse: 1246.1 + 97.361\n",
      "[200]\tcv_agg's rmse: 1211.33 + 95.1991\n",
      "[300]\tcv_agg's rmse: 1203.09 + 94.0278\n",
      "[400]\tcv_agg's rmse: 1201.11 + 93.6125\n",
      "[500]\tcv_agg's rmse: 1201.06 + 91.9125\n",
      "[600]\tcv_agg's rmse: 1202.75 + 89.9312\n"
     ]
    },
    {
     "name": "stderr",
     "output_type": "stream",
     "text": [
      "[I 2019-05-07 20:30:34,123] Finished a trial resulted in value: 1200.2985946867914. Current best value is 1183.0842803825221 with parameters: {'learning_rate': 0.003490767917398517, 'num_leaves': 80, 'min_data_in_leaf': 23, 'min_child_samples': 51, 'feature_fraction': 0.2752781019891982}.\n"
     ]
    },
    {
     "name": "stdout",
     "output_type": "stream",
     "text": [
      "[100]\tcv_agg's rmse: 1398.17 + 103.554\n",
      "[200]\tcv_agg's rmse: 1257.11 + 98.1862\n",
      "[300]\tcv_agg's rmse: 1233.68 + 96.966\n",
      "[400]\tcv_agg's rmse: 1219.35 + 96.8642\n",
      "[500]\tcv_agg's rmse: 1211.1 + 96.6422\n",
      "[600]\tcv_agg's rmse: 1206.13 + 95.1413\n",
      "[700]\tcv_agg's rmse: 1203.21 + 94.4368\n",
      "[800]\tcv_agg's rmse: 1201.75 + 93.758\n",
      "[900]\tcv_agg's rmse: 1200.87 + 93.7544\n",
      "[1000]\tcv_agg's rmse: 1201.1 + 93.1262\n",
      "[1100]\tcv_agg's rmse: 1200.98 + 92.8685\n"
     ]
    },
    {
     "name": "stderr",
     "output_type": "stream",
     "text": [
      "[I 2019-05-07 20:32:59,947] Finished a trial resulted in value: 1200.6609916617301. Current best value is 1183.0842803825221 with parameters: {'learning_rate': 0.003490767917398517, 'num_leaves': 80, 'min_data_in_leaf': 23, 'min_child_samples': 51, 'feature_fraction': 0.2752781019891982}.\n"
     ]
    },
    {
     "name": "stdout",
     "output_type": "stream",
     "text": [
      "[100]\tcv_agg's rmse: 3456.14 + 156.718\n",
      "[200]\tcv_agg's rmse: 3305.82 + 154.208\n",
      "[300]\tcv_agg's rmse: 3172.43 + 152.452\n",
      "[400]\tcv_agg's rmse: 3026.32 + 150.028\n",
      "[500]\tcv_agg's rmse: 2932.61 + 147.093\n",
      "[600]\tcv_agg's rmse: 2848.6 + 145.085\n",
      "[700]\tcv_agg's rmse: 2752.22 + 142.326\n",
      "[800]\tcv_agg's rmse: 2682.74 + 140.131\n",
      "[900]\tcv_agg's rmse: 2613.91 + 137.733\n",
      "[1000]\tcv_agg's rmse: 2551 + 135.831\n",
      "[1100]\tcv_agg's rmse: 2486.99 + 133.593\n",
      "[1200]\tcv_agg's rmse: 2449.71 + 132.735\n",
      "[1300]\tcv_agg's rmse: 2390.71 + 130.63\n",
      "[1400]\tcv_agg's rmse: 2342.66 + 128.734\n",
      "[1500]\tcv_agg's rmse: 2301.67 + 126.978\n",
      "[1600]\tcv_agg's rmse: 2253.85 + 124.867\n",
      "[1700]\tcv_agg's rmse: 2205.11 + 122.431\n",
      "[1800]\tcv_agg's rmse: 2182.46 + 121.561\n",
      "[1900]\tcv_agg's rmse: 2149.99 + 119.835\n",
      "[2000]\tcv_agg's rmse: 2111.25 + 117.904\n",
      "[2100]\tcv_agg's rmse: 2092.51 + 117.249\n",
      "[2200]\tcv_agg's rmse: 2071.34 + 116.361\n",
      "[2300]\tcv_agg's rmse: 2046.3 + 115.227\n",
      "[2400]\tcv_agg's rmse: 2022.2 + 114.238\n",
      "[2500]\tcv_agg's rmse: 2008.37 + 113.967\n",
      "[2600]\tcv_agg's rmse: 1982.87 + 112.223\n",
      "[2700]\tcv_agg's rmse: 1966.92 + 111.387\n",
      "[2800]\tcv_agg's rmse: 1950.29 + 110.313\n",
      "[2900]\tcv_agg's rmse: 1935.47 + 109.652\n",
      "[3000]\tcv_agg's rmse: 1922.3 + 108.879\n",
      "[3100]\tcv_agg's rmse: 1906.51 + 107.971\n",
      "[3200]\tcv_agg's rmse: 1902.03 + 107.964\n",
      "[3300]\tcv_agg's rmse: 1889.86 + 107.169\n",
      "[3400]\tcv_agg's rmse: 1881.66 + 106.738\n",
      "[3500]\tcv_agg's rmse: 1871.43 + 106.177\n",
      "[3600]\tcv_agg's rmse: 1862.39 + 105.622\n",
      "[3700]\tcv_agg's rmse: 1853.19 + 105.222\n",
      "[3800]\tcv_agg's rmse: 1843.05 + 104.627\n",
      "[3900]\tcv_agg's rmse: 1828.74 + 103.343\n",
      "[4000]\tcv_agg's rmse: 1820.01 + 102.7\n",
      "[4100]\tcv_agg's rmse: 1813.3 + 102.141\n",
      "[4200]\tcv_agg's rmse: 1805.67 + 101.657\n",
      "[4300]\tcv_agg's rmse: 1799.13 + 101.253\n",
      "[4400]\tcv_agg's rmse: 1793.76 + 100.89\n",
      "[4500]\tcv_agg's rmse: 1788.98 + 100.606\n",
      "[4600]\tcv_agg's rmse: 1780.97 + 99.9207\n",
      "[4700]\tcv_agg's rmse: 1774.71 + 99.5912\n",
      "[4800]\tcv_agg's rmse: 1768.87 + 99.2419\n",
      "[4900]\tcv_agg's rmse: 1762.59 + 98.6735\n",
      "[5000]\tcv_agg's rmse: 1759.51 + 98.6207\n",
      "[5100]\tcv_agg's rmse: 1756.39 + 98.5428\n",
      "[5200]\tcv_agg's rmse: 1751.52 + 98.1845\n",
      "[5300]\tcv_agg's rmse: 1747.54 + 98.0285\n",
      "[5400]\tcv_agg's rmse: 1742.88 + 97.6656\n",
      "[5500]\tcv_agg's rmse: 1736.63 + 97.0253\n",
      "[5600]\tcv_agg's rmse: 1732.73 + 96.7798\n",
      "[5700]\tcv_agg's rmse: 1727.73 + 96.2675\n",
      "[5800]\tcv_agg's rmse: 1723.62 + 95.9881\n",
      "[5900]\tcv_agg's rmse: 1720.13 + 95.7869\n",
      "[6000]\tcv_agg's rmse: 1716.53 + 95.531\n",
      "[6100]\tcv_agg's rmse: 1712.8 + 95.2967\n",
      "[6200]\tcv_agg's rmse: 1709.58 + 95.0392\n",
      "[6300]\tcv_agg's rmse: 1706.13 + 94.6965\n",
      "[6400]\tcv_agg's rmse: 1703.65 + 94.4798\n",
      "[6500]\tcv_agg's rmse: 1700.4 + 94.1944\n",
      "[6600]\tcv_agg's rmse: 1696.5 + 93.8539\n",
      "[6700]\tcv_agg's rmse: 1692.9 + 93.5123\n",
      "[6800]\tcv_agg's rmse: 1690.93 + 93.4963\n",
      "[6900]\tcv_agg's rmse: 1687.64 + 93.0489\n",
      "[7000]\tcv_agg's rmse: 1685.34 + 93.0128\n",
      "[7100]\tcv_agg's rmse: 1683.44 + 92.875\n",
      "[7200]\tcv_agg's rmse: 1681.38 + 92.8387\n",
      "[7300]\tcv_agg's rmse: 1679.14 + 92.6183\n",
      "[7400]\tcv_agg's rmse: 1677.49 + 92.5498\n",
      "[7500]\tcv_agg's rmse: 1674.89 + 92.2291\n",
      "[7600]\tcv_agg's rmse: 1673.13 + 92.1064\n",
      "[7700]\tcv_agg's rmse: 1671.06 + 92.0346\n",
      "[7800]\tcv_agg's rmse: 1668.44 + 91.7668\n",
      "[7900]\tcv_agg's rmse: 1666.24 + 91.4877\n",
      "[8000]\tcv_agg's rmse: 1665.7 + 91.5519\n",
      "[8100]\tcv_agg's rmse: 1664.62 + 91.5146\n",
      "[8200]\tcv_agg's rmse: 1662.85 + 91.3853\n",
      "[8300]\tcv_agg's rmse: 1661.23 + 91.3152\n",
      "[8400]\tcv_agg's rmse: 1659.71 + 91.2199\n",
      "[8500]\tcv_agg's rmse: 1658.78 + 91.2089\n",
      "[8600]\tcv_agg's rmse: 1656.67 + 90.932\n",
      "[8700]\tcv_agg's rmse: 1655.75 + 90.9638\n",
      "[8800]\tcv_agg's rmse: 1654.45 + 90.8198\n",
      "[8900]\tcv_agg's rmse: 1653.49 + 90.8016\n",
      "[9000]\tcv_agg's rmse: 1651.2 + 90.547\n",
      "[9100]\tcv_agg's rmse: 1649.81 + 90.3325\n",
      "[9200]\tcv_agg's rmse: 1648.78 + 90.2277\n",
      "[9300]\tcv_agg's rmse: 1647.53 + 90.0857\n",
      "[9400]\tcv_agg's rmse: 1646.43 + 90.0065\n",
      "[9500]\tcv_agg's rmse: 1645.13 + 89.8254\n",
      "[9600]\tcv_agg's rmse: 1644.05 + 89.7771\n",
      "[9700]\tcv_agg's rmse: 1642.98 + 89.712\n",
      "[9800]\tcv_agg's rmse: 1642.14 + 89.6834\n",
      "[9900]\tcv_agg's rmse: 1641.22 + 89.6529\n",
      "[10000]\tcv_agg's rmse: 1640.01 + 89.5877\n"
     ]
    },
    {
     "name": "stderr",
     "output_type": "stream",
     "text": [
      "[I 2019-05-07 20:37:37,211] Finished a trial resulted in value: 1640.0073200430227. Current best value is 1183.0842803825221 with parameters: {'learning_rate': 0.003490767917398517, 'num_leaves': 80, 'min_data_in_leaf': 23, 'min_child_samples': 51, 'feature_fraction': 0.2752781019891982}.\n"
     ]
    },
    {
     "name": "stdout",
     "output_type": "stream",
     "text": [
      "[100]\tcv_agg's rmse: 3219.64 + 144.191\n",
      "[200]\tcv_agg's rmse: 2900.72 + 133.715\n",
      "[300]\tcv_agg's rmse: 2629.84 + 125.298\n",
      "[400]\tcv_agg's rmse: 2399.91 + 118.765\n",
      "[500]\tcv_agg's rmse: 2204.39 + 113.51\n",
      "[600]\tcv_agg's rmse: 2040 + 109.408\n",
      "[700]\tcv_agg's rmse: 1902.73 + 106.412\n",
      "[800]\tcv_agg's rmse: 1789.52 + 104.079\n",
      "[900]\tcv_agg's rmse: 1695.82 + 102.261\n",
      "[1000]\tcv_agg's rmse: 1617.81 + 100.587\n",
      "[1100]\tcv_agg's rmse: 1553.77 + 99.2598\n",
      "[1200]\tcv_agg's rmse: 1501.32 + 98.3653\n",
      "[1300]\tcv_agg's rmse: 1458.19 + 97.2468\n",
      "[1400]\tcv_agg's rmse: 1422.67 + 96.2808\n",
      "[1500]\tcv_agg's rmse: 1393.01 + 95.4733\n",
      "[1600]\tcv_agg's rmse: 1368.44 + 94.9212\n",
      "[1700]\tcv_agg's rmse: 1347.77 + 94.2652\n",
      "[1800]\tcv_agg's rmse: 1330.51 + 93.9272\n",
      "[1900]\tcv_agg's rmse: 1316.04 + 93.6202\n",
      "[2000]\tcv_agg's rmse: 1303.7 + 93.479\n",
      "[2100]\tcv_agg's rmse: 1293.1 + 93.3855\n",
      "[2200]\tcv_agg's rmse: 1284.07 + 93.3361\n",
      "[2300]\tcv_agg's rmse: 1276.18 + 93.4089\n",
      "[2400]\tcv_agg's rmse: 1269.29 + 93.347\n",
      "[2500]\tcv_agg's rmse: 1263.27 + 93.3113\n",
      "[2600]\tcv_agg's rmse: 1257.87 + 93.3756\n",
      "[2700]\tcv_agg's rmse: 1253.09 + 93.4193\n",
      "[2800]\tcv_agg's rmse: 1248.72 + 93.4983\n",
      "[2900]\tcv_agg's rmse: 1244.84 + 93.5246\n",
      "[3000]\tcv_agg's rmse: 1241.09 + 93.5756\n",
      "[3100]\tcv_agg's rmse: 1237.84 + 93.675\n",
      "[3200]\tcv_agg's rmse: 1234.66 + 93.6861\n",
      "[3300]\tcv_agg's rmse: 1231.85 + 93.6583\n",
      "[3400]\tcv_agg's rmse: 1229.34 + 93.6837\n",
      "[3500]\tcv_agg's rmse: 1226.88 + 93.7189\n",
      "[3600]\tcv_agg's rmse: 1224.62 + 93.7422\n",
      "[3700]\tcv_agg's rmse: 1222.54 + 93.8228\n",
      "[3800]\tcv_agg's rmse: 1220.59 + 93.9758\n",
      "[3900]\tcv_agg's rmse: 1218.71 + 94.0086\n",
      "[4000]\tcv_agg's rmse: 1216.99 + 94.0275\n",
      "[4100]\tcv_agg's rmse: 1215.37 + 94.1041\n",
      "[4200]\tcv_agg's rmse: 1213.79 + 94.1023\n",
      "[4300]\tcv_agg's rmse: 1212.29 + 94.1304\n",
      "[4400]\tcv_agg's rmse: 1210.89 + 94.2132\n",
      "[4500]\tcv_agg's rmse: 1209.65 + 94.3151\n",
      "[4600]\tcv_agg's rmse: 1208.4 + 94.3223\n",
      "[4700]\tcv_agg's rmse: 1207.25 + 94.3705\n",
      "[4800]\tcv_agg's rmse: 1206.1 + 94.3726\n",
      "[4900]\tcv_agg's rmse: 1204.98 + 94.4671\n",
      "[5000]\tcv_agg's rmse: 1203.94 + 94.4665\n",
      "[5100]\tcv_agg's rmse: 1202.92 + 94.4988\n",
      "[5200]\tcv_agg's rmse: 1202.04 + 94.6117\n",
      "[5300]\tcv_agg's rmse: 1201.17 + 94.5963\n",
      "[5400]\tcv_agg's rmse: 1200.39 + 94.6901\n",
      "[5500]\tcv_agg's rmse: 1199.56 + 94.7008\n",
      "[5600]\tcv_agg's rmse: 1198.8 + 94.7588\n",
      "[5700]\tcv_agg's rmse: 1197.87 + 94.7593\n",
      "[5800]\tcv_agg's rmse: 1197.08 + 94.7583\n",
      "[5900]\tcv_agg's rmse: 1196.39 + 94.7204\n",
      "[6000]\tcv_agg's rmse: 1195.62 + 94.7391\n",
      "[6100]\tcv_agg's rmse: 1194.89 + 94.7336\n",
      "[6200]\tcv_agg's rmse: 1194.22 + 94.7354\n",
      "[6300]\tcv_agg's rmse: 1193.51 + 94.8085\n",
      "[6400]\tcv_agg's rmse: 1192.85 + 94.8592\n",
      "[6500]\tcv_agg's rmse: 1192.17 + 94.8788\n",
      "[6600]\tcv_agg's rmse: 1191.61 + 94.9114\n",
      "[6700]\tcv_agg's rmse: 1191 + 94.9332\n",
      "[6800]\tcv_agg's rmse: 1190.45 + 94.9761\n",
      "[6900]\tcv_agg's rmse: 1189.92 + 95.0142\n",
      "[7000]\tcv_agg's rmse: 1189.37 + 95.0407\n",
      "[7100]\tcv_agg's rmse: 1188.88 + 95.031\n",
      "[7200]\tcv_agg's rmse: 1188.41 + 95.056\n",
      "[7300]\tcv_agg's rmse: 1187.93 + 95.0779\n",
      "[7400]\tcv_agg's rmse: 1187.49 + 95.1066\n",
      "[7500]\tcv_agg's rmse: 1187.02 + 95.1074\n",
      "[7600]\tcv_agg's rmse: 1186.59 + 95.1164\n",
      "[7700]\tcv_agg's rmse: 1186.15 + 95.1761\n",
      "[7800]\tcv_agg's rmse: 1185.7 + 95.1646\n",
      "[7900]\tcv_agg's rmse: 1185.25 + 95.1762\n",
      "[8000]\tcv_agg's rmse: 1184.86 + 95.2207\n",
      "[8100]\tcv_agg's rmse: 1184.49 + 95.2228\n",
      "[8200]\tcv_agg's rmse: 1184.16 + 95.3463\n",
      "[8300]\tcv_agg's rmse: 1183.79 + 95.4269\n",
      "[8400]\tcv_agg's rmse: 1183.47 + 95.4744\n",
      "[8500]\tcv_agg's rmse: 1183.12 + 95.4831\n",
      "[8600]\tcv_agg's rmse: 1182.73 + 95.5217\n",
      "[8700]\tcv_agg's rmse: 1182.41 + 95.5582\n",
      "[8800]\tcv_agg's rmse: 1182.1 + 95.5889\n",
      "[8900]\tcv_agg's rmse: 1181.78 + 95.5448\n",
      "[9000]\tcv_agg's rmse: 1181.44 + 95.6074\n",
      "[9100]\tcv_agg's rmse: 1181.16 + 95.586\n",
      "[9200]\tcv_agg's rmse: 1180.82 + 95.583\n",
      "[9300]\tcv_agg's rmse: 1180.52 + 95.5999\n",
      "[9400]\tcv_agg's rmse: 1180.26 + 95.635\n",
      "[9500]\tcv_agg's rmse: 1179.95 + 95.6481\n",
      "[9600]\tcv_agg's rmse: 1179.66 + 95.6851\n",
      "[9700]\tcv_agg's rmse: 1179.41 + 95.6818\n",
      "[9800]\tcv_agg's rmse: 1179.12 + 95.6745\n",
      "[9900]\tcv_agg's rmse: 1178.9 + 95.7321\n",
      "[10000]\tcv_agg's rmse: 1178.63 + 95.7544\n"
     ]
    },
    {
     "name": "stderr",
     "output_type": "stream",
     "text": [
      "[I 2019-05-07 20:56:59,266] Finished a trial resulted in value: 1178.6277006392816. Current best value is 1178.6277006392816 with parameters: {'learning_rate': 0.0014029446433434637, 'num_leaves': 56, 'min_data_in_leaf': 16, 'min_child_samples': 77, 'feature_fraction': 0.7101926143394907}.\n"
     ]
    },
    {
     "name": "stdout",
     "output_type": "stream",
     "text": [
      "[100]\tcv_agg's rmse: 1657.36 + 100.273\n",
      "[200]\tcv_agg's rmse: 1325.82 + 91.6156\n",
      "[300]\tcv_agg's rmse: 1257.35 + 92.6351\n",
      "[400]\tcv_agg's rmse: 1230.97 + 93.3608\n",
      "[500]\tcv_agg's rmse: 1216.16 + 93.8785\n",
      "[600]\tcv_agg's rmse: 1206.82 + 94.143\n",
      "[700]\tcv_agg's rmse: 1199.96 + 94.3557\n",
      "[800]\tcv_agg's rmse: 1194.82 + 94.4343\n",
      "[900]\tcv_agg's rmse: 1190.43 + 94.9933\n",
      "[1000]\tcv_agg's rmse: 1187.27 + 94.9213\n",
      "[1100]\tcv_agg's rmse: 1184.45 + 94.9475\n",
      "[1200]\tcv_agg's rmse: 1182.23 + 95.3599\n",
      "[1300]\tcv_agg's rmse: 1180.42 + 95.2943\n",
      "[1400]\tcv_agg's rmse: 1179.17 + 95.3712\n",
      "[1500]\tcv_agg's rmse: 1177.59 + 95.3316\n",
      "[1600]\tcv_agg's rmse: 1176.44 + 95.8835\n",
      "[1700]\tcv_agg's rmse: 1175.38 + 95.8243\n",
      "[1800]\tcv_agg's rmse: 1174.63 + 95.7441\n",
      "[1900]\tcv_agg's rmse: 1173.99 + 95.8374\n",
      "[2000]\tcv_agg's rmse: 1173.05 + 95.7951\n",
      "[2100]\tcv_agg's rmse: 1172.37 + 96.0181\n",
      "[2200]\tcv_agg's rmse: 1171.95 + 96.2831\n",
      "[2300]\tcv_agg's rmse: 1171.61 + 96.6139\n",
      "[2400]\tcv_agg's rmse: 1171.33 + 96.6421\n",
      "[2500]\tcv_agg's rmse: 1171.23 + 96.54\n",
      "[2600]\tcv_agg's rmse: 1171.05 + 96.4597\n",
      "[2700]\tcv_agg's rmse: 1170.91 + 96.6917\n",
      "[2800]\tcv_agg's rmse: 1170.7 + 96.8083\n",
      "[2900]\tcv_agg's rmse: 1170.65 + 96.8511\n",
      "[3000]\tcv_agg's rmse: 1170.57 + 96.8635\n",
      "[3100]\tcv_agg's rmse: 1170.66 + 97.0511\n",
      "[3200]\tcv_agg's rmse: 1170.51 + 97.1169\n",
      "[3300]\tcv_agg's rmse: 1170.51 + 97.2235\n",
      "[3400]\tcv_agg's rmse: 1170.55 + 97.1004\n"
     ]
    },
    {
     "name": "stderr",
     "output_type": "stream",
     "text": [
      "[I 2019-05-07 21:02:34,342] Finished a trial resulted in value: 1170.426642506668. Current best value is 1170.426642506668 with parameters: {'learning_rate': 0.013571939682078787, 'num_leaves': 45, 'min_data_in_leaf': 17, 'min_child_samples': 135, 'feature_fraction': 0.7598875237838192}.\n"
     ]
    },
    {
     "name": "stdout",
     "output_type": "stream",
     "text": [
      "[100]\tcv_agg's rmse: 1583.33 + 100.005\n",
      "[200]\tcv_agg's rmse: 1304.83 + 92.7642\n",
      "[300]\tcv_agg's rmse: 1249.06 + 93.1441\n",
      "[400]\tcv_agg's rmse: 1227.31 + 93.9937\n",
      "[500]\tcv_agg's rmse: 1214.16 + 94.2612\n",
      "[600]\tcv_agg's rmse: 1206.15 + 94.657\n",
      "[700]\tcv_agg's rmse: 1199.82 + 95.176\n",
      "[800]\tcv_agg's rmse: 1194.15 + 95.5546\n",
      "[900]\tcv_agg's rmse: 1190.13 + 96.0098\n",
      "[1000]\tcv_agg's rmse: 1186.66 + 96.4534\n",
      "[1100]\tcv_agg's rmse: 1183.83 + 96.9294\n",
      "[1200]\tcv_agg's rmse: 1181.67 + 96.8871\n",
      "[1300]\tcv_agg's rmse: 1179.67 + 97.0497\n",
      "[1400]\tcv_agg's rmse: 1177.82 + 97.3805\n",
      "[1500]\tcv_agg's rmse: 1176.61 + 97.351\n",
      "[1600]\tcv_agg's rmse: 1175.72 + 98.1628\n",
      "[1700]\tcv_agg's rmse: 1174.44 + 98.1639\n",
      "[1800]\tcv_agg's rmse: 1173.41 + 98.4787\n",
      "[1900]\tcv_agg's rmse: 1172.8 + 98.5068\n",
      "[2000]\tcv_agg's rmse: 1172.04 + 98.631\n",
      "[2100]\tcv_agg's rmse: 1171.34 + 98.8286\n",
      "[2200]\tcv_agg's rmse: 1170.93 + 99.2286\n",
      "[2300]\tcv_agg's rmse: 1170.37 + 99.3898\n",
      "[2400]\tcv_agg's rmse: 1170.11 + 99.5543\n",
      "[2500]\tcv_agg's rmse: 1169.91 + 99.5211\n",
      "[2600]\tcv_agg's rmse: 1169.83 + 99.6842\n",
      "[2700]\tcv_agg's rmse: 1169.75 + 99.9342\n",
      "[2800]\tcv_agg's rmse: 1169.63 + 99.8817\n",
      "[2900]\tcv_agg's rmse: 1169.56 + 99.9054\n",
      "[3000]\tcv_agg's rmse: 1169.22 + 99.8095\n",
      "[3100]\tcv_agg's rmse: 1169.28 + 99.9531\n",
      "[3200]\tcv_agg's rmse: 1169.17 + 99.9599\n"
     ]
    },
    {
     "name": "stderr",
     "output_type": "stream",
     "text": [
      "[I 2019-05-07 21:07:08,839] Finished a trial resulted in value: 1169.0869930886697. Current best value is 1169.0869930886697 with parameters: {'learning_rate': 0.015245673336081346, 'num_leaves': 38, 'min_data_in_leaf': 16, 'min_child_samples': 141, 'feature_fraction': 0.8669865361110087}.\n"
     ]
    },
    {
     "name": "stdout",
     "output_type": "stream",
     "text": [
      "[100]\tcv_agg's rmse: 1477.78 + 94.2102\n",
      "[200]\tcv_agg's rmse: 1305.64 + 91.5857\n",
      "[300]\tcv_agg's rmse: 1268.89 + 92.3531\n",
      "[400]\tcv_agg's rmse: 1249.49 + 94.286\n",
      "[500]\tcv_agg's rmse: 1237.01 + 93.7092\n",
      "[600]\tcv_agg's rmse: 1227.53 + 94.147\n",
      "[700]\tcv_agg's rmse: 1220.19 + 94.3276\n",
      "[800]\tcv_agg's rmse: 1213.98 + 94.6713\n",
      "[900]\tcv_agg's rmse: 1209.41 + 95.2022\n",
      "[1000]\tcv_agg's rmse: 1205.92 + 94.7742\n",
      "[1100]\tcv_agg's rmse: 1202.46 + 94.8497\n",
      "[1200]\tcv_agg's rmse: 1199.95 + 94.9093\n",
      "[1300]\tcv_agg's rmse: 1197.76 + 95.1443\n",
      "[1400]\tcv_agg's rmse: 1195.54 + 95.1309\n",
      "[1500]\tcv_agg's rmse: 1193.98 + 94.6559\n",
      "[1600]\tcv_agg's rmse: 1192.46 + 95.1808\n",
      "[1700]\tcv_agg's rmse: 1190.84 + 94.8788\n",
      "[1800]\tcv_agg's rmse: 1189.44 + 95.1876\n",
      "[1900]\tcv_agg's rmse: 1188.45 + 95.4419\n",
      "[2000]\tcv_agg's rmse: 1187.29 + 95.6005\n",
      "[2100]\tcv_agg's rmse: 1186.42 + 95.9609\n",
      "[2200]\tcv_agg's rmse: 1185.51 + 95.993\n",
      "[2300]\tcv_agg's rmse: 1184.95 + 96.0598\n",
      "[2400]\tcv_agg's rmse: 1184.2 + 95.9371\n",
      "[2500]\tcv_agg's rmse: 1183.36 + 96.0127\n",
      "[2600]\tcv_agg's rmse: 1182.6 + 95.8452\n",
      "[2700]\tcv_agg's rmse: 1182.12 + 95.8466\n",
      "[2800]\tcv_agg's rmse: 1181.64 + 95.5301\n",
      "[2900]\tcv_agg's rmse: 1181.37 + 95.542\n",
      "[3000]\tcv_agg's rmse: 1181 + 95.6763\n",
      "[3100]\tcv_agg's rmse: 1181.03 + 95.9279\n",
      "[3200]\tcv_agg's rmse: 1180.74 + 96.0671\n",
      "[3300]\tcv_agg's rmse: 1180.36 + 96.2753\n",
      "[3400]\tcv_agg's rmse: 1180.44 + 96.3987\n",
      "[3500]\tcv_agg's rmse: 1180.24 + 96.6092\n",
      "[3600]\tcv_agg's rmse: 1180.07 + 96.6502\n",
      "[3700]\tcv_agg's rmse: 1179.74 + 96.687\n",
      "[3800]\tcv_agg's rmse: 1179.7 + 96.7537\n",
      "[3900]\tcv_agg's rmse: 1179.62 + 97.0521\n",
      "[4000]\tcv_agg's rmse: 1179.59 + 97.1176\n",
      "[4100]\tcv_agg's rmse: 1179.42 + 97.3666\n",
      "[4200]\tcv_agg's rmse: 1179.34 + 97.3173\n",
      "[4300]\tcv_agg's rmse: 1179.06 + 97.4031\n",
      "[4400]\tcv_agg's rmse: 1178.88 + 97.5127\n",
      "[4500]\tcv_agg's rmse: 1178.87 + 97.5092\n",
      "[4600]\tcv_agg's rmse: 1178.81 + 97.6848\n",
      "[4700]\tcv_agg's rmse: 1178.8 + 97.8455\n",
      "[4800]\tcv_agg's rmse: 1178.9 + 97.9626\n",
      "[4900]\tcv_agg's rmse: 1178.82 + 97.9829\n"
     ]
    },
    {
     "name": "stderr",
     "output_type": "stream",
     "text": [
      "[I 2019-05-07 21:11:19,003] Finished a trial resulted in value: 1178.7052917763472. Current best value is 1169.0869930886697 with parameters: {'learning_rate': 0.015245673336081346, 'num_leaves': 38, 'min_data_in_leaf': 16, 'min_child_samples': 141, 'feature_fraction': 0.8669865361110087}.\n"
     ]
    },
    {
     "name": "stdout",
     "output_type": "stream",
     "text": [
      "[100]\tcv_agg's rmse: 1995.17 + 113.381\n",
      "[200]\tcv_agg's rmse: 1512.26 + 98.7592\n",
      "[300]\tcv_agg's rmse: 1374.11 + 95.0389\n",
      "[400]\tcv_agg's rmse: 1322.95 + 94.1526\n",
      "[500]\tcv_agg's rmse: 1297.06 + 94.0411\n",
      "[600]\tcv_agg's rmse: 1279.81 + 94.2875\n",
      "[700]\tcv_agg's rmse: 1268.13 + 94.5578\n",
      "[800]\tcv_agg's rmse: 1258.66 + 94.4961\n",
      "[900]\tcv_agg's rmse: 1251.16 + 94.6243\n",
      "[1000]\tcv_agg's rmse: 1244.87 + 94.8757\n",
      "[1100]\tcv_agg's rmse: 1239.12 + 95.2804\n",
      "[1200]\tcv_agg's rmse: 1234.88 + 95.2045\n",
      "[1300]\tcv_agg's rmse: 1231.28 + 94.892\n",
      "[1400]\tcv_agg's rmse: 1227.58 + 94.5681\n",
      "[1500]\tcv_agg's rmse: 1224.45 + 94.551\n",
      "[1600]\tcv_agg's rmse: 1221.43 + 94.907\n",
      "[1700]\tcv_agg's rmse: 1218.86 + 94.8447\n",
      "[1800]\tcv_agg's rmse: 1215.88 + 94.7223\n",
      "[1900]\tcv_agg's rmse: 1214.07 + 94.8144\n",
      "[2000]\tcv_agg's rmse: 1211.85 + 94.5402\n",
      "[2100]\tcv_agg's rmse: 1209.98 + 94.6233\n",
      "[2200]\tcv_agg's rmse: 1208.13 + 94.719\n",
      "[2300]\tcv_agg's rmse: 1206.82 + 94.7632\n",
      "[2400]\tcv_agg's rmse: 1205.38 + 94.6226\n",
      "[2500]\tcv_agg's rmse: 1203.94 + 94.6481\n",
      "[2600]\tcv_agg's rmse: 1202.58 + 94.5507\n",
      "[2700]\tcv_agg's rmse: 1201.54 + 94.6208\n",
      "[2800]\tcv_agg's rmse: 1200.38 + 94.5552\n",
      "[2900]\tcv_agg's rmse: 1199.37 + 94.4626\n",
      "[3000]\tcv_agg's rmse: 1198.25 + 94.3838\n",
      "[3100]\tcv_agg's rmse: 1197.41 + 94.5387\n",
      "[3200]\tcv_agg's rmse: 1196.43 + 94.356\n",
      "[3300]\tcv_agg's rmse: 1195.59 + 94.4344\n",
      "[3400]\tcv_agg's rmse: 1194.76 + 94.2028\n",
      "[3500]\tcv_agg's rmse: 1194.2 + 94.1775\n",
      "[3600]\tcv_agg's rmse: 1193.43 + 94.0384\n",
      "[3700]\tcv_agg's rmse: 1192.68 + 93.9495\n",
      "[3800]\tcv_agg's rmse: 1192.05 + 94.1612\n",
      "[3900]\tcv_agg's rmse: 1191.61 + 94.2245\n",
      "[4000]\tcv_agg's rmse: 1191.15 + 94.193\n",
      "[4100]\tcv_agg's rmse: 1190.57 + 94.2232\n",
      "[4200]\tcv_agg's rmse: 1190.24 + 94.1729\n",
      "[4300]\tcv_agg's rmse: 1189.95 + 94.3498\n",
      "[4400]\tcv_agg's rmse: 1189.26 + 94.4966\n",
      "[4500]\tcv_agg's rmse: 1188.85 + 94.6534\n",
      "[4600]\tcv_agg's rmse: 1188.46 + 94.735\n",
      "[4700]\tcv_agg's rmse: 1188.26 + 94.7761\n",
      "[4800]\tcv_agg's rmse: 1187.75 + 94.7958\n",
      "[4900]\tcv_agg's rmse: 1187.3 + 94.8038\n",
      "[5000]\tcv_agg's rmse: 1186.97 + 94.6081\n",
      "[5100]\tcv_agg's rmse: 1186.51 + 94.8511\n",
      "[5200]\tcv_agg's rmse: 1186.32 + 94.7501\n",
      "[5300]\tcv_agg's rmse: 1185.99 + 94.6684\n",
      "[5400]\tcv_agg's rmse: 1185.7 + 94.7177\n",
      "[5500]\tcv_agg's rmse: 1185.5 + 94.7023\n",
      "[5600]\tcv_agg's rmse: 1185.36 + 94.6313\n",
      "[5700]\tcv_agg's rmse: 1185.02 + 94.624\n",
      "[5800]\tcv_agg's rmse: 1184.62 + 94.6846\n",
      "[5900]\tcv_agg's rmse: 1184.43 + 94.5184\n",
      "[6000]\tcv_agg's rmse: 1184.29 + 94.5498\n",
      "[6100]\tcv_agg's rmse: 1184.1 + 94.466\n",
      "[6200]\tcv_agg's rmse: 1183.89 + 94.531\n",
      "[6300]\tcv_agg's rmse: 1183.65 + 94.4984\n",
      "[6400]\tcv_agg's rmse: 1183.7 + 94.5114\n",
      "[6500]\tcv_agg's rmse: 1183.59 + 94.5867\n",
      "[6600]\tcv_agg's rmse: 1183.39 + 94.7634\n",
      "[6700]\tcv_agg's rmse: 1183.2 + 94.7753\n",
      "[6800]\tcv_agg's rmse: 1183.17 + 94.8216\n",
      "[6900]\tcv_agg's rmse: 1182.91 + 94.8276\n",
      "[7000]\tcv_agg's rmse: 1183.01 + 94.9295\n",
      "[7100]\tcv_agg's rmse: 1182.96 + 95.0563\n"
     ]
    },
    {
     "name": "stderr",
     "output_type": "stream",
     "text": [
      "[I 2019-05-07 21:16:25,103] Finished a trial resulted in value: 1182.8995870292651. Current best value is 1169.0869930886697 with parameters: {'learning_rate': 0.015245673336081346, 'num_leaves': 38, 'min_data_in_leaf': 16, 'min_child_samples': 141, 'feature_fraction': 0.8669865361110087}.\n"
     ]
    },
    {
     "name": "stdout",
     "output_type": "stream",
     "text": [
      "[100]\tcv_agg's rmse: 1352.2 + 96.2507\n",
      "[200]\tcv_agg's rmse: 1233.69 + 91.774\n",
      "[300]\tcv_agg's rmse: 1207.16 + 93.7321\n",
      "[400]\tcv_agg's rmse: 1194.73 + 93.5591\n",
      "[500]\tcv_agg's rmse: 1188.91 + 93.8038\n",
      "[600]\tcv_agg's rmse: 1184.19 + 93.6724\n",
      "[700]\tcv_agg's rmse: 1181.68 + 93.5762\n",
      "[800]\tcv_agg's rmse: 1179.79 + 93.8333\n",
      "[900]\tcv_agg's rmse: 1179.18 + 93.8461\n",
      "[1000]\tcv_agg's rmse: 1178.28 + 94.272\n",
      "[1100]\tcv_agg's rmse: 1178.08 + 94.0043\n",
      "[1200]\tcv_agg's rmse: 1178.23 + 93.7879\n"
     ]
    },
    {
     "name": "stderr",
     "output_type": "stream",
     "text": [
      "[I 2019-05-07 21:19:16,357] Finished a trial resulted in value: 1177.8669426931615. Current best value is 1169.0869930886697 with parameters: {'learning_rate': 0.015245673336081346, 'num_leaves': 38, 'min_data_in_leaf': 16, 'min_child_samples': 141, 'feature_fraction': 0.8669865361110087}.\n"
     ]
    },
    {
     "name": "stdout",
     "output_type": "stream",
     "text": [
      "[100]\tcv_agg's rmse: 1694.42 + 100.807\n",
      "[200]\tcv_agg's rmse: 1340.09 + 92.7617\n",
      "[300]\tcv_agg's rmse: 1265.4 + 92.4495\n",
      "[400]\tcv_agg's rmse: 1237.05 + 92.9934\n",
      "[500]\tcv_agg's rmse: 1221.22 + 92.9123\n",
      "[600]\tcv_agg's rmse: 1211.35 + 93.3033\n",
      "[700]\tcv_agg's rmse: 1204.05 + 93.8261\n",
      "[800]\tcv_agg's rmse: 1198.63 + 93.7733\n",
      "[900]\tcv_agg's rmse: 1193.81 + 94.0684\n",
      "[1000]\tcv_agg's rmse: 1190.03 + 94.1989\n",
      "[1100]\tcv_agg's rmse: 1186.5 + 94.432\n",
      "[1200]\tcv_agg's rmse: 1183.92 + 94.6578\n",
      "[1300]\tcv_agg's rmse: 1182 + 94.642\n",
      "[1400]\tcv_agg's rmse: 1179.87 + 94.889\n",
      "[1500]\tcv_agg's rmse: 1178.18 + 94.5695\n",
      "[1600]\tcv_agg's rmse: 1176.96 + 95.0887\n",
      "[1700]\tcv_agg's rmse: 1175.83 + 94.834\n",
      "[1800]\tcv_agg's rmse: 1174.75 + 94.867\n",
      "[1900]\tcv_agg's rmse: 1174.11 + 94.6835\n",
      "[2000]\tcv_agg's rmse: 1172.97 + 94.7312\n",
      "[2100]\tcv_agg's rmse: 1172.26 + 95.0256\n",
      "[2200]\tcv_agg's rmse: 1171.83 + 95.4566\n",
      "[2300]\tcv_agg's rmse: 1171.22 + 95.8501\n",
      "[2400]\tcv_agg's rmse: 1170.94 + 96.045\n",
      "[2500]\tcv_agg's rmse: 1170.6 + 96.1979\n",
      "[2600]\tcv_agg's rmse: 1170.24 + 96.2537\n",
      "[2700]\tcv_agg's rmse: 1170.08 + 96.3812\n",
      "[2800]\tcv_agg's rmse: 1169.73 + 96.4496\n",
      "[2900]\tcv_agg's rmse: 1169.37 + 96.5327\n",
      "[3000]\tcv_agg's rmse: 1169.27 + 96.5667\n",
      "[3100]\tcv_agg's rmse: 1169.21 + 96.5095\n",
      "[3200]\tcv_agg's rmse: 1168.98 + 96.6999\n",
      "[3300]\tcv_agg's rmse: 1168.92 + 96.7739\n",
      "[3400]\tcv_agg's rmse: 1168.87 + 96.7211\n",
      "[3500]\tcv_agg's rmse: 1168.8 + 96.7866\n",
      "[3600]\tcv_agg's rmse: 1168.66 + 96.829\n",
      "[3700]\tcv_agg's rmse: 1168.68 + 96.9032\n",
      "[3800]\tcv_agg's rmse: 1168.74 + 96.8545\n"
     ]
    },
    {
     "name": "stderr",
     "output_type": "stream",
     "text": [
      "[I 2019-05-07 21:24:55,229] Finished a trial resulted in value: 1168.6337176726809. Current best value is 1168.6337176726809 with parameters: {'learning_rate': 0.012952760113228802, 'num_leaves': 41, 'min_data_in_leaf': 17, 'min_child_samples': 139, 'feature_fraction': 0.8079770112855833}.\n"
     ]
    },
    {
     "name": "stdout",
     "output_type": "stream",
     "text": [
      "[100]\tcv_agg's rmse: 1973.54 + 107.663\n"
     ]
    },
    {
     "ename": "KeyboardInterrupt",
     "evalue": "",
     "output_type": "error",
     "traceback": [
      "\u001b[1;31m---------------------------------------------------------------------------\u001b[0m",
      "\u001b[1;31mKeyboardInterrupt\u001b[0m                         Traceback (most recent call last)",
      "\u001b[1;32m<ipython-input-62-b70ffb9a85ba>\u001b[0m in \u001b[0;36m<module>\u001b[1;34m()\u001b[0m\n\u001b[0;32m      1\u001b[0m \u001b[0mstudy\u001b[0m \u001b[1;33m=\u001b[0m \u001b[0moptuna\u001b[0m\u001b[1;33m.\u001b[0m\u001b[0mcreate_study\u001b[0m\u001b[1;33m(\u001b[0m\u001b[1;33m)\u001b[0m\u001b[1;33m\u001b[0m\u001b[0m\n\u001b[1;32m----> 2\u001b[1;33m \u001b[0mstudy\u001b[0m\u001b[1;33m.\u001b[0m\u001b[0moptimize\u001b[0m\u001b[1;33m(\u001b[0m\u001b[0mobjective\u001b[0m\u001b[1;33m,\u001b[0m \u001b[0mn_trials\u001b[0m\u001b[1;33m=\u001b[0m\u001b[1;36m1000\u001b[0m\u001b[1;33m)\u001b[0m\u001b[1;33m\u001b[0m\u001b[0m\n\u001b[0m\u001b[0;32m      3\u001b[0m \u001b[1;33m\u001b[0m\u001b[0m\n\u001b[0;32m      4\u001b[0m \u001b[0mprint\u001b[0m\u001b[1;33m(\u001b[0m\u001b[1;34m'Number of finished trials: {}'\u001b[0m\u001b[1;33m.\u001b[0m\u001b[0mformat\u001b[0m\u001b[1;33m(\u001b[0m\u001b[0mlen\u001b[0m\u001b[1;33m(\u001b[0m\u001b[0mstudy\u001b[0m\u001b[1;33m.\u001b[0m\u001b[0mtrials\u001b[0m\u001b[1;33m)\u001b[0m\u001b[1;33m)\u001b[0m\u001b[1;33m)\u001b[0m\u001b[1;33m\u001b[0m\u001b[0m\n\u001b[0;32m      5\u001b[0m \u001b[1;33m\u001b[0m\u001b[0m\n",
      "\u001b[1;32mC:\\Anaconda3\\lib\\site-packages\\optuna\\study.py\u001b[0m in \u001b[0;36moptimize\u001b[1;34m(self, func, n_trials, timeout, n_jobs, catch)\u001b[0m\n\u001b[0;32m    220\u001b[0m \u001b[1;33m\u001b[0m\u001b[0m\n\u001b[0;32m    221\u001b[0m         \u001b[1;32mif\u001b[0m \u001b[0mn_jobs\u001b[0m \u001b[1;33m==\u001b[0m \u001b[1;36m1\u001b[0m\u001b[1;33m:\u001b[0m\u001b[1;33m\u001b[0m\u001b[0m\n\u001b[1;32m--> 222\u001b[1;33m             \u001b[0mself\u001b[0m\u001b[1;33m.\u001b[0m\u001b[0m_optimize_sequential\u001b[0m\u001b[1;33m(\u001b[0m\u001b[0mfunc\u001b[0m\u001b[1;33m,\u001b[0m \u001b[0mn_trials\u001b[0m\u001b[1;33m,\u001b[0m \u001b[0mtimeout\u001b[0m\u001b[1;33m,\u001b[0m \u001b[0mcatch\u001b[0m\u001b[1;33m)\u001b[0m\u001b[1;33m\u001b[0m\u001b[0m\n\u001b[0m\u001b[0;32m    223\u001b[0m         \u001b[1;32melse\u001b[0m\u001b[1;33m:\u001b[0m\u001b[1;33m\u001b[0m\u001b[0m\n\u001b[0;32m    224\u001b[0m             \u001b[0mself\u001b[0m\u001b[1;33m.\u001b[0m\u001b[0m_optimize_parallel\u001b[0m\u001b[1;33m(\u001b[0m\u001b[0mfunc\u001b[0m\u001b[1;33m,\u001b[0m \u001b[0mn_trials\u001b[0m\u001b[1;33m,\u001b[0m \u001b[0mtimeout\u001b[0m\u001b[1;33m,\u001b[0m \u001b[0mn_jobs\u001b[0m\u001b[1;33m,\u001b[0m \u001b[0mcatch\u001b[0m\u001b[1;33m)\u001b[0m\u001b[1;33m\u001b[0m\u001b[0m\n",
      "\u001b[1;32mC:\\Anaconda3\\lib\\site-packages\\optuna\\study.py\u001b[0m in \u001b[0;36m_optimize_sequential\u001b[1;34m(self, func, n_trials, timeout, catch)\u001b[0m\n\u001b[0;32m    334\u001b[0m                     \u001b[1;32mbreak\u001b[0m\u001b[1;33m\u001b[0m\u001b[0m\n\u001b[0;32m    335\u001b[0m \u001b[1;33m\u001b[0m\u001b[0m\n\u001b[1;32m--> 336\u001b[1;33m             \u001b[0mself\u001b[0m\u001b[1;33m.\u001b[0m\u001b[0m_run_trial\u001b[0m\u001b[1;33m(\u001b[0m\u001b[0mfunc\u001b[0m\u001b[1;33m,\u001b[0m \u001b[0mcatch\u001b[0m\u001b[1;33m)\u001b[0m\u001b[1;33m\u001b[0m\u001b[0m\n\u001b[0m\u001b[0;32m    337\u001b[0m \u001b[1;33m\u001b[0m\u001b[0m\n\u001b[0;32m    338\u001b[0m     def _optimize_parallel(\n",
      "\u001b[1;32mC:\\Anaconda3\\lib\\site-packages\\optuna\\study.py\u001b[0m in \u001b[0;36m_run_trial\u001b[1;34m(self, func, catch)\u001b[0m\n\u001b[0;32m    407\u001b[0m \u001b[1;33m\u001b[0m\u001b[0m\n\u001b[0;32m    408\u001b[0m         \u001b[1;32mtry\u001b[0m\u001b[1;33m:\u001b[0m\u001b[1;33m\u001b[0m\u001b[0m\n\u001b[1;32m--> 409\u001b[1;33m             \u001b[0mresult\u001b[0m \u001b[1;33m=\u001b[0m \u001b[0mfunc\u001b[0m\u001b[1;33m(\u001b[0m\u001b[0mtrial\u001b[0m\u001b[1;33m)\u001b[0m\u001b[1;33m\u001b[0m\u001b[0m\n\u001b[0m\u001b[0;32m    410\u001b[0m         \u001b[1;32mexcept\u001b[0m \u001b[0mstructs\u001b[0m\u001b[1;33m.\u001b[0m\u001b[0mTrialPruned\u001b[0m \u001b[1;32mas\u001b[0m \u001b[0me\u001b[0m\u001b[1;33m:\u001b[0m\u001b[1;33m\u001b[0m\u001b[0m\n\u001b[0;32m    411\u001b[0m             message = 'Setting trial status as {}. {}'.format(\n",
      "\u001b[1;32m<ipython-input-61-c4d286b5f830>\u001b[0m in \u001b[0;36mobjective\u001b[1;34m(trial)\u001b[0m\n\u001b[0;32m     59\u001b[0m                         \u001b[0mearly_stopping_rounds\u001b[0m\u001b[1;33m=\u001b[0m \u001b[1;36m200\u001b[0m\u001b[1;33m,\u001b[0m\u001b[1;33m\u001b[0m\u001b[0m\n\u001b[0;32m     60\u001b[0m                         \u001b[0mverbose_eval\u001b[0m\u001b[1;33m=\u001b[0m\u001b[1;36m100\u001b[0m\u001b[1;33m,\u001b[0m\u001b[1;33m\u001b[0m\u001b[0m\n\u001b[1;32m---> 61\u001b[1;33m                         \u001b[0mseed\u001b[0m\u001b[1;33m=\u001b[0m\u001b[1;36m47\u001b[0m\u001b[1;33m\u001b[0m\u001b[0m\n\u001b[0m\u001b[0;32m     62\u001b[0m \u001b[1;33m\u001b[0m\u001b[0m\n\u001b[0;32m     63\u001b[0m                          )\n",
      "\u001b[1;32mC:\\Anaconda3\\lib\\site-packages\\lightgbm\\engine.py\u001b[0m in \u001b[0;36mcv\u001b[1;34m(params, train_set, num_boost_round, folds, nfold, stratified, shuffle, metrics, fobj, feval, init_model, feature_name, categorical_feature, early_stopping_rounds, fpreproc, verbose_eval, show_stdv, seed, callbacks)\u001b[0m\n\u001b[0;32m    485\u001b[0m                                     \u001b[0mend_iteration\u001b[0m\u001b[1;33m=\u001b[0m\u001b[0mnum_boost_round\u001b[0m\u001b[1;33m,\u001b[0m\u001b[1;33m\u001b[0m\u001b[0m\n\u001b[0;32m    486\u001b[0m                                     evaluation_result_list=None))\n\u001b[1;32m--> 487\u001b[1;33m         \u001b[0mcvfolds\u001b[0m\u001b[1;33m.\u001b[0m\u001b[0mupdate\u001b[0m\u001b[1;33m(\u001b[0m\u001b[0mfobj\u001b[0m\u001b[1;33m=\u001b[0m\u001b[0mfobj\u001b[0m\u001b[1;33m)\u001b[0m\u001b[1;33m\u001b[0m\u001b[0m\n\u001b[0m\u001b[0;32m    488\u001b[0m         \u001b[0mres\u001b[0m \u001b[1;33m=\u001b[0m \u001b[0m_agg_cv_result\u001b[0m\u001b[1;33m(\u001b[0m\u001b[0mcvfolds\u001b[0m\u001b[1;33m.\u001b[0m\u001b[0meval_valid\u001b[0m\u001b[1;33m(\u001b[0m\u001b[0mfeval\u001b[0m\u001b[1;33m)\u001b[0m\u001b[1;33m)\u001b[0m\u001b[1;33m\u001b[0m\u001b[0m\n\u001b[0;32m    489\u001b[0m         \u001b[1;32mfor\u001b[0m \u001b[0m_\u001b[0m\u001b[1;33m,\u001b[0m \u001b[0mkey\u001b[0m\u001b[1;33m,\u001b[0m \u001b[0mmean\u001b[0m\u001b[1;33m,\u001b[0m \u001b[0m_\u001b[0m\u001b[1;33m,\u001b[0m \u001b[0mstd\u001b[0m \u001b[1;32min\u001b[0m \u001b[0mres\u001b[0m\u001b[1;33m:\u001b[0m\u001b[1;33m\u001b[0m\u001b[0m\n",
      "\u001b[1;32mC:\\Anaconda3\\lib\\site-packages\\lightgbm\\engine.py\u001b[0m in \u001b[0;36mhandler_function\u001b[1;34m(*args, **kwargs)\u001b[0m\n\u001b[0;32m    261\u001b[0m             \u001b[0mret\u001b[0m \u001b[1;33m=\u001b[0m \u001b[1;33m[\u001b[0m\u001b[1;33m]\u001b[0m\u001b[1;33m\u001b[0m\u001b[0m\n\u001b[0;32m    262\u001b[0m             \u001b[1;32mfor\u001b[0m \u001b[0mbooster\u001b[0m \u001b[1;32min\u001b[0m \u001b[0mself\u001b[0m\u001b[1;33m.\u001b[0m\u001b[0mboosters\u001b[0m\u001b[1;33m:\u001b[0m\u001b[1;33m\u001b[0m\u001b[0m\n\u001b[1;32m--> 263\u001b[1;33m                 \u001b[0mret\u001b[0m\u001b[1;33m.\u001b[0m\u001b[0mappend\u001b[0m\u001b[1;33m(\u001b[0m\u001b[0mgetattr\u001b[0m\u001b[1;33m(\u001b[0m\u001b[0mbooster\u001b[0m\u001b[1;33m,\u001b[0m \u001b[0mname\u001b[0m\u001b[1;33m)\u001b[0m\u001b[1;33m(\u001b[0m\u001b[1;33m*\u001b[0m\u001b[0margs\u001b[0m\u001b[1;33m,\u001b[0m \u001b[1;33m**\u001b[0m\u001b[0mkwargs\u001b[0m\u001b[1;33m)\u001b[0m\u001b[1;33m)\u001b[0m\u001b[1;33m\u001b[0m\u001b[0m\n\u001b[0m\u001b[0;32m    264\u001b[0m             \u001b[1;32mreturn\u001b[0m \u001b[0mret\u001b[0m\u001b[1;33m\u001b[0m\u001b[0m\n\u001b[0;32m    265\u001b[0m         \u001b[1;32mreturn\u001b[0m \u001b[0mhandler_function\u001b[0m\u001b[1;33m\u001b[0m\u001b[0m\n",
      "\u001b[1;32mC:\\Anaconda3\\lib\\site-packages\\lightgbm\\basic.py\u001b[0m in \u001b[0;36mupdate\u001b[1;34m(self, train_set, fobj)\u001b[0m\n\u001b[0;32m   1787\u001b[0m             _safe_call(_LIB.LGBM_BoosterUpdateOneIter(\n\u001b[0;32m   1788\u001b[0m                 \u001b[0mself\u001b[0m\u001b[1;33m.\u001b[0m\u001b[0mhandle\u001b[0m\u001b[1;33m,\u001b[0m\u001b[1;33m\u001b[0m\u001b[0m\n\u001b[1;32m-> 1789\u001b[1;33m                 ctypes.byref(is_finished)))\n\u001b[0m\u001b[0;32m   1790\u001b[0m             \u001b[0mself\u001b[0m\u001b[1;33m.\u001b[0m\u001b[0m__is_predicted_cur_iter\u001b[0m \u001b[1;33m=\u001b[0m \u001b[1;33m[\u001b[0m\u001b[1;32mFalse\u001b[0m \u001b[1;32mfor\u001b[0m \u001b[0m_\u001b[0m \u001b[1;32min\u001b[0m \u001b[0mrange_\u001b[0m\u001b[1;33m(\u001b[0m\u001b[0mself\u001b[0m\u001b[1;33m.\u001b[0m\u001b[0m__num_dataset\u001b[0m\u001b[1;33m)\u001b[0m\u001b[1;33m]\u001b[0m\u001b[1;33m\u001b[0m\u001b[0m\n\u001b[0;32m   1791\u001b[0m             \u001b[1;32mreturn\u001b[0m \u001b[0mis_finished\u001b[0m\u001b[1;33m.\u001b[0m\u001b[0mvalue\u001b[0m \u001b[1;33m==\u001b[0m \u001b[1;36m1\u001b[0m\u001b[1;33m\u001b[0m\u001b[0m\n",
      "\u001b[1;31mKeyboardInterrupt\u001b[0m: "
     ]
    }
   ],
   "source": [
    "study = optuna.create_study()\n",
    "study.optimize(objective, n_trials=1000)\n",
    "\n",
    "print('Number of finished trials: {}'.format(len(study.trials)))\n",
    "\n",
    "print('Best trial:')\n",
    "trial = study.best_trial\n",
    "\n",
    "print('  Value: {}'.format(trial.value))\n",
    "\n",
    "print('  Params: ')\n",
    "for key, value in trial.params.items():\n",
    "    print('    {}: {}'.format(key, value))\n",
    "\n",
    "hist_df = study.trials_dataframe()\n",
    "hist_df.to_csv(\"optuna_result_lgbm.csv\")\n",
    "\n",
    "del df\n",
    "gc.collect()"
   ]
  },
  {
   "cell_type": "code",
   "execution_count": 63,
   "metadata": {},
   "outputs": [],
   "source": [
    "#0.8946\n",
    "params = {\n",
    "    'num_leaves': 41,\n",
    "    'min_data_in_leaf': 17,\n",
    "    'min_child_samples':139,\n",
    "    'objective': 'regression',\n",
    "    'learning_rate': 0.012952760113228802,\n",
    "    \"boosting\": \"gbdt\",\n",
    "    \"feature_fraction\":0.8079770112855833,\n",
    "    \"bagging_freq\": 1,\n",
    "    \"bagging_fraction\": 0.85,\n",
    "    \"bagging_seed\": 23,\n",
    "    \"metric\": 'rmse',\n",
    "    \"lambda_l1\": 0.2,\n",
    "    \"nthread\": 4,\n",
    "}"
   ]
  },
  {
   "cell_type": "code",
   "execution_count": 64,
   "metadata": {
    "cell_style": "center",
    "scrolled": true
   },
   "outputs": [
    {
     "name": "stdout",
     "output_type": "stream",
     "text": [
      "fold 0\n",
      "Training until validation scores don't improve for 200 rounds.\n",
      "[500]\ttraining's rmse: 984.508\tvalid_1's rmse: 1159.73\n",
      "[1000]\ttraining's rmse: 843.177\tvalid_1's rmse: 1134.6\n",
      "[1500]\ttraining's rmse: 760.241\tvalid_1's rmse: 1123.68\n",
      "[2000]\ttraining's rmse: 700.472\tvalid_1's rmse: 1118.42\n",
      "[2500]\ttraining's rmse: 654.521\tvalid_1's rmse: 1115.26\n",
      "[3000]\ttraining's rmse: 616.748\tvalid_1's rmse: 1113.48\n",
      "[3500]\ttraining's rmse: 584.917\tvalid_1's rmse: 1112.67\n",
      "Early stopping, best iteration is:\n",
      "[3437]\ttraining's rmse: 588.58\tvalid_1's rmse: 1112.53\n",
      "fold 0_CV Score: 0.90229 \n",
      "fold 1\n",
      "Training until validation scores don't improve for 200 rounds.\n",
      "[500]\ttraining's rmse: 990.284\tvalid_1's rmse: 1164.03\n",
      "[1000]\ttraining's rmse: 848.996\tvalid_1's rmse: 1124.23\n",
      "[1500]\ttraining's rmse: 763.352\tvalid_1's rmse: 1107.13\n",
      "[2000]\ttraining's rmse: 702.682\tvalid_1's rmse: 1098.15\n",
      "[2500]\ttraining's rmse: 656.16\tvalid_1's rmse: 1093.71\n",
      "[3000]\ttraining's rmse: 617.86\tvalid_1's rmse: 1091.52\n",
      "[3500]\ttraining's rmse: 585.561\tvalid_1's rmse: 1090.5\n",
      "Early stopping, best iteration is:\n",
      "[3768]\ttraining's rmse: 570.102\tvalid_1's rmse: 1090.1\n",
      "fold 1_CV Score: 0.91463 \n",
      "fold 2\n",
      "Training until validation scores don't improve for 200 rounds.\n",
      "[500]\ttraining's rmse: 964.197\tvalid_1's rmse: 1297.27\n",
      "[1000]\ttraining's rmse: 822.974\tvalid_1's rmse: 1263.35\n",
      "[1500]\ttraining's rmse: 739.817\tvalid_1's rmse: 1253.16\n",
      "[2000]\ttraining's rmse: 680.987\tvalid_1's rmse: 1249.17\n",
      "[2500]\ttraining's rmse: 635.815\tvalid_1's rmse: 1246.88\n",
      "[3000]\ttraining's rmse: 599.204\tvalid_1's rmse: 1245.59\n",
      "Early stopping, best iteration is:\n",
      "[2863]\ttraining's rmse: 608.359\tvalid_1's rmse: 1245.26\n",
      "fold 2_CV Score: 0.87734 \n",
      "fold 3\n",
      "Training until validation scores don't improve for 200 rounds.\n",
      "[500]\ttraining's rmse: 966.076\tvalid_1's rmse: 1280.6\n",
      "[1000]\ttraining's rmse: 827.407\tvalid_1's rmse: 1249.8\n",
      "[1500]\ttraining's rmse: 744.405\tvalid_1's rmse: 1238.28\n",
      "[2000]\ttraining's rmse: 685.445\tvalid_1's rmse: 1233.27\n",
      "[2500]\ttraining's rmse: 640.291\tvalid_1's rmse: 1228.99\n",
      "Early stopping, best iteration is:\n",
      "[2381]\ttraining's rmse: 649.857\tvalid_1's rmse: 1228.65\n",
      "fold 3_CV Score: 0.88532 \n",
      "fold 4\n",
      "Training until validation scores don't improve for 200 rounds.\n",
      "[500]\ttraining's rmse: 985.125\tvalid_1's rmse: 1218.52\n",
      "[1000]\ttraining's rmse: 846.441\tvalid_1's rmse: 1183.12\n",
      "[1500]\ttraining's rmse: 763.578\tvalid_1's rmse: 1169.07\n",
      "[2000]\ttraining's rmse: 704.884\tvalid_1's rmse: 1160.76\n",
      "[2500]\ttraining's rmse: 658.564\tvalid_1's rmse: 1156.8\n",
      "[3000]\ttraining's rmse: 620.269\tvalid_1's rmse: 1154.91\n",
      "Early stopping, best iteration is:\n",
      "[3293]\ttraining's rmse: 600.829\tvalid_1's rmse: 1154.03\n",
      "fold 4_CV Score: 0.89179 \n",
      "CV Score: 0.89462 \n"
     ]
    }
   ],
   "source": [
    "folds = KFold(n_splits=5, shuffle=True, random_state=2333)\n",
    "\n",
    "oof_lgb = np.zeros(len(train))\n",
    "predictions_lgb = np.zeros(len(test))\n",
    "feature_importance_df = pd.DataFrame()\n",
    "\n",
    "for fold_, (trn_idx, val_idx) in enumerate(folds.split(train.values, target.values)):\n",
    "    print(\"fold {}\".format(fold_))\n",
    "    trn_data = lgb.Dataset(train.iloc[trn_idx], label=target.iloc[trn_idx],categorical_feature=categorical_feats)\n",
    "    val_data = lgb.Dataset(train.iloc[val_idx], label=target.iloc[val_idx],categorical_feature=categorical_feats)\n",
    "\n",
    "    num_round = 10000\n",
    "    clf = lgb.train(params, trn_data, num_round, valid_sets = [trn_data, val_data], verbose_eval=500, early_stopping_rounds = 200)\n",
    "\n",
    "    oof_lgb[val_idx] = clf.predict(train.iloc[val_idx], num_iteration=clf.best_iteration)\n",
    "\n",
    "    fold_importance_df = pd.DataFrame()\n",
    "    fold_importance_df[\"feature\"] = features\n",
    "    fold_importance_df[\"importance\"] = clf.feature_importance()\n",
    "    fold_importance_df[\"fold\"] = fold_ + 1\n",
    "    feature_importance_df = pd.concat([feature_importance_df, fold_importance_df], axis=0)\n",
    "\n",
    "    print(\"fold {}\".format(fold_) + \"_CV Score: {:<8.5f}\".format(r2_score(target.iloc[val_idx], oof_lgb[val_idx])))\n",
    "\n",
    "    predictions_lgb += clf.predict(test, num_iteration=clf.best_iteration) / folds.n_splits\n",
    "    \n",
    "print(\"CV Score: {:<8.5f}\".format(r2_score(target, oof_lgb)))"
   ]
  },
  {
   "cell_type": "code",
   "execution_count": 15,
   "metadata": {
    "scrolled": true
   },
   "outputs": [
    {
     "data": {
      "text/plain": [
       "'#删了分数变低\\nuse = []\\n#删了分数变高\\nuseless = []\\n\\nfor col in train.columns:\\n\\n    train = pd.read_csv(\\'train_other.csv\\',encoding = \\'gbk\\')\\n    test = pd.read_csv(\\'test_other.csv\\',encoding = \\'gbk\\')\\n    columns = [\\'rentType\\', \\'houseFloor\\', \\'houseToward\\', \\'houseDecoration\\',  \\'region\\', \\'plate\\']\\n    for i in columns:\\n        train [i] = train [i].astype(\\'category\\')\\n        test [i] = test [i].astype(\\'category\\')\\n    print(\\'drop col:{}\\'.format(col))\\n    train=train.drop([col],axis=1)\\n    test=test.drop([col],axis=1) \\n    \\n    if col in categorical_feats:\\n        categorical_feats.remove(col)\\n    \\n    folds = KFold(n_splits=5, shuffle=True, random_state=2333)\\n\\n    oof_lgb = np.zeros(len(train))\\n    predictions_lgb = np.zeros(len(test))\\n    feature_importance_df = pd.DataFrame()\\n\\n    for fold_, (trn_idx, val_idx) in enumerate(folds.split(train.values, target.values)):\\n        print(\"fold {}\".format(fold_))\\n        trn_data = lgb.Dataset(train.iloc[trn_idx], label=target.iloc[trn_idx],categorical_feature=categorical_feats)\\n        val_data = lgb.Dataset(train.iloc[val_idx], label=target.iloc[val_idx],categorical_feature=categorical_feats)\\n\\n        num_round = 10000\\n        clf = lgb.train(params, trn_data, num_round, valid_sets = [trn_data, val_data], verbose_eval=500, early_stopping_rounds = 200)\\n\\n        oof_lgb[val_idx] = clf.predict(train.iloc[val_idx], num_iteration=clf.best_iteration)\\n\\n        fold_importance_df = pd.DataFrame()\\n        fold_importance_df[\"feature\"] = features\\n        fold_importance_df[\"importance\"] = clf.feature_importance()\\n        fold_importance_df[\"fold\"] = fold_ + 1\\n        feature_importance_df = pd.concat([feature_importance_df, fold_importance_df], axis=0)\\n\\n        print(\"fold {}\".format(fold_) + \"_CV Score: {:<8.5f}\".format(r2_score(target.iloc[val_idx], oof_lgb[val_idx])))\\n\\n        predictions_lgb += clf.predict(test, num_iteration=clf.best_iteration) / folds.n_splits\\n    \\n    print(\\'------------------------------------\\')\\n    \\n    print(\\'drop col:{}\\'.format(col) + \" CV Score: {:<8.5f}\".format(r2_score(target, oof_lgb)))\\n    \\n    print(\\'------------------------------------\\')\\n    \\n    if r2_score(target, oof_lgb) >= 0.85814:\\n        useless.append(col)\\n    if r2_score(target, oof_lgb) < 0.85814:\\n        use.append(col)\\n    \\n    \\n    print(useless)\\n'"
      ]
     },
     "execution_count": 15,
     "metadata": {},
     "output_type": "execute_result"
    }
   ],
   "source": [
    "'''#删了分数变低\n",
    "use = []\n",
    "#删了分数变高\n",
    "useless = []\n",
    "\n",
    "for col in train.columns:\n",
    "\n",
    "    train = pd.read_csv('train_other.csv',encoding = 'gbk')\n",
    "    test = pd.read_csv('test_other.csv',encoding = 'gbk')\n",
    "    columns = ['rentType', 'houseFloor', 'houseToward', 'houseDecoration',  'region', 'plate']\n",
    "    for i in columns:\n",
    "        train [i] = train [i].astype('category')\n",
    "        test [i] = test [i].astype('category')\n",
    "    print('drop col:{}'.format(col))\n",
    "    train=train.drop([col],axis=1)\n",
    "    test=test.drop([col],axis=1) \n",
    "    \n",
    "    if col in categorical_feats:\n",
    "        categorical_feats.remove(col)\n",
    "    \n",
    "    folds = KFold(n_splits=5, shuffle=True, random_state=2333)\n",
    "\n",
    "    oof_lgb = np.zeros(len(train))\n",
    "    predictions_lgb = np.zeros(len(test))\n",
    "    feature_importance_df = pd.DataFrame()\n",
    "\n",
    "    for fold_, (trn_idx, val_idx) in enumerate(folds.split(train.values, target.values)):\n",
    "        print(\"fold {}\".format(fold_))\n",
    "        trn_data = lgb.Dataset(train.iloc[trn_idx], label=target.iloc[trn_idx],categorical_feature=categorical_feats)\n",
    "        val_data = lgb.Dataset(train.iloc[val_idx], label=target.iloc[val_idx],categorical_feature=categorical_feats)\n",
    "\n",
    "        num_round = 10000\n",
    "        clf = lgb.train(params, trn_data, num_round, valid_sets = [trn_data, val_data], verbose_eval=500, early_stopping_rounds = 200)\n",
    "\n",
    "        oof_lgb[val_idx] = clf.predict(train.iloc[val_idx], num_iteration=clf.best_iteration)\n",
    "\n",
    "        fold_importance_df = pd.DataFrame()\n",
    "        fold_importance_df[\"feature\"] = features\n",
    "        fold_importance_df[\"importance\"] = clf.feature_importance()\n",
    "        fold_importance_df[\"fold\"] = fold_ + 1\n",
    "        feature_importance_df = pd.concat([feature_importance_df, fold_importance_df], axis=0)\n",
    "\n",
    "        print(\"fold {}\".format(fold_) + \"_CV Score: {:<8.5f}\".format(r2_score(target.iloc[val_idx], oof_lgb[val_idx])))\n",
    "\n",
    "        predictions_lgb += clf.predict(test, num_iteration=clf.best_iteration) / folds.n_splits\n",
    "    \n",
    "    print('------------------------------------')\n",
    "    \n",
    "    print('drop col:{}'.format(col) + \" CV Score: {:<8.5f}\".format(r2_score(target, oof_lgb)))\n",
    "    \n",
    "    print('------------------------------------')\n",
    "    \n",
    "    if r2_score(target, oof_lgb) >= 0.85814:\n",
    "        useless.append(col)\n",
    "    if r2_score(target, oof_lgb) < 0.85814:\n",
    "        use.append(col)\n",
    "    \n",
    "    \n",
    "    print(useless)\n",
    "'''"
   ]
  },
  {
   "cell_type": "markdown",
   "metadata": {},
   "source": [
    "# 特征贡献值"
   ]
  },
  {
   "cell_type": "code",
   "execution_count": 44,
   "metadata": {
    "collapsed": true
   },
   "outputs": [
    {
     "data": {
      "image/png": "[encoded data removed]",
      "text/plain": [
       "<Figure size 1008x2880 with 1 Axes>"
      ]
     },
     "metadata": {},
     "output_type": "display_data"
    }
   ],
   "source": [
    "cols = (feature_importance_df[[\"feature\", \"importance\"]]\n",
    "        .groupby(\"feature\")\n",
    "        .mean()\n",
    "        .sort_values(by=\"importance\", ascending=False)[:1000].index)\n",
    "\n",
    "best_features = feature_importance_df.loc[feature_importance_df.feature.isin(cols)]\n",
    "\n",
    "plt.figure(figsize=(14,40))\n",
    "sns.barplot(x=\"importance\",\n",
    "            y=\"feature\",\n",
    "            data=best_features.sort_values(by=\"importance\",\n",
    "                                           ascending=False))\n",
    "plt.title('LightGBM Features (avg over folds)')\n",
    "plt.tight_layout()"
   ]
  },
  {
   "cell_type": "markdown",
   "metadata": {},
   "source": [
    "# 生成提交数据"
   ]
  },
  {
   "cell_type": "code",
   "execution_count": 43,
   "metadata": {},
   "outputs": [],
   "source": [
    "pd.DataFrame(predictions_lgb).apply(round).to_csv('submit-0.89409.csv',na_rep='\\n',index=False,encoding='utf8',header=False)"
   ]
  }
 ],
 "metadata": {
  "kernelspec": {
   "display_name": "Python 3",
   "language": "python",
   "name": "python3"
  },
  "language_info": {
   "codemirror_mode": {
    "name": "ipython",
    "version": 3
   },
   "file_extension": ".py",
   "mimetype": "text/x-python",
   "name": "python",
   "nbconvert_exporter": "python",
   "pygments_lexer": "ipython3",
   "version": "3.6.5"
  },
  "toc": {
   "base_numbering": 1,
   "nav_menu": {},
   "number_sections": true,
   "sideBar": true,
   "skip_h1_title": false,
   "title_cell": "Table of Contents",
   "title_sidebar": "Contents",
   "toc_cell": false,
   "toc_position": {},
   "toc_section_display": true,
   "toc_window_display": false
  }
 },
 "nbformat": 4,
 "nbformat_minor": 2
}
