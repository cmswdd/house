{
 "cells": [
  {
   "cell_type": "code",
   "execution_count": 28,
   "metadata": {
    "_cell_guid": "b1076dfc-b9ad-4769-8c92-a6c4dae69d19",
    "_kg_hide-input": true,
    "_uuid": "8f2839f25d086af736a60e9eeb907d3b93b6e0e5"
   },
   "outputs": [],
   "source": [
    "import numpy as np\n",
    "import pandas as pd\n",
    "import datetime\n",
    "import gc\n",
    "import matplotlib.pyplot as plt\n",
    "import seaborn as sns\n",
    "import lightgbm as lgb\n",
    "from sklearn.model_selection import StratifiedKFold, cross_val_score, KFold, GridSearchCV\n",
    "from sklearn.metrics import mean_squared_error\n",
    "from sklearn.tree import DecisionTreeRegressor\n",
    "from sklearn.preprocessing import StandardScaler\n",
    "from sklearn.linear_model import Ridge, Lasso, LarsCV, RidgeCV, Lars\n",
    "import warnings\n",
    "import random\n",
    "\n",
    "import datetime\n",
    "from mlxtend.regressor import StackingCVRegressor\n",
    "from sklearn.ensemble import AdaBoostRegressor\n",
    "from sklearn.tree import DecisionTreeRegressor\n",
    "import xgboost as xgb\n",
    "import catboost as cb\n",
    "from catboost import CatBoostClassifier\n",
    "import scipy\n",
    "from sklearn.cluster import DBSCAN\n",
    "from pandas.api.types import is_numeric_dtype\n",
    "\n",
    "\n",
    "\n",
    "from sklearn.metrics import roc_auc_score\n",
    "\n",
    "warnings.filterwarnings('ignore')\n",
    "np.random.seed(1)\n",
    "random.seed(1)\n",
    "import time\n",
    "import gc"
   ]
  },
  {
   "cell_type": "code",
   "execution_count": 29,
   "metadata": {
    "_kg_hide-input": true,
    "_uuid": "d2a5ca4b3bdef8721219199fa32f8aa269b0a0ea"
   },
   "outputs": [],
   "source": [
    "from matplotlib import rcParams\n",
    "rcParams['figure.figsize'] = (8,4)\n",
    "rcParams['font.size'] = 12"
   ]
  },
  {
   "cell_type": "code",
   "execution_count": 30,
   "metadata": {
    "_uuid": "f6cd062118a4b6367524a458e90b41bec8f5a3f8"
   },
   "outputs": [],
   "source": [
    "DEBUG = False\n",
    "REF_DATE = datetime.datetime.strptime('2018-12-31', '%Y-%m-%d')"
   ]
  },
  {
   "cell_type": "markdown",
   "metadata": {
    "_uuid": "092dbb6a27d0c3ec7d582320f3d688092f76065c"
   },
   "source": [
    "<a id='modeling'></a>\n",
    "\n",
    "## Modeling\n",
    "\n",
    "Here we use [out of fold stacking ensemble](https://www.analyticsvidhya.com/blog/2018/06/comprehensive-guide-for-ensemble-models/). The architecture is as followed:\n",
    "\n",
    "**Layer 1**:\n",
    "* 2 lightgbm\n",
    "* 1 xgboost\n",
    "* 1 catboost\n",
    "* 1 dense neural network\n",
    "\n",
    "**Layer 2**:\n",
    "* Lasso regression\n",
    "* Ridge regression\n"
   ]
  },
  {
   "cell_type": "code",
   "execution_count": 31,
   "metadata": {},
   "outputs": [
    {
     "name": "stdout",
     "output_type": "stream",
     "text": [
      "Wall time: 13.4 s\n"
     ]
    }
   ],
   "source": [
    "%%time\n",
    "train = pd.read_csv('train_clean2.csv')\n",
    "test = pd.read_csv('test_clean2.csv')\n",
    "#without_outliers\n",
    "'''train = train[train['outliers'] == 0]]'''\n",
    "target = train['target']"
   ]
  },
  {
   "cell_type": "code",
   "execution_count": 32,
   "metadata": {},
   "outputs": [],
   "source": [
    "features = [col for col in train.columns if col not in ['target', 'ID_code']]\n"
   ]
  },
  {
   "cell_type": "markdown",
   "metadata": {
    "_uuid": "c97eb36f6c18eacde14ee15e1d797111df8d8cc5"
   },
   "source": [
    "### First layer\n",
    "#### Tree-based model"
   ]
  },
  {
   "cell_type": "code",
   "execution_count": 33,
   "metadata": {
    "_kg_hide-input": true,
    "_uuid": "883c8336a77e146defbc92ebc4276147af1145cd"
   },
   "outputs": [],
   "source": [
    "# List of model to use\n",
    "if DEBUG == True:\n",
    "    ITERATIONS = 1\n",
    "else:\n",
    "    ITERATIONS = 20\n",
    "lgb1 = lgb.LGBMRegressor(\n",
    "                        objective= 'binary',\n",
    "                        num_leaves=111,\n",
    "                        max_depth=9,\n",
    "                        learning_rate=0.0035591640406098355,\n",
    "                        n_estimators=ITERATIONS,\n",
    "                        min_child_samples=63,\n",
    "                        subsample=0.6815424617328696,\n",
    "                        subsample_freq=1,\n",
    "                        feature_fraction=0.5020039195436962,\n",
    "                        reg_lambda=8.570580601734264,\n",
    "                        random_state=2779,\n",
    "                        n_jobs=4,\n",
    "                        metric =\"auc\",\n",
    "                          device = 'gpu',\n",
    "                          gpu_platform_id= 1,\n",
    "                          gpu_device_id=0,\n",
    "                          num_thread = 1,\n",
    "                          sparse_threshold= 1)\n",
    "\n",
    "lgb2 = lgb.LGBMRegressor(\n",
    "                       device= 'gpu',\n",
    "            gpu_platform_id= 1,\n",
    "            gpu_device_id= 0,\n",
    "            objective= 'binary', \n",
    "            boosting_type= 'gbdt', \n",
    "            n_jobs= 4, max_depth= 7, \n",
    "            n_estimators= ITERATIONS, \n",
    "            subsample_freq= 2, \n",
    "            subsample_for_bin= 200000, \n",
    "            min_data_per_group= 100, \n",
    "            max_cat_to_onehot= 4, \n",
    "            cat_l2= 10.0, \n",
    "            cat_smooth= 10.0, \n",
    "            max_cat_threshold= 32, \n",
    "            metric_freq= 10, \n",
    "            verbosity= -1, \n",
    "            metric = \"auc\",\n",
    "            colsample_bytree= 0.5, \n",
    "            learning_rate= 0.0061033234451294376, \n",
    "            min_child_samples= 80, \n",
    "            min_child_weight= 100.0, \n",
    "            min_split_gain= 1e-06, \n",
    "            num_leaves= 47, \n",
    "            reg_alpha= 10.0, \n",
    "            reg_lambda= 10.0, \n",
    "            subsample= 0.9)\n",
    "\n"
   ]
  },
  {
   "cell_type": "code",
   "execution_count": 34,
   "metadata": {
    "_uuid": "e9b8682c16601ea57fb80535f8cff0ba283ce80d"
   },
   "outputs": [],
   "source": [
    "if DEBUG==True:\n",
    "    N_FOLDS=2\n",
    "else:\n",
    "    N_FOLDS=2\n",
    "layer1_models = []#, ada1]\n",
    "layer1_names = []#, 'adaboost1']\n"
   ]
  },
  {
   "cell_type": "code",
   "execution_count": 35,
   "metadata": {
    "_kg_hide-input": true,
    "_uuid": "3e422ec61d402e712fe983df24b4ecb00fb26057"
   },
   "outputs": [],
   "source": [
    "oof_train = np.zeros(shape=(len(train),len(layer1_models)))\n",
    "oof_test = np.zeros(shape=(len(test),len(layer1_models)))\n",
    "\n",
    "# Recording results\n",
    "layer1_score = []\n",
    "feature_importance = []"
   ]
  },
  {
   "cell_type": "code",
   "execution_count": 36,
   "metadata": {},
   "outputs": [],
   "source": [
    " def augment_train(df_train, y_train):   \n",
    "    t0 = df_train[y_train == 0].copy()\n",
    "    t1 = df_train[y_train == 1].copy()\n",
    "    i = 0\n",
    "    N = 3\n",
    "    for I in range(2):  # augment data into 2x\n",
    "        for col in df_train.columns:\n",
    "            i = i + 1000\n",
    "            np.random.seed(i)\n",
    "            np.random.shuffle(t0[col].values)\n",
    "            np.random.shuffle(t1[col].values)\n",
    "        df_train = pd.concat([df_train, t0.copy()])\n",
    "        df_train = pd.concat([df_train, t1.copy()])\n",
    "        y_train = pd.concat([y_train, pd.Series([0] * t0.shape[0]), pd.Series([1] * t1.shape[0])])\n",
    "    return df_train, y_train"
   ]
  },
  {
   "cell_type": "code",
   "execution_count": 37,
   "metadata": {
    "_uuid": "e52e62067c5e7340d22a69fd0ef93315ea86ff81",
    "scrolled": true
   },
   "outputs": [],
   "source": [
    "for i in range(len(layer1_models)):\n",
    "    feature_importance_df = pd.DataFrame()\n",
    "    print('\\n')\n",
    "    name = layer1_names[i]\n",
    "    model = layer1_models[i]\n",
    "    folds = StratifiedKFold(n_splits=N_FOLDS, shuffle=True, random_state=2019+i)\n",
    "    print('Training %s' %name)\n",
    "    for fold_, (trn_idx, val_idx) in enumerate(folds.split(train[features], train['target'])):\n",
    "        print('Fold no %i/%i'%(fold_+1,N_FOLDS))\n",
    "        trn_data = train[features].iloc[trn_idx]\n",
    "        trn_label = train['target'].iloc[trn_idx]\n",
    "        val_data = train[features].iloc[val_idx]\n",
    "        val_label = train['target'].iloc[val_idx]\n",
    "        \n",
    "        trn_data, trn_label = augment_train(trn_data, trn_label)\n",
    "        \n",
    "        if 'ada' in name:\n",
    "            model.fit(X=trn_data, y=trn_label)\n",
    "        else:\n",
    "            model.fit(X=trn_data, y=trn_label,\n",
    "                     eval_set=[(trn_data, trn_label), (val_data, val_label)],\n",
    "                     verbose=200,\n",
    "                     early_stopping_rounds=200)\n",
    "\n",
    "        oof_train[val_idx,i] = model.predict(val_data)\n",
    "        oof_test[:,i] += model.predict(test[features])/N_FOLDS\n",
    "        \n",
    "        fold_importance_df = pd.DataFrame()\n",
    "        fold_importance_df[\"feature\"] = features\n",
    "        fold_importance_df[\"importance\"] = model.feature_importances_\n",
    "        fold_importance_df[\"fold\"] = fold_ + 1\n",
    "        feature_importance_df = pd.concat([feature_importance_df, fold_importance_df], axis=0)\n",
    "        \n",
    "    score = roc_auc_score(target,oof_train[:,i])\n",
    "    layer1_score.append(score)\n",
    "    feature_importance.append(feature_importance_df)\n",
    "    print('Training CV score: %.5f' %score)"
   ]
  },
  {
   "cell_type": "raw",
   "metadata": {},
   "source": [
    "Exchange 2 models"
   ]
  },
  {
   "cell_type": "code",
   "execution_count": 38,
   "metadata": {},
   "outputs": [
    {
     "name": "stdout",
     "output_type": "stream",
     "text": [
      "Training CV score for LGB1: 0.90162\n"
     ]
    }
   ],
   "source": [
    "oof_preds=np.loadtxt('lgb5.0_oof.csv',delimiter=',')\n",
    "sub_preds=np.loadtxt('lgb5.0_sub.csv',delimiter=',')\n",
    "\n",
    "score =  roc_auc_score(target, oof_preds)\n",
    "print('Training CV score for LGB1: %.5f' %score)\n",
    "layer1_names.append('LGB1')\n",
    "layer1_score.append(score)\n",
    "\n",
    "oof_preds = oof_preds[:, np.newaxis]\n",
    "sub_preds = sub_preds[:, np.newaxis]\n",
    "oof_train = np.hstack((oof_train, oof_preds))\n",
    "oof_test = np.hstack((oof_test, sub_preds))"
   ]
  },
  {
   "cell_type": "code",
   "execution_count": 39,
   "metadata": {},
   "outputs": [
    {
     "name": "stdout",
     "output_type": "stream",
     "text": [
      "Training CV score for LGB2: 0.90162\n"
     ]
    }
   ],
   "source": [
    "oof_preds=np.loadtxt('lgb_oof_a.csv',delimiter=',')\n",
    "sub_preds=np.loadtxt('lgb_sub_a.csv',delimiter=',')\n",
    "\n",
    "score =  roc_auc_score(target, oof_preds)\n",
    "print('Training CV score for LGB2: %.5f' %score)\n",
    "layer1_names.append('LGB2')\n",
    "layer1_score.append(score)\n",
    "\n",
    "oof_preds = oof_preds[:, np.newaxis]\n",
    "sub_preds = sub_preds[:, np.newaxis]\n",
    "oof_train = np.hstack((oof_train, oof_preds))\n",
    "oof_test = np.hstack((oof_test, sub_preds))"
   ]
  },
  {
   "cell_type": "markdown",
   "metadata": {},
   "source": [
    "oof_preds=np.loadtxt('stacking_oof.csv',delimiter=',')\n",
    "sub_preds=np.loadtxt('stacking_sub.csv',delimiter=',')\n",
    "\n",
    "score =  roc_auc_score(target, oof_preds)\n",
    "print('Training CV score for stacking: %.5f' %score)\n",
    "layer1_names.append('stacking')\n",
    "layer1_score.append(score)\n",
    "\n",
    "oof_preds = oof_preds[:, np.newaxis]\n",
    "sub_preds = sub_preds[:, np.newaxis]\n",
    "oof_train = np.hstack((oof_train, oof_preds))\n",
    "oof_test = np.hstack((oof_test, sub_preds))"
   ]
  },
  {
   "cell_type": "markdown",
   "metadata": {},
   "source": [
    "oof_preds=np.loadtxt('Cat_oof.csv',delimiter=',')\n",
    "sub_preds=np.loadtxt('Cat_sub.csv',delimiter=',')\n",
    "\n",
    "score =  roc_auc_score(target, oof_preds)\n",
    "print('Training CV score for Cat: %.5f' %score)\n",
    "layer1_names.append('Cat')\n",
    "layer1_score.append(score)\n",
    "\n",
    "oof_preds = oof_preds[:, np.newaxis]\n",
    "sub_preds = sub_preds[:, np.newaxis]\n",
    "oof_train = np.hstack((oof_train, oof_preds))\n",
    "oof_test = np.hstack((oof_test, sub_preds))"
   ]
  },
  {
   "cell_type": "markdown",
   "metadata": {},
   "source": [
    "oof_preds=np.loadtxt('xgb_oof2.0_preds.csv',delimiter=',')\n",
    "sub_preds=np.loadtxt('xgb_sub2.0_preds.csv',delimiter=',')\n",
    "\n",
    "score =  roc_auc_score(target, oof_preds)\n",
    "print('Training CV score for xgb: %.5f' %score)\n",
    "layer1_names.append('xgb')\n",
    "layer1_score.append(score)\n",
    "\n",
    "oof_preds = oof_preds[:, np.newaxis]\n",
    "sub_preds = sub_preds[:, np.newaxis]\n",
    "oof_train = np.hstack((oof_train, oof_preds))\n",
    "oof_test = np.hstack((oof_test, sub_preds))"
   ]
  },
  {
   "cell_type": "markdown",
   "metadata": {},
   "source": [
    "oof_preds=np.loadtxt('oof_submission.csv',delimiter=',')\n",
    "sub_preds=np.loadtxt('submission.csv',delimiter=',')\n",
    "\n",
    "score =  roc_auc_score(target, oof_preds)\n",
    "print('Training CV score for submissionn: %.5f' %score)\n",
    "layer1_names.append('submission')\n",
    "layer1_score.append(score)\n",
    "\n",
    "oof_preds = oof_preds[:, np.newaxis]\n",
    "sub_preds = sub_preds[:, np.newaxis]\n",
    "oof_train = np.hstack((oof_train, oof_preds))\n",
    "oof_test = np.hstack((oof_test, sub_preds))"
   ]
  },
  {
   "cell_type": "code",
   "execution_count": 44,
   "metadata": {},
   "outputs": [
    {
     "data": {
      "text/plain": [
       "['LGB1', 'LGB2', 'stacking', 'Cat', 'xgb', 'submission']"
      ]
     },
     "execution_count": 44,
     "metadata": {},
     "output_type": "execute_result"
    }
   ],
   "source": [
    "layer1_names"
   ]
  },
  {
   "cell_type": "markdown",
   "metadata": {
    "_uuid": "b8961f81ec04b90554d5e36d0177cf0645d855a6"
   },
   "source": [
    "#### Layer 1 summary"
   ]
  },
  {
   "cell_type": "code",
   "execution_count": 45,
   "metadata": {
    "_uuid": "f442a72a9eb2c91add955488c3c209e2e14697f7",
    "scrolled": true
   },
   "outputs": [
    {
     "data": {
      "text/html": [
       "<div>\n",
       "<style scoped>\n",
       "    .dataframe tbody tr th:only-of-type {\n",
       "        vertical-align: middle;\n",
       "    }\n",
       "\n",
       "    .dataframe tbody tr th {\n",
       "        vertical-align: top;\n",
       "    }\n",
       "\n",
       "    .dataframe thead th {\n",
       "        text-align: right;\n",
       "    }\n",
       "</style>\n",
       "<table border=\"1\" class=\"dataframe\">\n",
       "  <thead>\n",
       "    <tr style=\"text-align: right;\">\n",
       "      <th></th>\n",
       "      <th>models</th>\n",
       "      <th>CV_score</th>\n",
       "    </tr>\n",
       "  </thead>\n",
       "  <tbody>\n",
       "    <tr>\n",
       "      <th>0</th>\n",
       "      <td>LGB1</td>\n",
       "      <td>0.901618</td>\n",
       "    </tr>\n",
       "    <tr>\n",
       "      <th>1</th>\n",
       "      <td>LGB2</td>\n",
       "      <td>0.901618</td>\n",
       "    </tr>\n",
       "    <tr>\n",
       "      <th>2</th>\n",
       "      <td>stacking</td>\n",
       "      <td>0.901580</td>\n",
       "    </tr>\n",
       "    <tr>\n",
       "      <th>3</th>\n",
       "      <td>Cat</td>\n",
       "      <td>0.900604</td>\n",
       "    </tr>\n",
       "    <tr>\n",
       "      <th>4</th>\n",
       "      <td>xgb</td>\n",
       "      <td>0.900427</td>\n",
       "    </tr>\n",
       "    <tr>\n",
       "      <th>5</th>\n",
       "      <td>submission</td>\n",
       "      <td>0.920107</td>\n",
       "    </tr>\n",
       "  </tbody>\n",
       "</table>\n",
       "</div>"
      ],
      "text/plain": [
       "       models  CV_score\n",
       "0        LGB1  0.901618\n",
       "1        LGB2  0.901618\n",
       "2    stacking  0.901580\n",
       "3         Cat  0.900604\n",
       "4         xgb  0.900427\n",
       "5  submission  0.920107"
      ]
     },
     "execution_count": 45,
     "metadata": {},
     "output_type": "execute_result"
    }
   ],
   "source": [
    "# Print first layer result\n",
    "layer1 = pd.DataFrame()\n",
    "layer1['models'] = layer1_names\n",
    "layer1['CV_score'] = layer1_score\n",
    "layer1"
   ]
  },
  {
   "cell_type": "code",
   "execution_count": 46,
   "metadata": {
    "_uuid": "01896a7b9e3031e39f208d552fee686181b6ffa9"
   },
   "outputs": [
    {
     "data": {
      "text/plain": [
       "Text(0.5,1,'Pair-wise correlation')"
      ]
     },
     "execution_count": 46,
     "metadata": {},
     "output_type": "execute_result"
    },
    {
     "data": {
      "image/png": "[encoded data removed]",
      "text/plain": [
       "<Figure size 864x864 with 2 Axes>"
      ]
     },
     "metadata": {},
     "output_type": "display_data"
    }
   ],
   "source": [
    "layer1_corr = pd.DataFrame()\n",
    "for i in range(len(layer1_names)):\n",
    "    layer1_corr[layer1_names[i]] = oof_train[:,i]\n",
    "layer1_corr['target'] = target\n",
    "colormap = plt.cm.RdBu\n",
    "plt.figure(figsize=(12,12))\n",
    "sns.heatmap(layer1_corr.astype(float).corr(), linewidths=0.1, vmax=1.0, vmin=-1., square=True, cmap=colormap, linecolor='white', annot=True)\n",
    "plt.title('Pair-wise correlation')"
   ]
  },
  {
   "cell_type": "markdown",
   "metadata": {
    "_uuid": "3d1025058574c71118ff479af923547a4036a3fc"
   },
   "source": [
    "### Second layer"
   ]
  },
  {
   "cell_type": "code",
   "execution_count": 47,
   "metadata": {
    "_kg_hide-input": true,
    "_uuid": "18dfb0e87854e90ae33f0933af01065062300c23"
   },
   "outputs": [],
   "source": [
    "# Setup the model\n",
    "ridge = Ridge(alpha=0.5)#, fit_intercept=False)\n",
    "lasso = Lasso(alpha=0.5)\n",
    "lars = Lars(fit_intercept=False, positive=True)\n",
    "layer2_models = [lars]#[ridge]# lasso]\n",
    "layer2_names = ['Lars']#['ridge'] #, 'lasso']\n",
    "#params_grid = {'alpha':[0.05,0.1,0.4,1.0]}\n",
    "\n",
    "# Setup to record result\n",
    "train_pred = np.zeros(len(train))\n",
    "test_pred = np.zeros(len(test))\n",
    "\n",
    "layer2 = pd.DataFrame()\n",
    "layer2['models'] = layer2_names\n",
    "layer2_score = []"
   ]
  },
  {
   "cell_type": "code",
   "execution_count": 48,
   "metadata": {
    "_uuid": "75059c60d4056e1caf4018938e2d7f7512a6314d"
   },
   "outputs": [
    {
     "name": "stdout",
     "output_type": "stream",
     "text": [
      "\n",
      "\n",
      "Training Lars\n",
      "Training score: 0.92074\n"
     ]
    },
    {
     "data": {
      "text/html": [
       "<div>\n",
       "<style scoped>\n",
       "    .dataframe tbody tr th:only-of-type {\n",
       "        vertical-align: middle;\n",
       "    }\n",
       "\n",
       "    .dataframe tbody tr th {\n",
       "        vertical-align: top;\n",
       "    }\n",
       "\n",
       "    .dataframe thead th {\n",
       "        text-align: right;\n",
       "    }\n",
       "</style>\n",
       "<table border=\"1\" class=\"dataframe\">\n",
       "  <thead>\n",
       "    <tr style=\"text-align: right;\">\n",
       "      <th></th>\n",
       "      <th>Name</th>\n",
       "      <th>Coefficient</th>\n",
       "    </tr>\n",
       "  </thead>\n",
       "  <tbody>\n",
       "    <tr>\n",
       "      <th>0</th>\n",
       "      <td>LGB1</td>\n",
       "      <td>0.000000</td>\n",
       "    </tr>\n",
       "    <tr>\n",
       "      <th>1</th>\n",
       "      <td>LGB2</td>\n",
       "      <td>-0.041009</td>\n",
       "    </tr>\n",
       "    <tr>\n",
       "      <th>2</th>\n",
       "      <td>stacking</td>\n",
       "      <td>0.164767</td>\n",
       "    </tr>\n",
       "    <tr>\n",
       "      <th>3</th>\n",
       "      <td>Cat</td>\n",
       "      <td>0.053206</td>\n",
       "    </tr>\n",
       "    <tr>\n",
       "      <th>4</th>\n",
       "      <td>xgb</td>\n",
       "      <td>0.000000</td>\n",
       "    </tr>\n",
       "    <tr>\n",
       "      <th>5</th>\n",
       "      <td>submission</td>\n",
       "      <td>0.851572</td>\n",
       "    </tr>\n",
       "  </tbody>\n",
       "</table>\n",
       "</div>"
      ],
      "text/plain": [
       "         Name  Coefficient\n",
       "0        LGB1     0.000000\n",
       "1        LGB2    -0.041009\n",
       "2    stacking     0.164767\n",
       "3         Cat     0.053206\n",
       "4         xgb     0.000000\n",
       "5  submission     0.851572"
      ]
     },
     "execution_count": 48,
     "metadata": {},
     "output_type": "execute_result"
    }
   ],
   "source": [
    "# For regression\n",
    "\n",
    "for i in range(len(layer2_models)):\n",
    "    print('\\n')\n",
    "    name = layer2_names[i]\n",
    "    model = layer2_models[i]\n",
    "    print('Training %s' %name)\n",
    "    #model, score = do_regressor((oof_train, target), model=model, parameters=params_grid)\n",
    "    model.fit(oof_train, target)\n",
    "    score = roc_auc_score(target,model.predict(oof_train) )\n",
    "    train_pred += model.predict(oof_train)/len(layer2_models)\n",
    "    test_pred += model.predict(oof_test)/len(layer2_models)\n",
    "    layer2_score.append(score)\n",
    "    print('Training score: %.5f' % score)\n",
    "\n",
    "#layer2['CV score'] = layer2_score\n",
    "#layer2\n",
    "\n",
    "layer2_coef = pd.DataFrame()\n",
    "layer2_coef['Name'] = layer1_names\n",
    "layer2_coef['Coefficient'] = model.coef_\n",
    "#layer2_coef['Coefficient'] = coef\n",
    "layer2_coef"
   ]
  },
  {
   "cell_type": "code",
   "execution_count": 49,
   "metadata": {
    "_uuid": "e41a01c2e2f256ba00678f0bfa3f93cbfe3d33b8"
   },
   "outputs": [
    {
     "data": {
      "text/plain": [
       "\"\\n# Taking average\\ntrain_pred = np.mean(oof_train, axis=1)\\ntest_pred = np.mean(oof_test, axis=1)\\nprint('Training score: %.5f' %mean_squared_error(train_pred, target)**0.5)\\n\""
      ]
     },
     "execution_count": 49,
     "metadata": {},
     "output_type": "execute_result"
    }
   ],
   "source": [
    "'''\n",
    "# Taking average\n",
    "train_pred = np.mean(oof_train, axis=1)\n",
    "test_pred = np.mean(oof_test, axis=1)\n",
    "print('Training score: %.5f' %mean_squared_error(train_pred, target)**0.5)\n",
    "'''"
   ]
  },
  {
   "cell_type": "code",
   "execution_count": 50,
   "metadata": {
    "_uuid": "9cfb750ba870534ffbeeed38950fe9c51b6b3e8b"
   },
   "outputs": [],
   "source": [
    "#np.sum(model.coef_)"
   ]
  },
  {
   "cell_type": "code",
   "execution_count": 51,
   "metadata": {
    "_uuid": "29066ed554eb1dc196760fb8e17fc52e200b75c4",
    "scrolled": true
   },
   "outputs": [
    {
     "data": {
      "image/png": "[encoded data removed]",
      "text/plain": [
       "<Figure size 576x360 with 1 Axes>"
      ]
     },
     "metadata": {},
     "output_type": "display_data"
    }
   ],
   "source": [
    "plt.figure(figsize=(8,5))\n",
    "plt.scatter(range(len(test_pred)), np.sort(test_pred))\n",
    "plt.xlabel('index', fontsize=12)\n",
    "plt.ylabel('Loyalty Score', fontsize=12)\n",
    "plt.title('Loyalty score before scaling')\n",
    "plt.show()"
   ]
  },
  {
   "cell_type": "code",
   "execution_count": 52,
   "metadata": {
    "_uuid": "037b8320701f902bc2ee267984139a77fb6f9ade"
   },
   "outputs": [],
   "source": [
    "# Refit to the target\n",
    "train_scaler = StandardScaler()\n",
    "#train_scaler.fit(target.values.reshape(-1,1))\n",
    "#test_pred = train_scaler.inverse_transform(test_pred.reshape(-1,1))"
   ]
  },
  {
   "cell_type": "markdown",
   "metadata": {
    "_uuid": "61f5c9202172b3e6b90fd9bc2c1982219e6ecd64"
   },
   "source": [
    "### Submission"
   ]
  },
  {
   "cell_type": "code",
   "execution_count": 53,
   "metadata": {
    "_uuid": "e6cf79c20304e868c09dfd7d6610fc3eb32853ab"
   },
   "outputs": [],
   "source": [
    "#sub_df = pd.DataFrame({\"card_id\":test[\"card_id\"].values})\n",
    "sample_submission = pd.read_csv('../input/sample_submission.csv')\n",
    "sample_submission[\"target\"] = test_pred\n",
    "sample_submission.to_csv(\"model-stacking-8.csv \", index=False)"
   ]
  },
  {
   "cell_type": "code",
   "execution_count": null,
   "metadata": {},
   "outputs": [],
   "source": []
  }
 ],
 "metadata": {
  "kernelspec": {
   "display_name": "Python 3",
   "language": "python",
   "name": "python3"
  },
  "language_info": {
   "codemirror_mode": {
    "name": "ipython",
    "version": 3
   },
   "file_extension": ".py",
   "mimetype": "text/x-python",
   "name": "python",
   "nbconvert_exporter": "python",
   "pygments_lexer": "ipython3",
   "version": "3.6.5"
  }
 },
 "nbformat": 4,
 "nbformat_minor": 1
}
